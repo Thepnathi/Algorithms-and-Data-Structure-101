{
 "cells": [
  {
   "cell_type": "markdown",
   "metadata": {},
   "source": [
    "# Daily Coding Problems"
   ]
  },
  {
   "cell_type": "markdown",
   "metadata": {},
   "source": [
    "This problem was recently asked by Google.\n",
    "Given a list of numbers and a number k, return whether any two numbers from the list add up to k.\n",
    "For example, given [10, 15, 3, 7] and k of 17, return true since 10 + 7 is 17.\n",
    "Bonus: Can you do this in one pass?"
   ]
  },
  {
   "cell_type": "code",
   "execution_count": 2,
   "metadata": {},
   "outputs": [
    {
     "data": {
      "text/plain": [
       "False"
      ]
     },
     "execution_count": 2,
     "metadata": {},
     "output_type": "execute_result"
    }
   ],
   "source": [
    "from typing import List\n",
    "\n",
    "def twoSum(nums: List[int], target: int) -> bool:\n",
    "    dict = {}\n",
    "    \n",
    "    for i, num in enumerate(nums):\n",
    "        if (target-num) in dict:\n",
    "            return True\n",
    "        dict[num] = num\n",
    "    return False\n",
    "twoSum([10, 15, 3, 7], 17)\n",
    "twoSum([], 1)"
   ]
  },
  {
   "cell_type": "markdown",
   "metadata": {},
   "source": [
    "Given an array of integers, return a new array such that each element at index i of the new array is the product of all the numbers in the original array except the one at i.\n",
    "\n",
    "For example, if our input was [1, 2, 3, 4, 5], the expected output would be [120, 60, 40, 30, 24]. "
   ]
  },
  {
   "cell_type": "code",
   "execution_count": 1,
   "metadata": {},
   "outputs": [
    {
     "ename": "NameError",
     "evalue": "name 'List' is not defined",
     "output_type": "error",
     "traceback": [
      "\u001b[1;31m---------------------------------------------------------------------------\u001b[0m",
      "\u001b[1;31mNameError\u001b[0m                                 Traceback (most recent call last)",
      "\u001b[1;32m<ipython-input-1-8254836884b7>\u001b[0m in \u001b[0;36m<module>\u001b[1;34m\u001b[0m\n\u001b[1;32m----> 1\u001b[1;33m \u001b[1;32mdef\u001b[0m \u001b[0mproductExceptSelf\u001b[0m\u001b[1;33m(\u001b[0m\u001b[0mnums\u001b[0m\u001b[1;33m:\u001b[0m \u001b[0mList\u001b[0m\u001b[1;33m[\u001b[0m\u001b[0mint\u001b[0m\u001b[1;33m]\u001b[0m\u001b[1;33m)\u001b[0m \u001b[1;33m->\u001b[0m \u001b[0mList\u001b[0m\u001b[1;33m[\u001b[0m\u001b[0mint\u001b[0m\u001b[1;33m]\u001b[0m\u001b[1;33m:\u001b[0m\u001b[1;33m\u001b[0m\u001b[1;33m\u001b[0m\u001b[0m\n\u001b[0m\u001b[0;32m      2\u001b[0m     \u001b[1;31m# if there is two zeroes we will always get 0\u001b[0m\u001b[1;33m\u001b[0m\u001b[1;33m\u001b[0m\u001b[1;33m\u001b[0m\u001b[0m\n\u001b[0;32m      3\u001b[0m     \u001b[1;31m# 0 .Collection\u001b[0m\u001b[1;33m\u001b[0m\u001b[1;33m\u001b[0m\u001b[1;33m\u001b[0m\u001b[0m\n\u001b[0;32m      4\u001b[0m \u001b[1;33m\u001b[0m\u001b[0m\n\u001b[0;32m      5\u001b[0m     \u001b[0mdict\u001b[0m \u001b[1;33m=\u001b[0m \u001b[1;33m{\u001b[0m\u001b[1;33m}\u001b[0m\u001b[1;33m\u001b[0m\u001b[1;33m\u001b[0m\u001b[0m\n",
      "\u001b[1;31mNameError\u001b[0m: name 'List' is not defined"
     ]
    }
   ],
   "source": [
    "def productExceptSelf(nums: List[int]) -> List[int]:\n",
    "    # if there is two zeroes we will always get 0\n",
    "    # 0 .Collection\n",
    "    \n",
    "    dict = {}\n",
    "    all_multiplied = 1\n",
    "    result = []\n",
    "    \n",
    "    # count 0\n",
    "    for i, num in enumerate(nums):\n",
    "        if num == 0 and num in dict:\n",
    "            dict[num].append(i)\n",
    "        elif num == 0:\n",
    "            dict[num] = [i]\n",
    "     \n",
    "    if 0 in dict:\n",
    "        if len(dict[0]) > 1:\n",
    "            return [0] * len(nums)\n",
    "        else:\n",
    "            for i, num in enumerate(nums):\n",
    "                if num != 0:\n",
    "                    all_multiplied *= num\n",
    "                    \n",
    "            for i, num in enumerate(nums):\n",
    "                if num == 0:\n",
    "                    if dict[0][0] == i:\n",
    "                        result.append(int(all_multiplied))\n",
    "                else:\n",
    "                    result.append(0)\n",
    "    else:\n",
    "        for i, num in enumerate(nums):\n",
    "            all_multiplied *= num\n",
    "        for i, num in enumerate(nums):\n",
    "            result.append(int(all_multiplied/num))\n",
    "    return result\n",
    "        \n",
    "    \n",
    "# productExceptSelf([3, 2, 1])\n",
    "# productExceptSelf([0, 0])\n",
    "productExceptSelf([0, 0, 2])"
   ]
  },
  {
   "cell_type": "markdown",
   "metadata": {},
   "source": [
    "### Job scheduler\n",
    "Implement a job scheduler which takes in a function f and an integer n, and calls f after n milliseconds."
   ]
  },
  {
   "cell_type": "code",
   "execution_count": 12,
   "metadata": {},
   "outputs": [
    {
     "name": "stdout",
     "output_type": "stream",
     "text": [
      "Goodbye World\n",
      "Hello World\n"
     ]
    }
   ],
   "source": [
    "import threading\n",
    "\n",
    "def helloWorld():\n",
    "    print(\"Hello World\")\n",
    "    \n",
    "def jobScheduler(f, n: int):\n",
    "    timer = threading.Timer(n/1000, f)\n",
    "    timer.start()\n",
    "    \n",
    "jobScheduler(helloWorld, 2000)\n",
    "print(\"Goodbye World\")"
   ]
  }
 ],
 "metadata": {
  "kernelspec": {
   "display_name": "Python 3.8.2 64-bit",
   "language": "python",
   "name": "python38264bitd343ca77bf834830942a906cabbbade6"
  },
  "language_info": {
   "codemirror_mode": {
    "name": "ipython",
    "version": 3
   },
   "file_extension": ".py",
   "mimetype": "text/x-python",
   "name": "python",
   "nbconvert_exporter": "python",
   "pygments_lexer": "ipython3",
   "version": "3.8.2"
  }
 },
 "nbformat": 4,
 "nbformat_minor": 4
}
