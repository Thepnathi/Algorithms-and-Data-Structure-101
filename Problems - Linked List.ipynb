{
 "cells": [
  {
   "cell_type": "code",
   "execution_count": 55,
   "metadata": {},
   "outputs": [
    {
     "name": "stdout",
     "output_type": "stream",
     "text": [
      "1-->2-->3-->\n"
     ]
    }
   ],
   "source": [
    "from typing import List, Dict\n",
    "\n",
    "class ListNode: \n",
    "    def __init__(self, val=0, next=None):\n",
    "        self.val = val\n",
    "        self.next = next\n",
    "\n",
    "class LinkedList:\n",
    "    def __init__(self, nums: List[int]) -> None:\n",
    "        self.head = self.initList(nums)\n",
    "    \n",
    "    def initList(self, nums: List[int]) -> ListNode:\n",
    "        head, dummy = None, None\n",
    "        for num in nums:\n",
    "            if not dummy:\n",
    "                dummy = ListNode(num)\n",
    "                head = dummy\n",
    "            else:\n",
    "                dummy.next = ListNode(num)\n",
    "                dummy = dummy.next\n",
    "        return head\n",
    "                \n",
    "    def head(self) -> ListNode:\n",
    "        return self.head\n",
    "\n",
    "def printLinkedList(root: ListNode) -> None:\n",
    "    result = \"\"\n",
    "    while root:\n",
    "        result += f\"{root.val}-->\"\n",
    "        root = root.next\n",
    "    print(result)\n",
    "    \n",
    "l1 = LinkedList([1,2,3])\n",
    "printLinkedList(l1.head)"
   ]
  },
  {
   "cell_type": "code",
   "execution_count": 2,
   "metadata": {},
   "outputs": [
    {
     "data": {
      "text/plain": [
       "False"
      ]
     },
     "execution_count": 2,
     "metadata": {},
     "output_type": "execute_result"
    }
   ],
   "source": [
    "linked = LinkedList()\n",
    "linked.head, linked_body = ListNode(1), [8, 3, 2, 1]\n",
    "for i in linked_body: linked.appendTo(i)\n",
    "    \n",
    "class Solution:\n",
    "    def isPalindrome(self, head: ListNode) -> bool:\n",
    "        visited = []\n",
    "        \n",
    "        current = head\n",
    "        while current:\n",
    "            visited.append(current.val)\n",
    "            current = current.next if current.next else None\n",
    "        current = head\n",
    "        for i in range(len(visited) - 1, -1, -1):\n",
    "            if visited[i] != current.val:\n",
    "                return False\n",
    "            current = current.next\n",
    "        return True\n",
    "            \n",
    "s = Solution()\n",
    "s.isPalindrome(linked.head)"
   ]
  },
  {
   "cell_type": "code",
   "execution_count": 3,
   "metadata": {
    "collapsed": true
   },
   "outputs": [
    {
     "name": "stderr",
     "output_type": "stream",
     "text": [
      "<>:12: SyntaxWarning: \"is\" with a literal. Did you mean \"==\"?\n",
      "<>:12: SyntaxWarning: \"is\" with a literal. Did you mean \"==\"?\n",
      "<ipython-input-3-211f9c268495>:12: SyntaxWarning: \"is\" with a literal. Did you mean \"==\"?\n",
      "  if num is 0:\n"
     ]
    },
    {
     "data": {
      "text/plain": [
       "[5, 6]"
      ]
     },
     "execution_count": 3,
     "metadata": {},
     "output_type": "execute_result"
    }
   ],
   "source": [
    "from typing import List\n",
    "\n",
    "class Solution:\n",
    "    def findDisappearedNumbers(self, nums: List[int]) -> List[int]:\n",
    "        result = len(nums) * [0]\n",
    "        ans = []\n",
    "        \n",
    "        for i, num in enumerate(nums):\n",
    "            result[num-1] = num\n",
    "            \n",
    "        for i, num in enumerate(result):\n",
    "            if num is 0:\n",
    "                ans.append(i+1)\n",
    "        return ans\n",
    "        \n",
    "t1 = [4,3,2,7,8,2,3,1]\n",
    "\n",
    "s = Solution()\n",
    "s.findDisappearedNumbers(t1)"
   ]
  },
  {
   "cell_type": "code",
   "execution_count": 29,
   "metadata": {},
   "outputs": [
    {
     "data": {
      "text/plain": [
       "2"
      ]
     },
     "execution_count": 29,
     "metadata": {},
     "output_type": "execute_result"
    }
   ],
   "source": [
    "class Solution:\n",
    "    def mergeTwoLists(self, l1: ListNode, l2: ListNode) -> ListNode:\n",
    "        if not l1 and not l2:\n",
    "            return l1\n",
    "            \n",
    "        result = []\n",
    "        p1 = l1\n",
    "        p2 = l2\n",
    "        \n",
    "        while p1 or p2:\n",
    "            if p1 is None:\n",
    "                result.append(p2.val)\n",
    "                p2 = p2.next\n",
    "            elif p2 is None:\n",
    "                result.append(p1.val)\n",
    "                p1 = p1.next\n",
    "            else:  \n",
    "                if p1.val == p2.val:\n",
    "                    result.append(p1.val)\n",
    "                    result.append(p2.val)\n",
    "                    p1 = p1.next\n",
    "                    p2 = p2.next\n",
    "                if p1.val < p2.val:\n",
    "                    result.append(p1.val)\n",
    "                    p1 = p1.next\n",
    "                elif p2.val < p1.val:\n",
    "                    result.append(p2.val)\n",
    "                    p2 = p2.next\n",
    "        newList = ListNode(result[0])\n",
    "        for i in range(1, len(result)):\n",
    "            curr = newList\n",
    "            while (curr.next != None):\n",
    "                curr = curr.next\n",
    "            curr.next = ListNode(result[i])\n",
    "\n",
    "        return newList\n",
    "    \n",
    "    def mergeTwoLists_Better(self, l1: ListNode, l2: ListNode) -> ListNode:\n",
    "        dummy_head = tail = ListNode()\n",
    "        \n",
    "        while l1 and l2:\n",
    "            if l1.val <= l2.val:\n",
    "                tail.next = l1\n",
    "                l1 = l1.next\n",
    "            else:\n",
    "                tail.next = l2\n",
    "                l2 = l2.next\n",
    "            tail = tail.next\n",
    "            \n",
    "        # append the remaining \n",
    "        tail.next = l1 or l2\n",
    "        return dummy_head.next\n",
    "            \n",
    "s = Solution()\n",
    "re = s.mergeTwoLists(a, b)\n",
    "re.next.val"
   ]
  },
  {
   "cell_type": "code",
   "execution_count": 51,
   "metadata": {},
   "outputs": [
    {
     "data": {
      "text/plain": [
       "True"
      ]
     },
     "execution_count": 51,
     "metadata": {},
     "output_type": "execute_result"
    }
   ],
   "source": [
    "class Solution:\n",
    "    def hasCycle(self, head: ListNode) -> bool:\n",
    "        if head is None:\n",
    "            return False\n",
    "        \n",
    "        slow, fast = head, head.next\n",
    "        \n",
    "        while slow:\n",
    "            if fast == None:\n",
    "                return False\n",
    "            elif slow.next == None or fast.next is None:\n",
    "                return False\n",
    "            elif fast == slow:\n",
    "                return True\n",
    "            else:\n",
    "                slow = slow.next\n",
    "                fast = fast.next.next\n",
    "                \n",
    "root = ListNode(1)\n",
    "root.next = ListNode(2)\n",
    "root.next.next = ListNode(3)\n",
    "root.next.next.next = ListNode(4)\n",
    "root.next.next.next.next = ListNode(5)\n",
    "root.next.next.next.next.next = root\n",
    "s = Solution()\n",
    "s.hasCycle(root)"
   ]
  },
  {
   "cell_type": "code",
   "execution_count": 1,
   "metadata": {},
   "outputs": [
    {
     "ename": "NameError",
     "evalue": "name 'ListNode' is not defined",
     "output_type": "error",
     "traceback": [
      "\u001b[1;31m---------------------------------------------------------------------------\u001b[0m",
      "\u001b[1;31mNameError\u001b[0m                                 Traceback (most recent call last)",
      "\u001b[1;32m<ipython-input-1-24963dd9c453>\u001b[0m in \u001b[0;36m<module>\u001b[1;34m\u001b[0m\n\u001b[1;32m----> 1\u001b[1;33m \u001b[1;32mclass\u001b[0m \u001b[0mSolution\u001b[0m\u001b[1;33m:\u001b[0m\u001b[1;33m\u001b[0m\u001b[1;33m\u001b[0m\u001b[0m\n\u001b[0m\u001b[0;32m      2\u001b[0m     \u001b[1;32mdef\u001b[0m \u001b[0mdetectCycle\u001b[0m\u001b[1;33m(\u001b[0m\u001b[0mself\u001b[0m\u001b[1;33m,\u001b[0m \u001b[0mhead\u001b[0m\u001b[1;33m:\u001b[0m \u001b[0mListNode\u001b[0m\u001b[1;33m)\u001b[0m \u001b[1;33m->\u001b[0m \u001b[0mListNode\u001b[0m\u001b[1;33m:\u001b[0m\u001b[1;33m\u001b[0m\u001b[1;33m\u001b[0m\u001b[0m\n\u001b[0;32m      3\u001b[0m         \u001b[1;31m# head is none\u001b[0m\u001b[1;33m\u001b[0m\u001b[1;33m\u001b[0m\u001b[1;33m\u001b[0m\u001b[0m\n\u001b[0;32m      4\u001b[0m         \u001b[1;31m# head has one value\u001b[0m\u001b[1;33m\u001b[0m\u001b[1;33m\u001b[0m\u001b[1;33m\u001b[0m\u001b[0m\n\u001b[0;32m      5\u001b[0m \u001b[1;33m\u001b[0m\u001b[0m\n",
      "\u001b[1;32m<ipython-input-1-24963dd9c453>\u001b[0m in \u001b[0;36mSolution\u001b[1;34m()\u001b[0m\n\u001b[0;32m      1\u001b[0m \u001b[1;32mclass\u001b[0m \u001b[0mSolution\u001b[0m\u001b[1;33m:\u001b[0m\u001b[1;33m\u001b[0m\u001b[1;33m\u001b[0m\u001b[0m\n\u001b[1;32m----> 2\u001b[1;33m     \u001b[1;32mdef\u001b[0m \u001b[0mdetectCycle\u001b[0m\u001b[1;33m(\u001b[0m\u001b[0mself\u001b[0m\u001b[1;33m,\u001b[0m \u001b[0mhead\u001b[0m\u001b[1;33m:\u001b[0m \u001b[0mListNode\u001b[0m\u001b[1;33m)\u001b[0m \u001b[1;33m->\u001b[0m \u001b[0mListNode\u001b[0m\u001b[1;33m:\u001b[0m\u001b[1;33m\u001b[0m\u001b[1;33m\u001b[0m\u001b[0m\n\u001b[0m\u001b[0;32m      3\u001b[0m         \u001b[1;31m# head is none\u001b[0m\u001b[1;33m\u001b[0m\u001b[1;33m\u001b[0m\u001b[1;33m\u001b[0m\u001b[0m\n\u001b[0;32m      4\u001b[0m         \u001b[1;31m# head has one value\u001b[0m\u001b[1;33m\u001b[0m\u001b[1;33m\u001b[0m\u001b[1;33m\u001b[0m\u001b[0m\n\u001b[0;32m      5\u001b[0m \u001b[1;33m\u001b[0m\u001b[0m\n",
      "\u001b[1;31mNameError\u001b[0m: name 'ListNode' is not defined"
     ]
    }
   ],
   "source": [
    "class Solution:\n",
    "    def detectCycle(self, head: ListNode) -> ListNode:\n",
    "        # head is none\n",
    "        # head has one value\n",
    "\n",
    "        fast = head\n",
    "        slow = head\n",
    "        \n",
    "        while fast and fast.next and fast.next.next:\n",
    "            slow = slow.next\n",
    "            fast = fast.next\n",
    "            if slow is fast:\n",
    "                slow = head\n",
    "                while slow is not fast:\n",
    "                    slow, fast = slow.next, fast.next\n",
    "                return slow\n",
    "        return None\n",
    "            \n",
    "root = ListNode(1)\n",
    "root.next = ListNode(2)\n",
    "root.next.next = ListNode(3)\n",
    "root.next.next.next = ListNode(4)\n",
    "root.next.next.next.next = ListNode(5)\n",
    "root.next.next.next.next.next = root\n",
    "            \n",
    "s = Solution()\n",
    "r = s.detectCycle(root)\n",
    "r.val"
   ]
  },
  {
   "cell_type": "code",
   "execution_count": 1,
   "metadata": {},
   "outputs": [
    {
     "ename": "NameError",
     "evalue": "name 'ListNode' is not defined",
     "output_type": "error",
     "traceback": [
      "\u001b[1;31m---------------------------------------------------------------------------\u001b[0m",
      "\u001b[1;31mNameError\u001b[0m                                 Traceback (most recent call last)",
      "\u001b[1;32m<ipython-input-1-a30fd32a197d>\u001b[0m in \u001b[0;36m<module>\u001b[1;34m\u001b[0m\n\u001b[0;32m      4\u001b[0m \u001b[1;31m#         self.val = val\u001b[0m\u001b[1;33m\u001b[0m\u001b[1;33m\u001b[0m\u001b[1;33m\u001b[0m\u001b[0m\n\u001b[0;32m      5\u001b[0m \u001b[1;31m#         self.next = next\u001b[0m\u001b[1;33m\u001b[0m\u001b[1;33m\u001b[0m\u001b[1;33m\u001b[0m\u001b[0m\n\u001b[1;32m----> 6\u001b[1;33m \u001b[1;32mclass\u001b[0m \u001b[0mSolution\u001b[0m\u001b[1;33m:\u001b[0m\u001b[1;33m\u001b[0m\u001b[1;33m\u001b[0m\u001b[0m\n\u001b[0m\u001b[0;32m      7\u001b[0m     \u001b[1;32mdef\u001b[0m \u001b[0mnextLargerNodes\u001b[0m\u001b[1;33m(\u001b[0m\u001b[0mself\u001b[0m\u001b[1;33m,\u001b[0m \u001b[0mhead\u001b[0m\u001b[1;33m:\u001b[0m \u001b[0mListNode\u001b[0m\u001b[1;33m)\u001b[0m \u001b[1;33m->\u001b[0m \u001b[0mList\u001b[0m\u001b[1;33m[\u001b[0m\u001b[0mint\u001b[0m\u001b[1;33m]\u001b[0m\u001b[1;33m:\u001b[0m\u001b[1;33m\u001b[0m\u001b[1;33m\u001b[0m\u001b[0m\n\u001b[0;32m      8\u001b[0m         \u001b[0mresult\u001b[0m \u001b[1;33m=\u001b[0m \u001b[1;33m[\u001b[0m\u001b[1;33m]\u001b[0m\u001b[1;33m\u001b[0m\u001b[1;33m\u001b[0m\u001b[0m\n",
      "\u001b[1;32m<ipython-input-1-a30fd32a197d>\u001b[0m in \u001b[0;36mSolution\u001b[1;34m()\u001b[0m\n\u001b[0;32m      5\u001b[0m \u001b[1;31m#         self.next = next\u001b[0m\u001b[1;33m\u001b[0m\u001b[1;33m\u001b[0m\u001b[1;33m\u001b[0m\u001b[0m\n\u001b[0;32m      6\u001b[0m \u001b[1;32mclass\u001b[0m \u001b[0mSolution\u001b[0m\u001b[1;33m:\u001b[0m\u001b[1;33m\u001b[0m\u001b[1;33m\u001b[0m\u001b[0m\n\u001b[1;32m----> 7\u001b[1;33m     \u001b[1;32mdef\u001b[0m \u001b[0mnextLargerNodes\u001b[0m\u001b[1;33m(\u001b[0m\u001b[0mself\u001b[0m\u001b[1;33m,\u001b[0m \u001b[0mhead\u001b[0m\u001b[1;33m:\u001b[0m \u001b[0mListNode\u001b[0m\u001b[1;33m)\u001b[0m \u001b[1;33m->\u001b[0m \u001b[0mList\u001b[0m\u001b[1;33m[\u001b[0m\u001b[0mint\u001b[0m\u001b[1;33m]\u001b[0m\u001b[1;33m:\u001b[0m\u001b[1;33m\u001b[0m\u001b[1;33m\u001b[0m\u001b[0m\n\u001b[0m\u001b[0;32m      8\u001b[0m         \u001b[0mresult\u001b[0m \u001b[1;33m=\u001b[0m \u001b[1;33m[\u001b[0m\u001b[1;33m]\u001b[0m\u001b[1;33m\u001b[0m\u001b[1;33m\u001b[0m\u001b[0m\n\u001b[0;32m      9\u001b[0m         \u001b[0mstack\u001b[0m \u001b[1;33m=\u001b[0m \u001b[1;33m[\u001b[0m\u001b[1;33m]\u001b[0m\u001b[1;33m\u001b[0m\u001b[1;33m\u001b[0m\u001b[0m\n",
      "\u001b[1;31mNameError\u001b[0m: name 'ListNode' is not defined"
     ]
    }
   ],
   "source": [
    "# Definition for singly-linked list.\n",
    "# class ListNode:\n",
    "#     def __init__(self, val=0, next=None):\n",
    "#         self.val = val\n",
    "#         self.next = next\n",
    "class Solution:\n",
    "    def nextLargerNodes(self, head: ListNode) -> List[int]:\n",
    "        result = []\n",
    "        stack = []\n",
    "        index = 0\n",
    "        while head:\n",
    "            result.append(0)\n",
    "            while stack:\n",
    "                if head.val > stack[-1][0]:\n",
    "                    result[stack[-1][1]] = head.val\n",
    "                    stack.pop()\n",
    "                else:\n",
    "                    break     \n",
    "            stack.append([head.val, index])\n",
    "            index+=1 \n",
    "            head = head.next\n",
    "        return result\n",
    "    \n",
    "    def nextLargerNodes_timeLimitExceed(self, head: ListNode) -> List[int]:\n",
    "        result = []\n",
    "        checker = []\n",
    "        index = 0\n",
    "        while head:\n",
    "            result.append(0)\n",
    "            if checker:\n",
    "                toRemove = []\n",
    "                for check in checker:\n",
    "                    if head.val > check[0]:\n",
    "                        result[check[1]] = head.val\n",
    "                        toRemove.append(check)\n",
    "                if toRemove:\n",
    "                    for j in toRemove:\n",
    "                        checker.remove(j)\n",
    "            checker.append([head.val, index])   \n",
    "            head = head.next\n",
    "            index += 1\n",
    "        return result\n",
    "    \n",
    "lis = LinkedList()\n",
    "lis.head = ListNode(2)\n",
    "ls = [1, 5]\n",
    "for i in ls:\n",
    "    lis.appendTo(i)\n",
    "s = Solution()\n",
    "s.nextLargerNodes(lis.head)"
   ]
  },
  {
   "cell_type": "code",
   "execution_count": 76,
   "metadata": {},
   "outputs": [
    {
     "ename": "TypeError",
     "evalue": "__init__() missing 1 required positional argument: 'nums'",
     "output_type": "error",
     "traceback": [
      "\u001b[1;31m---------------------------------------------------------------------------\u001b[0m",
      "\u001b[1;31mTypeError\u001b[0m                                 Traceback (most recent call last)",
      "\u001b[1;32m<ipython-input-76-a9c5cf82e87e>\u001b[0m in \u001b[0;36m<module>\u001b[1;34m\u001b[0m\n\u001b[0;32m     26\u001b[0m         \u001b[1;32mreturn\u001b[0m \u001b[0mhead\u001b[0m\u001b[1;33m\u001b[0m\u001b[1;33m\u001b[0m\u001b[0m\n\u001b[0;32m     27\u001b[0m \u001b[1;33m\u001b[0m\u001b[0m\n\u001b[1;32m---> 28\u001b[1;33m \u001b[0mlis\u001b[0m \u001b[1;33m=\u001b[0m \u001b[0mLinkedList\u001b[0m\u001b[1;33m(\u001b[0m\u001b[1;33m)\u001b[0m\u001b[1;33m\u001b[0m\u001b[1;33m\u001b[0m\u001b[0m\n\u001b[0m\u001b[0;32m     29\u001b[0m \u001b[0mlis\u001b[0m\u001b[1;33m.\u001b[0m\u001b[0mhead\u001b[0m \u001b[1;33m=\u001b[0m \u001b[0mListNode\u001b[0m\u001b[1;33m(\u001b[0m\u001b[1;36m1\u001b[0m\u001b[1;33m)\u001b[0m\u001b[1;33m\u001b[0m\u001b[1;33m\u001b[0m\u001b[0m\n\u001b[0;32m     30\u001b[0m \u001b[0mls\u001b[0m \u001b[1;33m=\u001b[0m \u001b[1;33m[\u001b[0m\u001b[1;36m2\u001b[0m\u001b[1;33m,\u001b[0m \u001b[1;36m3\u001b[0m\u001b[1;33m,\u001b[0m \u001b[1;36m4\u001b[0m\u001b[1;33m,\u001b[0m \u001b[1;36m5\u001b[0m\u001b[1;33m]\u001b[0m\u001b[1;33m\u001b[0m\u001b[1;33m\u001b[0m\u001b[0m\n",
      "\u001b[1;31mTypeError\u001b[0m: __init__() missing 1 required positional argument: 'nums'"
     ]
    }
   ],
   "source": [
    "# Definition for singly-linked list.\n",
    "# class ListNode:\n",
    "#     def __init__(self, val=0, next=None):\n",
    "#         self.val = val\n",
    "#         self.next = next\n",
    "class Solution:\n",
    "    def removeNthFromEnd(self, head: ListNode, n: int) -> ListNode:\n",
    "        index = 0\n",
    "        dummy = head\n",
    "        while (dummy):\n",
    "            index+=1\n",
    "            dummy = dummy.next\n",
    "            \n",
    "        dummy = head\n",
    "        i = 0\n",
    "        if index - n == 0:\n",
    "            head = head.next\n",
    "        else:\n",
    "            while dummy:\n",
    "                i+=1\n",
    "                if i == index and index == n:\n",
    "                    dummy.next = None\n",
    "                elif i == (index-n):\n",
    "                    dummy.next = dummy.next.next\n",
    "                dummy = dummy.next\n",
    "        return head\n",
    "    \n",
    "lis = LinkedList()\n",
    "lis.head = ListNode(1)\n",
    "ls = [2, 3, 4, 5]\n",
    "for i in ls:\n",
    "    lis.appendTo(i)\n",
    "# lis.printList()\n",
    "s = Solution()\n",
    "s.removeNthFromEnd(lis.head, 1)"
   ]
  },
  {
   "cell_type": "markdown",
   "metadata": {},
   "source": [
    "## 2. Add Two Numbers"
   ]
  },
  {
   "cell_type": "code",
   "execution_count": 77,
   "metadata": {},
   "outputs": [
    {
     "name": "stdout",
     "output_type": "stream",
     "text": [
      "0-->0-->2-->\n"
     ]
    }
   ],
   "source": [
    "class Solution:\n",
    "    def addTwoNumbers(self, l1: ListNode, l2: ListNode) -> ListNode:\n",
    "        carry = 0\n",
    "        root = None\n",
    "        dummy = None\n",
    "        \n",
    "        while l1 or l2:\n",
    "            if l1 and l2:\n",
    "                total = l1.val + l2.val + carry\n",
    "                carry = 0\n",
    "                if total < 10:\n",
    "                    newNode = ListNode(total)\n",
    "                    if dummy:\n",
    "                        dummy.next = newNode\n",
    "                        dummy = dummy.next\n",
    "                    else: \n",
    "                        dummy = newNode\n",
    "                        root = dummy\n",
    "                else:\n",
    "                    newNode = ListNode(total-10)\n",
    "                    carry = 1\n",
    "                    if dummy:\n",
    "                        dummy.next = newNode\n",
    "                        dummy = dummy.next\n",
    "                    else: \n",
    "                        dummy = newNode\n",
    "                        root = dummy\n",
    "            elif l1:\n",
    "                total = l1.val + carry\n",
    "                carry = 0\n",
    "                if total >= 10: \n",
    "                    carry = 1\n",
    "                    dummy.next = ListNode(total-10)\n",
    "                else:   \n",
    "                    dummy.next = ListNode(total)\n",
    "                dummy = dummy.next\n",
    "            else:\n",
    "                total = l2.val + carry\n",
    "                carry = 0\n",
    "                if total >= 10: \n",
    "                    carry = 1\n",
    "                    dummy.next = ListNode(total-10)\n",
    "                else:   \n",
    "                    dummy.next = ListNode(total)\n",
    "                dummy = dummy.next\n",
    "                \n",
    "            l1 = l1.next if l1 else None\n",
    "            l2 = l2.next if l2 else None\n",
    "        if carry == 1:\n",
    "            dummy.next = ListNode(1)\n",
    "            \n",
    "        if root: \n",
    "            return root\n",
    "    \n",
    "    \n",
    "l1 = LinkedList([2, 4, 3])\n",
    "l2 = LinkedList([5, 6, 4]) # answer = [7,5,3]\n",
    "l1a = LinkedList([9,9,9,9,9,9,9])\n",
    "l2a = LinkedList([9,9,9,9]) # [8,9,9,9,0,0,0,1]\n",
    "l1b = LinkedList([9,9,1])\n",
    "l2b = LinkedList([1])\n",
    "s = Solution()\n",
    "res = s.addTwoNumbers(l1b.head, l2b.head)\n",
    "printLinkedList(res)"
   ]
  },
  {
   "cell_type": "code",
   "execution_count": 106,
   "metadata": {},
   "outputs": [
    {
     "name": "stdout",
     "output_type": "stream",
     "text": [
      "\n"
     ]
    }
   ],
   "source": [
    "class Solution: # Failed four times\n",
    "    def deleteDuplicates(self, head: ListNode) -> ListNode:\n",
    "        dummy = pre = ListNode(0)\n",
    "        dummy.next = head\n",
    "        while head and head.next:\n",
    "            if head.val == head.next.val:\n",
    "                while head and head.next and head.val == head.next.val:\n",
    "                    head = head.next\n",
    "                head = head.next\n",
    "                pre.next = head\n",
    "            else:\n",
    "                pre = pre.next\n",
    "                head = head.next\n",
    "        return dummy.next\n",
    "    \n",
    "    def deleteDuplicates_original(self, head: ListNode) -> ListNode:\n",
    "        prev = None\n",
    "        curr = head\n",
    "        front = head.next\n",
    "        \n",
    "        while front:\n",
    "            if curr.val == front.val:\n",
    "                while curr.val == front.val:\n",
    "                    front = front.next\n",
    "                    if front == None:\n",
    "                        break\n",
    "                if front == None:\n",
    "                    if prev == None:\n",
    "                        return prev\n",
    "                    else:\n",
    "                        prev.next = front\n",
    "                        curr = front\n",
    "                        front = front.next\n",
    "                        prev = prev\n",
    "                elif prev:\n",
    "                    prev.next = front\n",
    "                    curr = front\n",
    "                    front = front.next\n",
    "                    prev = prev\n",
    "                else:\n",
    "                    head = front\n",
    "                    curr = head\n",
    "                    front = head.next\n",
    "                printLinkedList(head)\n",
    "            else:\n",
    "                prev = curr\n",
    "                curr = curr.next\n",
    "                front = front.next\n",
    "        return head\n",
    "                \n",
    "        \n",
    "t1 = LinkedList([1,2,3,3,4,4,5])\n",
    "t2 = LinkedList([1,1,1,2,3])\n",
    "t3 = LinkedList([1,2,3,3,3,4])\n",
    "t4 = LinkedList([1,2,3,3,4,5,5,6])\n",
    "t5 = LinkedList([1,1])\n",
    "s = Solution()\n",
    "re = s.deleteDuplicates(t5.head)\n",
    "printLinkedList(re)"
   ]
  }
 ],
 "metadata": {
  "kernelspec": {
   "display_name": "Python 3.8.2 64-bit",
   "language": "python",
   "name": "python38264bitd343ca77bf834830942a906cabbbade6"
  },
  "language_info": {
   "codemirror_mode": {
    "name": "ipython",
    "version": 3
   },
   "file_extension": ".py",
   "mimetype": "text/x-python",
   "name": "python",
   "nbconvert_exporter": "python",
   "pygments_lexer": "ipython3",
   "version": "3.8.2"
  }
 },
 "nbformat": 4,
 "nbformat_minor": 4
}
