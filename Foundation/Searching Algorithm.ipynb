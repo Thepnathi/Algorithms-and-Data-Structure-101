{
 "cells": [
  {
   "cell_type": "markdown",
   "metadata": {},
   "source": [
    "# Searching Algorithms\n",
    "\n",
    "This covers the implementation of searching algorithms. Implement yourself :). This notebook covers the following:\n",
    "* QuickSelect Algorithm"
   ]
  },
  {
   "cell_type": "code",
   "execution_count": 2,
   "metadata": {},
   "outputs": [],
   "source": [
    "from typing import List, Dict\n",
    "from collections import Counter"
   ]
  },
  {
   "cell_type": "markdown",
   "metadata": {},
   "source": [
    "### QuickSort Algorithm\n",
    "\n",
    "Performance depends on the starting pivot. Average case of O(nlogn) and worst case is O(n<sup>2</sup>)"
   ]
  },
  {
   "cell_type": "code",
   "execution_count": 11,
   "metadata": {},
   "outputs": [
    {
     "data": {
      "text/plain": [
       "[1, 3, 4, 5, 6]"
      ]
     },
     "execution_count": 11,
     "metadata": {},
     "output_type": "execute_result"
    }
   ],
   "source": [
    "class QuickSort:\n",
    "    def quickSort(self, nums: List[int], low: int, high: int):\n",
    "        if low < high:\n",
    "            pivotIndex = self.partition(nums, low, high)\n",
    "            self.quickSort(nums, low, pivotIndex-1)  # Before pivot (partition left)\n",
    "            self.quickSort(nums, pivotIndex+1, high) # After pivot  (partion right)\n",
    "        return nums\n",
    "            \n",
    "    def partition(self, nums: List[int], low: int, high: int):\n",
    "        pivotValue = nums[high]\n",
    "        i = (low-1)\n",
    "        \n",
    "        for j in range(low, high):\n",
    "            if nums[j] < pivotValue:\n",
    "                i += 1\n",
    "                nums[i], nums[j] = nums[j], nums[i]\n",
    "        nums[i+1], nums[high] = nums[high], nums[i+1]\n",
    "        return i + 1\n",
    "    \n",
    "q = QuickSort()\n",
    "a = [1,4,5,6,3]\n",
    "q.quickSort(a, 0, len(a)-1)"
   ]
  },
  {
   "cell_type": "code",
   "execution_count": 53,
   "metadata": {},
   "outputs": [],
   "source": [
    "def binary_search(sorted_list, target):\n",
    "    low = 0\n",
    "    high = 0\n",
    "    mid = 0\n",
    "    \n",
    "    while (high >= low):\n",
    "        high = len(sorted_list) - 1\n",
    "        mid = int(round((high + low) / 2))\n",
    "        if (sorted_list[mid] > target):\n",
    "            sorted_list = sorted_list[0:mid]\n",
    "        elif (sorted_list[mid] < target):\n",
    "            sorted_list = sorted_list[mid+1:high+1]\n",
    "        elif (sorted_list[mid] == target):\n",
    "            return 1\n",
    "        else:\n",
    "            return -1\n",
    "        \n",
    "def binary_search_plus(sorted_list, target):\n",
    "    low = 0\n",
    "    high = len(sorted_list) - 1\n",
    "    mid = 0\n",
    "    \n",
    "    while (high >= low):\n",
    "        mid = int(round((high + low) / 2))\n",
    "        if (sorted_list[mid] > target):\n",
    "            high = mid - 1\n",
    "        elif (sorted_list[mid] < target):\n",
    "            low = mid + 1\n",
    "        else: \n",
    "            return sorted_list[mid] * 10\n",
    "    return -1"
   ]
  },
  {
   "cell_type": "code",
   "execution_count": 57,
   "metadata": {},
   "outputs": [
    {
     "data": {
      "text/plain": [
       "60"
      ]
     },
     "execution_count": 57,
     "metadata": {},
     "output_type": "execute_result"
    }
   ],
   "source": [
    "a = [1, 2, 3, 4, 5, 6]\n",
    "\n",
    "binary_search_plus(a, 4)\n",
    "binary_search_plus(a, 6)"
   ]
  },
  {
   "cell_type": "code",
   "execution_count": 92,
   "metadata": {},
   "outputs": [],
   "source": [
    "class TreeNode:\n",
    "    def __init__(self, val=0, left=None, right=None):\n",
    "        self.val = val\n",
    "        self.left = left\n",
    "        self.right = right"
   ]
  },
  {
   "cell_type": "code",
   "execution_count": 1,
   "metadata": {},
   "outputs": [
    {
     "ename": "NameError",
     "evalue": "name 'TreeNode' is not defined",
     "output_type": "error",
     "traceback": [
      "\u001b[1;31m---------------------------------------------------------------------------\u001b[0m",
      "\u001b[1;31mNameError\u001b[0m                                 Traceback (most recent call last)",
      "\u001b[1;32m<ipython-input-1-93d41350f7ec>\u001b[0m in \u001b[0;36m<module>\u001b[1;34m\u001b[0m\n\u001b[0;32m     17\u001b[0m             \u001b[0mvisited\u001b[0m\u001b[1;33m[\u001b[0m\u001b[0mcurr\u001b[0m\u001b[1;33m.\u001b[0m\u001b[0mright\u001b[0m\u001b[1;33m.\u001b[0m\u001b[0mval\u001b[0m\u001b[1;33m]\u001b[0m \u001b[1;33m=\u001b[0m \u001b[0mcurr\u001b[0m\u001b[1;33m.\u001b[0m\u001b[0mright\u001b[0m\u001b[1;33m\u001b[0m\u001b[1;33m\u001b[0m\u001b[0m\n\u001b[0;32m     18\u001b[0m \u001b[1;33m\u001b[0m\u001b[0m\n\u001b[1;32m---> 19\u001b[1;33m \u001b[0ma\u001b[0m\u001b[1;33m,\u001b[0m \u001b[0mb\u001b[0m\u001b[1;33m,\u001b[0m \u001b[0mc\u001b[0m\u001b[1;33m,\u001b[0m \u001b[0md\u001b[0m \u001b[1;33m=\u001b[0m \u001b[0mTreeNode\u001b[0m\u001b[1;33m(\u001b[0m\u001b[1;36m1\u001b[0m\u001b[1;33m)\u001b[0m\u001b[1;33m,\u001b[0m \u001b[0mTreeNode\u001b[0m\u001b[1;33m(\u001b[0m\u001b[1;36m6\u001b[0m\u001b[1;33m)\u001b[0m\u001b[1;33m,\u001b[0m \u001b[0mTreeNode\u001b[0m\u001b[1;33m(\u001b[0m\u001b[1;36m17\u001b[0m\u001b[1;33m)\u001b[0m\u001b[1;33m,\u001b[0m \u001b[0mTreeNode\u001b[0m\u001b[1;33m(\u001b[0m\u001b[1;36m21\u001b[0m\u001b[1;33m)\u001b[0m\u001b[1;33m\u001b[0m\u001b[1;33m\u001b[0m\u001b[0m\n\u001b[0m\u001b[0;32m     20\u001b[0m \u001b[0me\u001b[0m\u001b[1;33m,\u001b[0m \u001b[0mf\u001b[0m \u001b[1;33m=\u001b[0m \u001b[0mTreeNode\u001b[0m\u001b[1;33m(\u001b[0m\u001b[1;36m5\u001b[0m\u001b[1;33m,\u001b[0m \u001b[0ma\u001b[0m\u001b[1;33m,\u001b[0m \u001b[0mb\u001b[0m\u001b[1;33m)\u001b[0m\u001b[1;33m,\u001b[0m \u001b[0mTreeNode\u001b[0m\u001b[1;33m(\u001b[0m\u001b[1;36m19\u001b[0m\u001b[1;33m,\u001b[0m \u001b[0mc\u001b[0m\u001b[1;33m,\u001b[0m \u001b[0md\u001b[0m\u001b[1;33m)\u001b[0m\u001b[1;33m\u001b[0m\u001b[1;33m\u001b[0m\u001b[0m\n\u001b[0;32m     21\u001b[0m \u001b[0mroot\u001b[0m \u001b[1;33m=\u001b[0m \u001b[0mTreeNode\u001b[0m\u001b[1;33m(\u001b[0m\u001b[1;36m10\u001b[0m\u001b[1;33m,\u001b[0m \u001b[0me\u001b[0m\u001b[1;33m,\u001b[0m \u001b[0mf\u001b[0m\u001b[1;33m)\u001b[0m\u001b[1;33m\u001b[0m\u001b[1;33m\u001b[0m\u001b[0m\n",
      "\u001b[1;31mNameError\u001b[0m: name 'TreeNode' is not defined"
     ]
    }
   ],
   "source": [
    "def breadth_first_search(root, source):\n",
    "    visited = {}\n",
    "    queue = []\n",
    "    queue.append(root)\n",
    "    \n",
    "    visited[root.val] = root\n",
    "    \n",
    "    while (len(queue) > 0):\n",
    "        curr = queue.pop(0)\n",
    "        print(curr.val)\n",
    "        \n",
    "        if (curr.left):\n",
    "            queue.append(curr.left)\n",
    "            visited[curr.left.val] = curr.left\n",
    "        if (curr.right):\n",
    "            queue.append(curr.right)\n",
    "            visited[curr.right.val] = curr.right\n",
    "            \n",
    "a, b, c, d = TreeNode(1), TreeNode(6), TreeNode(17), TreeNode(21)\n",
    "e, f = TreeNode(5, a, b), TreeNode(19, c, d)\n",
    "root = TreeNode(10, e, f)\n",
    "\n",
    "binary_tree__left_to_right = [1, 6, 17, 21, 5, 19, 10]\n",
    "\n",
    "# breadth_first_search(root, 3)\n",
    "# Alternative implementation https://www.educative.io/edpresso/how-to-implement-a-breadth-first-search-in-python"
   ]
  },
  {
   "cell_type": "code",
   "execution_count": null,
   "metadata": {},
   "outputs": [],
   "source": [
    "Input: [1,2,2,3]\n",
    "Output: true\n",
    "    \n",
    "Input: [6,5,4,4]\n",
    "Output: true"
   ]
  },
  {
   "cell_type": "code",
   "execution_count": 173,
   "metadata": {},
   "outputs": [
    {
     "data": {
      "text/plain": [
       "True"
      ]
     },
     "execution_count": 173,
     "metadata": {},
     "output_type": "execute_result"
    }
   ],
   "source": [
    "from typing import List\n",
    "class Solution:\n",
    "    def isMonotonic(self, A: List[int]) -> bool:\n",
    "         if(len(A) == 1 or self.incres(A) or self.decres(A)):\n",
    "            return True\n",
    "         else: \n",
    "            return False\n",
    "        \n",
    "    def incres(self, A) -> bool:\n",
    "        if (A[1] >= A[0]):\n",
    "            for i, num in enumerate(A):\n",
    "                if (i < len(A) - 1):\n",
    "                    if (A[i+1] < num):\n",
    "                        return False\n",
    "        else:\n",
    "            return False\n",
    "        return True\n",
    "\n",
    "    def decres(self, A) -> bool:\n",
    "        if (A[1] <= A[0]):\n",
    "            for i, num in enumerate(A):\n",
    "                if (i < len(A) - 1):\n",
    "                    if (A[i+1] > num):\n",
    "                        return False\n",
    "        else: \n",
    "            return False\n",
    "        return True\n",
    "    \n",
    "class Solution(object):\n",
    "    def isMonotonic(self, A):\n",
    "        n = len(A)\n",
    "        if n <= 2: return True\n",
    "\n",
    "        isGreat = False\n",
    "        isLess = False\n",
    "        for i in range(1, n):\n",
    "            if A[i - 1] > A[i]:\n",
    "                isGreat = True\n",
    "            if A[i - 1] < A[i]:\n",
    "                isLess = True\n",
    "\n",
    "            if isGreat and isLess:\n",
    "                return False\n",
    "\n",
    "        return True\n",
    "    \n",
    "a = [1,2,2,3]\n",
    "c = [5, 3, 2, 1]\n",
    "d = [5, 3, 3, 1]\n",
    "av = [1, 1, 1, 2]\n",
    "cc = [1, 1,0]\n",
    "po = [1]\n",
    "s = Solution()\n",
    "s.isMonotonic(po)"
   ]
  },
  {
   "cell_type": "code",
   "execution_count": null,
   "metadata": {},
   "outputs": [],
   "source": [
    "Input: num = 5\n",
    "Output: 2\n",
    "Explanation: The binary representation of 5 is 101 (no leading zero bits),\n",
    "and its complement is 010. So you need to output 2."
   ]
  },
  {
   "cell_type": "code",
   "execution_count": 1,
   "metadata": {},
   "outputs": [],
   "source": [
    "a = [3, 4, 5]\n",
    "low = 0\n",
    "high = len(a) - 1\n",
    "mid = int(round((low + high) / 2))\n",
    "\n",
    "\n",
    "dic = {}\n",
    "haha = {0: [0, 5, 6, 13], 1: [1, 2, 3]}\n",
    "k = 1\n",
    "h2 = 3"
   ]
  },
  {
   "cell_type": "code",
   "execution_count": 106,
   "metadata": {},
   "outputs": [
    {
     "data": {
      "text/plain": [
       "False"
      ]
     },
     "execution_count": 106,
     "metadata": {},
     "output_type": "execute_result"
    }
   ],
   "source": [
    "from typing import List\n",
    "\n",
    "class Solution:\n",
    "    def containsNearbyDuplicate(self, nums: List[int], k: int) -> bool:\n",
    "        seen = {}\n",
    "        \n",
    "        for i, nums in enumerate(nums):\n",
    "            if nums in seen:\n",
    "                seen[nums].append(i) \n",
    "            else:\n",
    "                seen[nums] = [i]\n",
    "        \n",
    "        index_dic = {}\n",
    "        \n",
    "        for key in seen:\n",
    "            if len(seen[key]) > 1:\n",
    "                for i, num in enumerate(seen[key]):\n",
    "                    if any(value >= (num - k) for value in index_dic):\n",
    "                        return True\n",
    "                    index_dic[num] = num\n",
    "                index_dic = {}\n",
    "        return False\n",
    "        \n",
    "        \n",
    "t1 = [1,2,3,1]\n",
    "k1 = 3\n",
    "\n",
    "\n",
    "t2 = [1,0,1,1]\n",
    "k2 = 1\n",
    "\n",
    "t3 = [1,2,3,1,2,3]\n",
    "k3 = 2\n",
    "# False\n",
    "\n",
    "t4 = [0,1,2,3,4,0,0,7,8,9,10,11,12,0]\n",
    "k4 = 1\n",
    "# true\n",
    "\n",
    "s = Solution()\n",
    "s.containsNearbyDuplicate(t3, k3)"
   ]
  },
  {
   "cell_type": "code",
   "execution_count": null,
   "metadata": {},
   "outputs": [],
   "source": []
  }
 ],
 "metadata": {
  "kernelspec": {
   "display_name": "Python 3.8.2 64-bit",
   "language": "python",
   "name": "python38264bitd343ca77bf834830942a906cabbbade6"
  },
  "language_info": {
   "codemirror_mode": {
    "name": "ipython",
    "version": 3
   },
   "file_extension": ".py",
   "mimetype": "text/x-python",
   "name": "python",
   "nbconvert_exporter": "python",
   "pygments_lexer": "ipython3",
   "version": "3.8.2"
  }
 },
 "nbformat": 4,
 "nbformat_minor": 4
}
