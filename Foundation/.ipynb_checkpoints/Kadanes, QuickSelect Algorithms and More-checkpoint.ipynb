{
 "cells": [
  {
   "cell_type": "markdown",
   "metadata": {},
   "source": [
    "# Kadanes, QuickSelect Algorithms and more...\n",
    "\n",
    "This notebook cover other unusal algorithms implementation.\n",
    "\n",
    "* QuickSelect Algorithm (Selecting)"
   ]
  },
  {
   "cell_type": "code",
   "execution_count": 6,
   "metadata": {},
   "outputs": [],
   "source": [
    "# Common Library \n",
    "from typing import List, Dict\n",
    "from collections import Counter, namedtuple\n",
    "from threading import Timer\n",
    "from random import randint\n",
    "import heapq"
   ]
  },
  {
   "cell_type": "markdown",
   "metadata": {},
   "source": [
    "### QuickSelect Algorithm\n",
    "\n",
    "* Use to find K-th smallest element in an unsorted list\n",
    "* Similar to QuickSort\n",
    "* Best case runs O(n), Good average case, but poor worst-case O(n<sup>2</sup>)\n",
    "\n",
    "The idea is to use a pivot and partioning the data in two based on the pivot, according as less than or greater than the pivot. Since instead of recursing both side, quickselect will do one side, the side with the elements it is searching for. This reduce time complexity from O(nlogn) to O(n).\n",
    "\n",
    "https://www.techiedelight.com/quickselect-algorithm/"
   ]
  },
  {
   "cell_type": "code",
   "execution_count": 14,
   "metadata": {},
   "outputs": [],
   "source": [
    "class QuickSelect:\n",
    "    def quickSelect(self, nums: List[int], left: int, right: int, k: int) -> int:\n",
    "        if left == right:\n",
    "            return nums[left]\n",
    "        \n",
    "        pivotIndex = randint(left, right)\n",
    "        print(pivotIndex)\n",
    "        \n",
    "        pivotIndex = self.partion(nums, left, right, pivotIndex)\n",
    "        \n",
    "        if k == pivotIndex:\n",
    "            return nums[k]\n",
    "        elif k < pivotIndex:\n",
    "            return self.quickSelect(nums, left, pivotIndex-1, k)\n",
    "        else:\n",
    "            return self.quickSelect(nums, pivotIndex+1, right, k)\n",
    "    \n",
    "    # Partion using Lomuto schme \n",
    "    def partion(self, nums: List[int], left, right, pivotIndex: int): \n",
    "        pivotVal = nums[pivotIndex]\n",
    "        \n",
    "        # move pivot to end\n",
    "        self.swap(nums, pivotIndex, right)\n",
    "        \n",
    "        pivotIndex = left\n",
    "        \n",
    "        for i in range(left, right):\n",
    "            if nums[i] <= pivotVal:\n",
    "                self.swap(nums, i, pivotIndex)\n",
    "                pivotIndex += 1\n",
    "        self.swap(nums, pivotIndex, right)\n",
    "        return pivotIndex\n",
    "        \n",
    "    \n",
    "    def swap(self, nums: List[int], i: int, j: int) -> None:\n",
    "        temp = nums[i]\n",
    "        nums[i] = nums[j]\n",
    "        nums[j] = nums[i]"
   ]
  },
  {
   "cell_type": "code",
   "execution_count": 15,
   "metadata": {},
   "outputs": [
    {
     "name": "stdout",
     "output_type": "stream",
     "text": [
      "1\n",
      "0\n"
     ]
    },
    {
     "data": {
      "text/plain": [
       "7"
      ]
     },
     "execution_count": 15,
     "metadata": {},
     "output_type": "execute_result"
    }
   ],
   "source": [
    "q = QuickSelect()\n",
    "t = [7, 4, 3, 2, 8, 1]\n",
    "q.quickSelect(t, 0, len(t)-1, 2)"
   ]
  }
 ],
 "metadata": {
  "kernelspec": {
   "display_name": "Python 3.8.2 64-bit",
   "language": "python",
   "name": "python38264bitd343ca77bf834830942a906cabbbade6"
  },
  "language_info": {
   "codemirror_mode": {
    "name": "ipython",
    "version": 3
   },
   "file_extension": ".py",
   "mimetype": "text/x-python",
   "name": "python",
   "nbconvert_exporter": "python",
   "pygments_lexer": "ipython3",
   "version": "3.8.2"
  }
 },
 "nbformat": 4,
 "nbformat_minor": 4
}
