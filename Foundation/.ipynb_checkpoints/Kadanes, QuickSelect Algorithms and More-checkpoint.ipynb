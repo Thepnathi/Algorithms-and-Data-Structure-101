{
 "cells": [
  {
   "cell_type": "markdown",
   "metadata": {},
   "source": [
    "# Kadanes, QuickSelect Algorithms and more...\n",
    "\n",
    "This notebook cover other unusal algorithms implementation.\n",
    "\n",
    "* QuickSelect Algorithm (Selecting)"
   ]
  },
  {
   "cell_type": "code",
   "execution_count": 6,
   "metadata": {},
   "outputs": [],
   "source": [
    "# Common Library \n",
    "from typing import List, Dict\n",
    "from collections import Counter\n",
    "from threading import Timer\n",
    "from random import randint\n",
    "import heapq"
   ]
  },
  {
   "cell_type": "markdown",
   "metadata": {},
   "source": [
    "### QuickSelect Algorithm\n",
    "\n",
    "* Use to find K-th smallest element in an unsorted list\n",
    "* Similar to QuickSort\n",
    "* Best case runs O(n), Good average case, but poor worst-case O(n<sup>2</sup>)\n",
    "\n",
    "The idea is to use a pivot and partioning the data in two based on the pivot, according as less than or greater than the pivot. Since instead of recursing both side, quickselect will do one side, the side with the elements it is searching for. This reduce time complexity from O(nlogn) to O(n).\n",
    "\n",
    "https://www.techiedelight.com/quickselect-algorithm/"
   ]
  },
  {
   "cell_type": "code",
   "execution_count": 13,
   "metadata": {},
   "outputs": [],
   "source": [
    "class QuickSelect:\n",
    "    def quickSelect(self, nums: List[int], left: int, right: int, k: int) -> int:\n",
    "        if left == right:\n",
    "            return nums[left]\n",
    "        \n",
    "        pivotIndex = randint(left, right)\n",
    "        print(pivotIndex)\n",
    "        \n",
    "        pivotIndex = self.partion(nums, left, right, pivotIndex)\n",
    "        \n",
    "        if k == pivotIndex:\n",
    "            return nums[k]\n",
    "        elif k < pivotIndex:\n",
    "            return self.quickSelect(nums, left, pivotIndex-1, k)\n",
    "        else:\n",
    "            return self.quickSelect(nums, pivotIndex+1, right, k)\n",
    "    \n",
    "    # Partion using Lomuto schme \n",
    "    def partion(self, nums: List[int], left, right, pivotIndex: int): \n",
    "        pivotVal = nums[pivotIndex]\n",
    "        \n",
    "        # move pivot to end\n",
    "        self.swap(nums, pivotIndex, right)\n",
    "        \n",
    "        pivotIndex = left\n",
    "        \n",
    "        for i in range(left, right):\n",
    "            if nums[i] <= pivotVal:\n",
    "                self.swap(nums, i, pivotIndex)\n",
    "                pivotIndex += 1\n",
    "        self.swap(nums, pivotIndex, right)\n",
    "        return pivotIndex\n",
    "        \n",
    "    \n",
    "    def swap(self, nums: List[int], i: int, j: int) -> None:\n",
    "        temp = nums[i]\n",
    "        nums[i] = nums[j]\n",
    "        nums[j] = nums[i]"
   ]
  },
  {
   "cell_type": "code",
   "execution_count": 12,
   "metadata": {},
   "outputs": [
    {
     "ename": "NameError",
     "evalue": "name 'righ' is not defined",
     "output_type": "error",
     "traceback": [
      "\u001b[1;31m---------------------------------------------------------------------------\u001b[0m",
      "\u001b[1;31mNameError\u001b[0m                                 Traceback (most recent call last)",
      "\u001b[1;32m<ipython-input-12-c364b52bba9b>\u001b[0m in \u001b[0;36m<module>\u001b[1;34m\u001b[0m\n\u001b[0;32m      1\u001b[0m \u001b[0mq\u001b[0m \u001b[1;33m=\u001b[0m \u001b[0mQuickSelect\u001b[0m\u001b[1;33m(\u001b[0m\u001b[1;33m)\u001b[0m\u001b[1;33m\u001b[0m\u001b[1;33m\u001b[0m\u001b[0m\n\u001b[0;32m      2\u001b[0m \u001b[0mt\u001b[0m \u001b[1;33m=\u001b[0m \u001b[1;33m[\u001b[0m\u001b[1;36m7\u001b[0m\u001b[1;33m,\u001b[0m \u001b[1;36m4\u001b[0m\u001b[1;33m,\u001b[0m \u001b[1;36m3\u001b[0m\u001b[1;33m,\u001b[0m \u001b[1;36m2\u001b[0m\u001b[1;33m,\u001b[0m \u001b[1;36m8\u001b[0m\u001b[1;33m,\u001b[0m \u001b[1;36m1\u001b[0m\u001b[1;33m]\u001b[0m\u001b[1;33m\u001b[0m\u001b[1;33m\u001b[0m\u001b[0m\n\u001b[1;32m----> 3\u001b[1;33m \u001b[0mq\u001b[0m\u001b[1;33m.\u001b[0m\u001b[0mquickSelect\u001b[0m\u001b[1;33m(\u001b[0m\u001b[0mt\u001b[0m\u001b[1;33m,\u001b[0m \u001b[1;36m0\u001b[0m\u001b[1;33m,\u001b[0m \u001b[0mlen\u001b[0m\u001b[1;33m(\u001b[0m\u001b[0mt\u001b[0m\u001b[1;33m)\u001b[0m\u001b[1;33m-\u001b[0m\u001b[1;36m1\u001b[0m\u001b[1;33m,\u001b[0m \u001b[1;36m2\u001b[0m\u001b[1;33m)\u001b[0m\u001b[1;33m\u001b[0m\u001b[1;33m\u001b[0m\u001b[0m\n\u001b[0m",
      "\u001b[1;32m<ipython-input-9-5690a16f532a>\u001b[0m in \u001b[0;36mquickSelect\u001b[1;34m(self, nums, left, right, k)\u001b[0m\n\u001b[0;32m      4\u001b[0m             \u001b[1;32mreturn\u001b[0m \u001b[0mnums\u001b[0m\u001b[1;33m[\u001b[0m\u001b[0mleft\u001b[0m\u001b[1;33m]\u001b[0m\u001b[1;33m\u001b[0m\u001b[1;33m\u001b[0m\u001b[0m\n\u001b[0;32m      5\u001b[0m \u001b[1;33m\u001b[0m\u001b[0m\n\u001b[1;32m----> 6\u001b[1;33m         \u001b[0mpivotIndex\u001b[0m \u001b[1;33m=\u001b[0m \u001b[0mrandint\u001b[0m\u001b[1;33m(\u001b[0m\u001b[0mleft\u001b[0m\u001b[1;33m,\u001b[0m \u001b[0mrigh\u001b[0m\u001b[1;33m)\u001b[0m\u001b[1;33m\u001b[0m\u001b[1;33m\u001b[0m\u001b[0m\n\u001b[0m\u001b[0;32m      7\u001b[0m         \u001b[0mprint\u001b[0m\u001b[1;33m(\u001b[0m\u001b[0mpivotIndex\u001b[0m\u001b[1;33m)\u001b[0m\u001b[1;33m\u001b[0m\u001b[1;33m\u001b[0m\u001b[0m\n\u001b[0;32m      8\u001b[0m \u001b[1;33m\u001b[0m\u001b[0m\n",
      "\u001b[1;31mNameError\u001b[0m: name 'righ' is not defined"
     ]
    }
   ],
   "source": [
    "q = QuickSelect()\n",
    "t = [7, 4, 3, 2, 8, 1]\n",
    "q.quickSelect(t, 0, len(t)-1, 2)"
   ]
  }
 ],
 "metadata": {
  "kernelspec": {
   "display_name": "Python 3.8.2 64-bit",
   "language": "python",
   "name": "python38264bitd343ca77bf834830942a906cabbbade6"
  },
  "language_info": {
   "codemirror_mode": {
    "name": "ipython",
    "version": 3
   },
   "file_extension": ".py",
   "mimetype": "text/x-python",
   "name": "python",
   "nbconvert_exporter": "python",
   "pygments_lexer": "ipython3",
   "version": "3.8.2"
  }
 },
 "nbformat": 4,
 "nbformat_minor": 4
}
