{
 "cells": [
  {
   "cell_type": "markdown",
   "metadata": {},
   "source": [
    "# Python 3 and Beyond Features "
   ]
  },
  {
   "cell_type": "markdown",
   "metadata": {},
   "source": [
    "The following document contains Python3 basic to advanced features. The following will cover the area of the topic list below:\n",
    "\n",
    "* Iterables\n",
    "* Generators, Yields\n",
    "\n",
    "### Standard Library \n",
    "* collections\n",
    "* bisects\n",
    "* heapq\n",
    "\n",
    "### General Tricks"
   ]
  },
  {
   "cell_type": "markdown",
   "metadata": {},
   "source": [
    "## Generators"
   ]
  },
  {
   "cell_type": "markdown",
   "metadata": {},
   "source": [
    "### Iterables\n",
    "\n",
    "When you create a list, you can read its items one by one. Reading its items one by one is called iteration:\n",
    "Everything you can use \"for... in...\" on is an iterable; lists, strings, files...\n",
    "These iterables are handy because you can read them as much as you wish, but you store all the values in memory and this is not always what you want when you have a lot of values.\n",
    "\n",
    "### Generators \n",
    "\n",
    "Generators are iterators, a kind of iterable you can only iterate over once. Generators do not store all the values in memory, they generate the values on the fly\n",
    "\n",
    "```python \n",
    ">>> mygenerator = (x*x for x in range(3))\n",
    ">>> for i in mygenerator:\n",
    "...    print(i)\n",
    "0\n",
    "1\n",
    "4\n",
    "```\n",
    "\n",
    "It is just the same except you used () instead of []. BUT, you cannot perform for i in mygenerator a second time since generators can only be used once: they calculate 0, then forget about it and calculate 1, and end calculating 4, one by one.\n",
    "\n",
    "### Yield \n",
    "yield is a keyword that is used like return, except the function will return a generator.\n",
    "\n",
    "```python\n",
    ">>> def createGenerator():\n",
    "...    mylist = range(3)\n",
    "...    for i in mylist:\n",
    "...        yield i*i\n",
    "...\n",
    ">>> mygenerator = createGenerator() # create a generator\n",
    ">>> print(mygenerator) # mygenerator is an object!\n",
    "<generator object createGenerator at 0xb7555c34>\n",
    ">>> for i in mygenerator:\n",
    "...     print(i)\n",
    "0\n",
    "1\n",
    "4\n",
    "```\n",
    "Here it's a useless example, but it's handy when you know your function will return a huge set of values that you will only need to read once.\n",
    "\n",
    "To master yield, you must understand that when you call the function, the code you have written in the function body does not run. The function only returns the generator object, this is a bit tricky :-)\n",
    "\n",
    "Then, your code will continue from where it left off each time for uses the generator.\n",
    "\n",
    "Now the hard part:\n",
    "\n",
    "The first time the for calls the generator object created from your function, it will run the code in your function from the beginning until it hits yield, then it'll return the first value of the loop. Then, each subsequent call will run another iteration of the loop you have written in the function and return the next value. This will continue until the generator is considered empty, which happens when the function runs without hitting yield. That can be because the loop has come to an end, or because you no longer satisfy an \"if/else\".\n",
    "\n",
    "\n",
    "credit to https://stackoverflow.com/questions/231767/what-does-the-yield-keyword-do"
   ]
  },
  {
   "cell_type": "markdown",
   "metadata": {},
   "source": [
    "## The bisect library\n",
    "\n",
    "To find position in list where an element needs to be inserted to keep the list sorted.\n",
    "Basically, binary search, hence time compelxity is O(logn)"
   ]
  },
  {
   "cell_type": "code",
   "execution_count": 15,
   "metadata": {},
   "outputs": [
    {
     "name": "stdout",
     "output_type": "stream",
     "text": [
      "The rightmost index to insert, so list remains sorted is : 5\n",
      "The leftmost index to insert, so list remains sorted is  : 2\n",
      "The rightmost index to insert, so list remains sorted is  : 4\n"
     ]
    }
   ],
   "source": [
    "import bisect\n",
    "\n",
    "li = [1, 3, 4, 4, 4, 6, 7]\n",
    "print (\"The rightmost index to insert, so list remains sorted is : \", end=\"\") \n",
    "print(bisect.bisect(li, 4))\n",
    "print (\"The leftmost index to insert, so list remains sorted is  : \", end=\"\") \n",
    "print (bisect.bisect_left(li, 4))\n",
    "print (\"The rightmost index to insert, so list remains sorted is  : \", end=\"\") \n",
    "print (bisect.bisect_right(li, 4, 0, 4)) "
   ]
  },
  {
   "cell_type": "markdown",
   "metadata": {},
   "source": [
    "## The heapq library\n",
    "\n",
    "Used to represent priority queue. \n",
    "* nlargest - nth largest elements (largest to smallest)\n",
    "* nsmallest - nth smallest elements"
   ]
  },
  {
   "cell_type": "code",
   "execution_count": 16,
   "metadata": {},
   "outputs": [
    {
     "name": "stdout",
     "output_type": "stream",
     "text": [
      "[30, 23] and [7, 11]\n"
     ]
    }
   ],
   "source": [
    "import heapq\n",
    "\n",
    "stones = [11, 7, 23, 30, 20, 12]\n",
    "a = heapq.nlargest(2, stones)\n",
    "b = heapq.nsmallest(2, stones)\n",
    "print(f\"{a} and {b}\")"
   ]
  },
  {
   "cell_type": "markdown",
   "metadata": {},
   "source": [
    "# The collections library\n",
    "\n",
    "hey Nita, check me out!"
   ]
  },
  {
   "cell_type": "code",
   "execution_count": 1,
   "metadata": {},
   "outputs": [
    {
     "data": {
      "text/plain": [
       "Counter({1: 2, 2: 2, 3: 2, 4: 1, 5: 1, 6: 1})"
      ]
     },
     "execution_count": 1,
     "metadata": {},
     "output_type": "execute_result"
    }
   ],
   "source": [
    "from collections import Counter\n",
    "\n",
    "a = [1,2,3,2,3,4,5,6,1]\n",
    "Counter(a)"
   ]
  },
  {
   "cell_type": "markdown",
   "metadata": {},
   "source": [
    "***Named tuples*** are basically easy-to-create, lightweight object types. Named tuple instances can be referenced using object-like variable dereferencing or the standard tuple syntax. They can be used similarly to struct or other common record types, except that they are immutable.\n",
    "\n",
    "https://stackoverflow.com/questions/2970608/what-are-named-tuples-in-python"
   ]
  },
  {
   "cell_type": "code",
   "execution_count": 3,
   "metadata": {},
   "outputs": [
    {
     "data": {
      "text/plain": [
       "3.8078865529319543"
      ]
     },
     "execution_count": 3,
     "metadata": {},
     "output_type": "execute_result"
    }
   ],
   "source": [
    "from collections import namedtuple\n",
    "from math import sqrt\n",
    "\n",
    "pt1 = (1.0, 5.0)\n",
    "pt2 = (2.5, 1.5)\n",
    "line_length = sqrt((pt1[0]-pt2[0])**2 + (pt1[1]-pt2[1])**2)\n",
    "\n",
    "Point = namedtuple('Point', 'x y')\n",
    "pt1 = Point(1.0, 5.0)\n",
    "pt2 = Point(2.5, 1.5)\n",
    "line_length = sqrt((pt1.x-pt2.x)**2 + (pt1.y-pt2.y)**2)\n",
    "line_length"
   ]
  },
  {
   "cell_type": "markdown",
   "metadata": {},
   "source": [
    "## Python Useful Functions Tips and Tricks"
   ]
  },
  {
   "cell_type": "markdown",
   "metadata": {},
   "source": [
    "Snake\n",
    "```python\n",
    "\n",
    "```\n",
    "\n",
    "```python\n",
    "A = [1,2,3,4,5,6]\n",
    "item1 = A.index(1)\n",
    "item2 = A.index(1) # This will return the same index of 0\n",
    "item2 = A.index(1, item1) \n",
    "```\n",
    "Index can add another param to check the index of a value in a list from certain index.\n"
   ]
  },
  {
   "cell_type": "markdown",
   "metadata": {},
   "source": [
    "## General Tricks"
   ]
  },
  {
   "cell_type": "code",
   "execution_count": 7,
   "metadata": {},
   "outputs": [
    {
     "data": {
      "text/plain": [
       "'5678910'"
      ]
     },
     "execution_count": 7,
     "metadata": {},
     "output_type": "execute_result"
    }
   ],
   "source": [
    "a = [i for i in range(0, 16)]\n",
    "result = \"\"\n",
    "for num in a:\n",
    "    if 5 <= num <= 10:\n",
    "        result += str(num)\n",
    "result"
   ]
  },
  {
   "cell_type": "code",
   "execution_count": null,
   "metadata": {},
   "outputs": [],
   "source": []
  }
 ],
 "metadata": {
  "kernelspec": {
   "display_name": "Python 3.8.2 64-bit",
   "language": "python",
   "name": "python38264bitd343ca77bf834830942a906cabbbade6"
  },
  "language_info": {
   "codemirror_mode": {
    "name": "ipython",
    "version": 3
   },
   "file_extension": ".py",
   "mimetype": "text/x-python",
   "name": "python",
   "nbconvert_exporter": "python",
   "pygments_lexer": "ipython3",
   "version": "3.8.2"
  }
 },
 "nbformat": 4,
 "nbformat_minor": 4
}
