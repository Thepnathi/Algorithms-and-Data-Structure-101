{
 "cells": [
  {
   "cell_type": "markdown",
   "metadata": {},
   "source": [
    "# Heaps Implementation"
   ]
  },
  {
   "cell_type": "code",
   "execution_count": 1,
   "metadata": {},
   "outputs": [],
   "source": [
    "class MinHeap(object):\n",
    "    def __init__(self, val):\n",
    "        self.heap = []\n",
    "        self.size = 0\n",
    "        \n",
    "    def swap(self, indexOne, indexTwo):\n",
    "        temp: int = heap[indexOne]\n",
    "        heap[indexOne] = heap[indexTwo]\n",
    "        heap[indexTwo] = temp\n",
    "    \n",
    "    # Removes the min root\n",
    "    def poll(self) -> int:\n",
    "        if size == 0:\n",
    "            return \n",
    "        elif size == 1:\n",
    "            heap.pop()\n",
    "        else:\n",
    "            original_root_val = self.heap[0]\n",
    "            self.heap[0] = self.heap[-1]\n",
    "            self.heap.pop()\n",
    "            size-=1\n",
    "            return original_root_val\n",
    "        \n",
    "    def getLeftChildIndex(self, parentIndex): \n",
    "        return 2 * parentIndex + 1\n",
    "    \n",
    "    def getRightChildIndex(self, parentIndex):\n",
    "        return 2 * parentIndex + 2\n",
    "    \n",
    "    def getParentIndex(self, childIndex):\n",
    "        return (childIndex - 1) / 2\n",
    "    \n",
    "    def hasLeftChild(self, index) -> bool:\n",
    "        self.getLeftChildIndex(index) < size\n",
    "        \n",
    "    def hasRightChild(self, index) -> bool:\n",
    "        self.hasRightChild(index) < size\n",
    "        \n",
    "    def hasParent(self, index) -> bool:\n",
    "        return self.getParentIndex(index) >= 0\n",
    "    \n",
    "    def leftChild(self, index):\n",
    "        return self.heap[getLeftChildIndex(index)]\n",
    "    \n",
    "    def rightChild(self, index):\n",
    "        return self.heap[getRightChildIndex(index)]\n",
    "    \n",
    "    def parent(self, index):\n",
    "        return self.heap[getParentIndex(index)]\n",
    "    \n",
    "# 0151 2272223 2010"
   ]
  }
 ],
 "metadata": {
  "kernelspec": {
   "display_name": "Python 3.8.2 64-bit",
   "language": "python",
   "name": "python38264bitd343ca77bf834830942a906cabbbade6"
  },
  "language_info": {
   "codemirror_mode": {
    "name": "ipython",
    "version": 3
   },
   "file_extension": ".py",
   "mimetype": "text/x-python",
   "name": "python",
   "nbconvert_exporter": "python",
   "pygments_lexer": "ipython3",
   "version": "3.8.2"
  }
 },
 "nbformat": 4,
 "nbformat_minor": 4
}
