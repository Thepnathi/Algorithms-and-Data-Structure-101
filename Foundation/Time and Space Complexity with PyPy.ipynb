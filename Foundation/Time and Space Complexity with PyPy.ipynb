{
 "cells": [
  {
   "cell_type": "markdown",
   "metadata": {},
   "source": [
    "# Sorting Algorithms"
   ]
  },
  {
   "cell_type": "markdown",
   "metadata": {},
   "source": [
    "## Quick Sort\n",
    "\n",
    "is divide and conquer like Merge Sort. Pick elements as pivot and partitions the given around around picked pivot.\n",
    "There can be multiple version of quicksort depending on picking the pivot:\n",
    "\n",
    "* Always pick first elem as pivot\n",
    "* Always pick last element as pivot\n",
    "* Pick random as pivot\n",
    "* Pick median as pivot"
   ]
  },
  {
   "cell_type": "code",
   "execution_count": null,
   "metadata": {},
   "outputs": [],
   "source": [
    "class QuickSort():\n",
    "    def partion(self, nums, low, high):\n",
    "        if low "
   ]
  }
 ],
 "metadata": {
  "kernelspec": {
   "display_name": "Python 3.8.2 64-bit",
   "language": "python",
   "name": "python38264bitd343ca77bf834830942a906cabbbade6"
  },
  "language_info": {
   "codemirror_mode": {
    "name": "ipython",
    "version": 3
   },
   "file_extension": ".py",
   "mimetype": "text/x-python",
   "name": "python",
   "nbconvert_exporter": "python",
   "pygments_lexer": "ipython3",
   "version": "3.8.2"
  }
 },
 "nbformat": 4,
 "nbformat_minor": 4
}
