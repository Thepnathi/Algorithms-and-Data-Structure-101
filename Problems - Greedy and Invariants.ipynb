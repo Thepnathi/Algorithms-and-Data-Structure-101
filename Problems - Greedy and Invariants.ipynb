{
 "cells": [
  {
   "cell_type": "markdown",
   "metadata": {},
   "source": [
    "# Greedy Algorithms and Invariant"
   ]
  },
  {
   "cell_type": "markdown",
   "metadata": {},
   "source": [
    "Algorithms that computes a solution in steps; each steps the algorithm makes a decision that is locally, optimum, and it never changes that decision."
   ]
  },
  {
   "cell_type": "code",
   "execution_count": 6,
   "metadata": {},
   "outputs": [],
   "source": [
    "from typing import List, Dict\n",
    "from threading import Timer\n",
    "from collections import Counter, namedtuple"
   ]
  },
  {
   "cell_type": "code",
   "execution_count": 8,
   "metadata": {},
   "outputs": [
    {
     "data": {
      "text/plain": [
       "3"
      ]
     },
     "execution_count": 8,
     "metadata": {},
     "output_type": "execute_result"
    }
   ],
   "source": [
    "def change_making(cent: int) -> int:\n",
    "    coins = [100, 50, 25, 10, 5, 1] # Greedy wont work if its not sorted\n",
    "    # unsorted can use dp\n",
    "    num_coins = 0\n",
    "    for coin in coins:\n",
    "        num_coins += cent // coin\n",
    "        cent %= coin\n",
    "    return num_coins\n",
    "\n",
    "change_making(250)"
   ]
  },
  {
   "cell_type": "markdown",
   "metadata": {},
   "source": [
    "Write method to assign tasks to works so that they take the least amount of time to finish. Each worker can have two tasks. \n",
    "\n",
    "For example, there are 6 tasks of 5,2,1,6,4,4 then we can do (5 + 2, 1+6, 4+4) = 8 hours"
   ]
  },
  {
   "cell_type": "code",
   "execution_count": 23,
   "metadata": {},
   "outputs": [
    {
     "data": {
      "text/plain": [
       "[PairedTasks(task_1=1, task_2=10), PairedTasks(task_1=8, task_2=9)]"
      ]
     },
     "execution_count": 23,
     "metadata": {},
     "output_type": "execute_result"
    }
   ],
   "source": [
    "PairedTasks = namedtuple('PairedTasks', ('task_1', 'task_2'))\n",
    "\n",
    "# nlogn due to sort\n",
    "def optimum_tasks(tasks: List[int]) -> List[PairedTasks]:\n",
    "    tasks.sort()\n",
    "    return [PairedTasks(tasks[i], tasks[~i]) for i in range(len(tasks) // 2)]\n",
    "\n",
    "optimum_tasks([9,1,8,10])"
   ]
  },
  {
   "cell_type": "code",
   "execution_count": 27,
   "metadata": {},
   "outputs": [
    {
     "data": {
      "text/plain": [
       "10"
      ]
     },
     "execution_count": 27,
     "metadata": {},
     "output_type": "execute_result"
    }
   ],
   "source": [
    "sum([1, 1,2,1,2,3])"
   ]
  },
  {
   "cell_type": "code",
   "execution_count": 32,
   "metadata": {},
   "outputs": [
    {
     "data": {
      "text/plain": [
       "10"
      ]
     },
     "execution_count": 32,
     "metadata": {},
     "output_type": "execute_result"
    }
   ],
   "source": [
    "def minimum_total_waiting_time(service_times: List[int]) -> int:\n",
    "    service_times.sort()\n",
    "    answer = 0\n",
    "    for i, num in enumerate(service_times):\n",
    "        remaining_queries = len(service_times) - (i+1)\n",
    "        answer += num * remaining_queries\n",
    "    return answer\n",
    "\n",
    "minimum_total_waiting_time([2, 5, 1, 3])"
   ]
  },
  {
   "cell_type": "code",
   "execution_count": 35,
   "metadata": {},
   "outputs": [
    {
     "data": {
      "text/plain": [
       "True"
      ]
     },
     "execution_count": 35,
     "metadata": {},
     "output_type": "execute_result"
    }
   ],
   "source": [
    "def two_sum_invariant(A: List[int], t: int) -> bool:\n",
    "    # assume array to be sorted\n",
    "    i, j = 0, len(A)-1\n",
    "    \n",
    "    while i <= j:\n",
    "        if A[i] + A[j] == t:\n",
    "            return True\n",
    "        elif A[i] + A[j] > t:\n",
    "            j-=1\n",
    "        else:\n",
    "            i+=1\n",
    "    return False\n",
    "two_sum_invariant([1,2,3,4,5,6,7], 9)"
   ]
  },
  {
   "cell_type": "code",
   "execution_count": 1,
   "metadata": {},
   "outputs": [
    {
     "ename": "NameError",
     "evalue": "name 'List' is not defined",
     "output_type": "error",
     "traceback": [
      "\u001b[1;31m---------------------------------------------------------------------------\u001b[0m",
      "\u001b[1;31mNameError\u001b[0m                                 Traceback (most recent call last)",
      "\u001b[1;32m<ipython-input-1-525398a53ea7>\u001b[0m in \u001b[0;36m<module>\u001b[1;34m\u001b[0m\n\u001b[1;32m----> 1\u001b[1;33m \u001b[1;32mclass\u001b[0m \u001b[0mSolution\u001b[0m\u001b[1;33m:\u001b[0m\u001b[1;33m\u001b[0m\u001b[1;33m\u001b[0m\u001b[0m\n\u001b[0m\u001b[0;32m      2\u001b[0m     \u001b[1;32mdef\u001b[0m \u001b[0mthreeSum_original\u001b[0m\u001b[1;33m(\u001b[0m\u001b[0mself\u001b[0m\u001b[1;33m,\u001b[0m \u001b[0mnums\u001b[0m\u001b[1;33m:\u001b[0m \u001b[0mList\u001b[0m\u001b[1;33m[\u001b[0m\u001b[0mint\u001b[0m\u001b[1;33m]\u001b[0m\u001b[1;33m)\u001b[0m \u001b[1;33m->\u001b[0m \u001b[0mList\u001b[0m\u001b[1;33m[\u001b[0m\u001b[0mList\u001b[0m\u001b[1;33m[\u001b[0m\u001b[0mint\u001b[0m\u001b[1;33m]\u001b[0m\u001b[1;33m]\u001b[0m\u001b[1;33m:\u001b[0m\u001b[1;33m\u001b[0m\u001b[1;33m\u001b[0m\u001b[0m\n\u001b[0;32m      3\u001b[0m         \u001b[0mnums\u001b[0m\u001b[1;33m.\u001b[0m\u001b[0msort\u001b[0m\u001b[1;33m(\u001b[0m\u001b[1;33m)\u001b[0m\u001b[1;33m\u001b[0m\u001b[1;33m\u001b[0m\u001b[0m\n\u001b[0;32m      4\u001b[0m         \u001b[0mvisited\u001b[0m \u001b[1;33m=\u001b[0m \u001b[1;33m{\u001b[0m\u001b[1;33m}\u001b[0m\u001b[1;33m\u001b[0m\u001b[1;33m\u001b[0m\u001b[0m\n\u001b[0;32m      5\u001b[0m         \u001b[0mresult\u001b[0m \u001b[1;33m=\u001b[0m \u001b[1;33m[\u001b[0m\u001b[1;33m]\u001b[0m\u001b[1;33m\u001b[0m\u001b[1;33m\u001b[0m\u001b[0m\n",
      "\u001b[1;32m<ipython-input-1-525398a53ea7>\u001b[0m in \u001b[0;36mSolution\u001b[1;34m()\u001b[0m\n\u001b[0;32m      1\u001b[0m \u001b[1;32mclass\u001b[0m \u001b[0mSolution\u001b[0m\u001b[1;33m:\u001b[0m\u001b[1;33m\u001b[0m\u001b[1;33m\u001b[0m\u001b[0m\n\u001b[1;32m----> 2\u001b[1;33m     \u001b[1;32mdef\u001b[0m \u001b[0mthreeSum_original\u001b[0m\u001b[1;33m(\u001b[0m\u001b[0mself\u001b[0m\u001b[1;33m,\u001b[0m \u001b[0mnums\u001b[0m\u001b[1;33m:\u001b[0m \u001b[0mList\u001b[0m\u001b[1;33m[\u001b[0m\u001b[0mint\u001b[0m\u001b[1;33m]\u001b[0m\u001b[1;33m)\u001b[0m \u001b[1;33m->\u001b[0m \u001b[0mList\u001b[0m\u001b[1;33m[\u001b[0m\u001b[0mList\u001b[0m\u001b[1;33m[\u001b[0m\u001b[0mint\u001b[0m\u001b[1;33m]\u001b[0m\u001b[1;33m]\u001b[0m\u001b[1;33m:\u001b[0m\u001b[1;33m\u001b[0m\u001b[1;33m\u001b[0m\u001b[0m\n\u001b[0m\u001b[0;32m      3\u001b[0m         \u001b[0mnums\u001b[0m\u001b[1;33m.\u001b[0m\u001b[0msort\u001b[0m\u001b[1;33m(\u001b[0m\u001b[1;33m)\u001b[0m\u001b[1;33m\u001b[0m\u001b[1;33m\u001b[0m\u001b[0m\n\u001b[0;32m      4\u001b[0m         \u001b[0mvisited\u001b[0m \u001b[1;33m=\u001b[0m \u001b[1;33m{\u001b[0m\u001b[1;33m}\u001b[0m\u001b[1;33m\u001b[0m\u001b[1;33m\u001b[0m\u001b[0m\n\u001b[0;32m      5\u001b[0m         \u001b[0mresult\u001b[0m \u001b[1;33m=\u001b[0m \u001b[1;33m[\u001b[0m\u001b[1;33m]\u001b[0m\u001b[1;33m\u001b[0m\u001b[1;33m\u001b[0m\u001b[0m\n",
      "\u001b[1;31mNameError\u001b[0m: name 'List' is not defined"
     ]
    }
   ],
   "source": [
    "class Solution:\n",
    "    def threeSum_original(self, nums: List[int]) -> List[List[int]]:\n",
    "        nums.sort()\n",
    "        visited = {}\n",
    "        result = []\n",
    "        if len(nums) < 3:\n",
    "            return result\n",
    "\n",
    "        for i in range(len(nums)):\n",
    "            if nums[i] in visited:\n",
    "                i += 1\n",
    "            else:\n",
    "                visited[nums[i]] = nums[i]\n",
    "                j, z = i+1, len(nums)-1\n",
    "                backVisit = {}\n",
    "                while j <= z:\n",
    "                    if nums[j] in backVisit:\n",
    "                        j += 1\n",
    "                    else:\n",
    "                        current = [nums[i], nums[j], nums[z]]\n",
    "                        if sum(current) == 0:\n",
    "                            result.append(current)\n",
    "                            j += 1\n",
    "                        elif sum(current) > 0:\n",
    "                            z -= 1\n",
    "                        else:\n",
    "                            j += 1\n",
    "                    backVisit[nums[j]] = j\n",
    "        return result\n",
    "    \n",
    "    def threeSum(self, nums: List[int]) -> List[List[int]]:\n",
    "        res = []\n",
    "        nums.sort()\n",
    "        \n",
    "        for i, num in enumerate(nums):\n",
    "            if i > 0 and num == nums[i-1]:\n",
    "                continue\n",
    "            left, right = i+1, len(nums)-1\n",
    "            while left < right:\n",
    "                threeSum = num + nums[left] + nums[right]\n",
    "                if threeSum > 0:\n",
    "                    right -= 1\n",
    "                elif threeSum < 0:\n",
    "                    left += 1\n",
    "                else:\n",
    "                    res.append([num, nums[left], nums[right]])\n",
    "                    left += 1\n",
    "                    while nums[left] == nums[left-1] and left < right:\n",
    "                        left += 1\n",
    "        return result\n",
    "    \n",
    "\n",
    "s = Solution()\n",
    "s.threeSum([0,0,0])"
   ]
  },
  {
   "cell_type": "code",
   "execution_count": 7,
   "metadata": {},
   "outputs": [
    {
     "data": {
      "text/plain": [
       "4"
      ]
     },
     "execution_count": 7,
     "metadata": {},
     "output_type": "execute_result"
    }
   ],
   "source": [
    "class Solution:\n",
    "    def minAddToMakeValid(self, S: str) -> int:\n",
    "        stack = []\n",
    "        for i, char in enumerate(S):\n",
    "            if stack:\n",
    "                if char == \")\" and stack[-1] == \"(\":\n",
    "                    stack.pop()\n",
    "                else:\n",
    "                    stack.append(char)\n",
    "            else:\n",
    "                stack.append(char)\n",
    "        return len(stack)\n",
    "    \n",
    "s = Solution()\n",
    "s.minAddToMakeValid(\"()))((\")"
   ]
  },
  {
   "cell_type": "code",
   "execution_count": 18,
   "metadata": {},
   "outputs": [
    {
     "name": "stdout",
     "output_type": "stream",
     "text": [
      "[[4, 4], [5, 0], [5, 2], [6, 1], [7, 0], [7, 1]]\n"
     ]
    },
    {
     "data": {
      "text/plain": [
       "[0, 0, 0, 0, [4, 4], 0]"
      ]
     },
     "execution_count": 18,
     "metadata": {},
     "output_type": "execute_result"
    }
   ],
   "source": [
    "class Solution:\n",
    "    def reconstructQueue(self, people: List[List[int]]) -> List[List[int]]:\n",
    "        people.sort()\n",
    "        result = [0] * len(people)\n",
    "        result[people[0][1]] = people[0]\n",
    "        \n",
    "        for i in range(1, len(people)):\n",
    "            x=1\n",
    "        \n",
    "        return result\n",
    "    \n",
    "t1 = [[7,0], [4,4], [7,1], [5,0], [6,1], [5,2]]\n",
    "s = Solution()\n",
    "s.reconstructQueue(t1)"
   ]
  }
 ],
 "metadata": {
  "kernelspec": {
   "display_name": "Python 3.8.2 64-bit",
   "language": "python",
   "name": "python38264bitd343ca77bf834830942a906cabbbade6"
  },
  "language_info": {
   "codemirror_mode": {
    "name": "ipython",
    "version": 3
   },
   "file_extension": ".py",
   "mimetype": "text/x-python",
   "name": "python",
   "nbconvert_exporter": "python",
   "pygments_lexer": "ipython3",
   "version": "3.8.2"
  }
 },
 "nbformat": 4,
 "nbformat_minor": 4
}
