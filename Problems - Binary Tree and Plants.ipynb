{
 "cells": [
  {
   "cell_type": "markdown",
   "metadata": {},
   "source": [
    "# Binary Tree and Plants Problems :}\n",
    "\n",
    "Basic facts and figures:\n",
    "\n",
    "* Binary tree is either empty, or a root node r with left or right binary tree (left subtree and right subtrees of root)\n",
    "* The subtrees themselves are binary trees\n",
    "* Unlike binary search tree, the keys are stored in sorted fashion\n",
    "* Binary tree is for dealing with hierarchies\n",
    "```\n",
    "       1\n",
    "     /   \\\n",
    "    2     3\n",
    "   / \\   / \\\n",
    "  4   5 6   7\n",
    "```\n",
    "* Binary tree with the highest depth of 2 (the root to the deepest - count vertices)\n",
    "\n",
    "### Binary Tree Traversal\n",
    "* ***Inorder*** traversal: Visit left subtree, visit root, traverse right subtree 4,2,5,1,6,3,7 ***Tricky to implement iteratively***\n",
    "* ***Preorder*** traversal: Visit root, left subtree, right subtree 1,2,4,5,3,6,7\n",
    "* ***Postorder*** traversal: Visit left subtree, right subtree, root 4,5,2,6,7,3,1\n",
    "\n",
    "Let T be a binary tree of n nodes, with height h. Implemented recursively, these traversal have O(n) time and O(h)  additionaly space (resursion depth or maximum depth of the function call stack).\n",
    "* If each nodes has a parent it can be done O(1) additional space\n",
    "* The terms tree is overloaded is ..."
   ]
  },
  {
   "cell_type": "code",
   "execution_count": 47,
   "metadata": {},
   "outputs": [],
   "source": [
    "from typing import List, Dict\n",
    "\n",
    "class BinaryTreeNode:\n",
    "    def __init__(self, val=None, left=None, right=None):\n",
    "        self.val = val\n",
    "        self.left = left\n",
    "        self.right = right\n",
    "\n",
    "class BinaryTree:\n",
    "    def __init__(self, root=None):\n",
    "        self.root = BinaryTreeNode(root)\n",
    "          \n",
    "    def insertNodes(self, nodes: List[int]) -> None:\n",
    "        queue = [self.root]\n",
    "        left, right = False, False\n",
    "        for node in nodes:\n",
    "            newNode = BinaryTreeNode(node)\n",
    "            if left is False:\n",
    "                queue[0].left = newNode\n",
    "                queue.append(newNode)\n",
    "                left = True\n",
    "            elif right is False:\n",
    "                queue[0].right = newNode\n",
    "                queue.append(newNode)\n",
    "                right = True\n",
    "            \n",
    "            if left and right:\n",
    "                queue.pop(0)\n",
    "                left, right = False, False\n",
    "                             \n",
    "b = BinaryTree(1)\n",
    "b.insertNodes([2,3,4,5,6,7])"
   ]
  },
  {
   "cell_type": "markdown",
   "metadata": {},
   "source": [
    "### EPI Problems "
   ]
  },
  {
   "cell_type": "code",
   "execution_count": 34,
   "metadata": {},
   "outputs": [
    {
     "name": "stdout",
     "output_type": "stream",
     "text": [
      "Inorder: 4\n",
      "Inorder: 2\n",
      "Inorder: 5\n",
      "Inorder: 1\n",
      "Inorder: 6\n",
      "Inorder: 3\n",
      "Inorder: 7\n"
     ]
    }
   ],
   "source": [
    "class Traversal:\n",
    "    def preorder(self, root: BinaryTreeNode) -> None:\n",
    "        if root:\n",
    "            # Process root before left and right\n",
    "            print(\"Preorder: %d\" % root.val)\n",
    "            self.preorder(root.left)\n",
    "            self.preorder(root.right)\n",
    "    \n",
    "    def inorder(self, root: BinaryTreeNode) -> None:\n",
    "        if root:\n",
    "            # Process root after left and before right\n",
    "            self.inorder(root.left)\n",
    "            print(\"Inorder: %d\" % root.val)\n",
    "            self.inorder(root.right)\n",
    "            \n",
    "    def postorder(self, root: BinaryTreeNode) -> None:\n",
    "        if root:\n",
    "            # Process left and right before root\n",
    "            self.postorder(root.left)\n",
    "            self.postorder(root.right)\n",
    "            print(\"Postorder: %d\" % root.val)\n",
    "        \n",
    "t = Traversal()\n",
    "t.inorder(b.root)"
   ]
  },
  {
   "cell_type": "code",
   "execution_count": 1,
   "metadata": {},
   "outputs": [],
   "source": [
    "from typing import List\n",
    "\n",
    "class Node(object):\n",
    "    def __init__(self, val: int):\n",
    "        self.val = val\n",
    "        self.left = None\n",
    "        self.right = None\n",
    "        \n",
    "class BinaryTree(object):\n",
    "    def __init__(self, root: int):\n",
    "        self.root = Node(root)\n",
    "        \n",
    "    def insertNode(self, nums: List[int]):\n",
    "        return 1"
   ]
  },
  {
   "cell_type": "code",
   "execution_count": 2,
   "metadata": {},
   "outputs": [],
   "source": [
    "#       1\n",
    "#     /   \\\n",
    "#    2     3\n",
    "#   / \\   / \\\n",
    "#  4   5 6   7\n",
    "tree1 = BinaryTree(1)\n",
    "tree1.root.left = Node(2)\n",
    "tree1.root.right = Node(3)\n",
    "tree1.root.left.left = Node(4)\n",
    "tree1.root.left.right = Node(5)\n",
    "tree1.root.right.left = Node(6)\n",
    "tree1.root.right.right = Node(7)"
   ]
  },
  {
   "cell_type": "code",
   "execution_count": 3,
   "metadata": {},
   "outputs": [
    {
     "name": "stdout",
     "output_type": "stream",
     "text": [
      "Current val 2\n",
      "[]\n",
      "Current val 3\n",
      "[3, 2, 4]\n",
      "Current val 2\n",
      "[3, 2, 4]\n",
      "Current val 3\n",
      "[3, 2, 4, 3, 2, 4]\n"
     ]
    },
    {
     "data": {
      "text/plain": [
       "[3, 2, 4, 3, 2, 4]"
      ]
     },
     "execution_count": 3,
     "metadata": {},
     "output_type": "execute_result"
    }
   ],
   "source": [
    "class Solution_94:\n",
    "    def inorderTraversal(self, root: Node) -> List[int]:\n",
    "        result = []\n",
    "        \n",
    "        visited = {}\n",
    "        parent = []\n",
    "        \n",
    "        curr = root\n",
    "        parent.append(curr)\n",
    "        \n",
    "        while parent:\n",
    "            if curr.left and (curr.left in visited) == False:\n",
    "                curr = curr.left \n",
    "                print(\"Current val \" + str(curr.val))\n",
    "                if curr.left or curr.right:\n",
    "                    parent.append(curr)\n",
    "                else:\n",
    "                    result.append(curr.val)\n",
    "                    if parent[-1].right:  # Check if parent has right child\n",
    "                        result.append(parent[-1].val)\n",
    "                        result.append(parent[-1].right.val)\n",
    "                        parent.pop()\n",
    "                        if parent: curr = parent[-1]\n",
    "                    else: # Parent has no right child\n",
    "                        result.append(parent[-1].val)\n",
    "                        parent.pop()\n",
    "                        if parent: curr = parent[-1]\n",
    "            print(result)        \n",
    "            if len(result) > 5: return result\n",
    "        return result\n",
    "#    1\n",
    "#     \\\n",
    "#      3\n",
    "#       \\\n",
    "#        5\n",
    "\n",
    "#    1\n",
    "#     \\\n",
    "#      3\n",
    "#     /\n",
    "#    5\n",
    "s0 = [4, 2, 5, 1, 6, 3, 7]\n",
    "tree = BinaryTree(1)\n",
    "tree.root.left = Node(2)\n",
    "tree.root.left.left = Node(3)\n",
    "tree.root.left.right = Node(4)\n",
    "s = Solution_94()\n",
    "s.inorderTraversal(tree.root)"
   ]
  },
  {
   "cell_type": "code",
   "execution_count": 4,
   "metadata": {},
   "outputs": [
    {
     "data": {
      "text/plain": [
       "32"
      ]
     },
     "execution_count": 4,
     "metadata": {},
     "output_type": "execute_result"
    }
   ],
   "source": [
    "class Solution_938:\n",
    "    def rangeSumBST(self, root: Node, L: int, R: int) -> int:\n",
    "        total_sum = 0\n",
    "        \n",
    "        visited = {}\n",
    "        stack = []\n",
    "        \n",
    "        curr = root\n",
    "        stack.append(curr)\n",
    "        \n",
    "        while stack:\n",
    "            if curr.val >= L and curr.val <= R and (curr in visited) == False:\n",
    "                total_sum += curr.val\n",
    "                \n",
    "            visited[curr] = curr.val\n",
    "\n",
    "            if curr.left and (curr.left in visited) == False:\n",
    "                curr = curr.left\n",
    "                stack.append(curr)\n",
    "            elif curr.right and (curr.right in visited) == False:\n",
    "                curr = curr.right\n",
    "                stack.append(curr)\n",
    "            else: \n",
    "                stack.pop()\n",
    "                if stack:\n",
    "                    curr = stack[-1]\n",
    "                    \n",
    "        return total_sum\n",
    "                \n",
    "#        10\n",
    "#       /  \\\n",
    "#     5      15\n",
    "#   / \\      / \\\n",
    "#  3   7       18\n",
    "bst = BinaryTree(10)\n",
    "bst.root.left = Node(5)\n",
    "bst.root.left.left = Node(3)\n",
    "bst.root.left.right = Node(7)\n",
    "bst.root.right = Node(15)\n",
    "bst.root.right.right = Node(18)\n",
    "\n",
    "bst\n",
    "            \n",
    "s = Solution_938()\n",
    "s.rangeSumBST(bst.root, 7, 15)"
   ]
  },
  {
   "cell_type": "code",
   "execution_count": null,
   "metadata": {},
   "outputs": [],
   "source": []
  },
  {
   "cell_type": "code",
   "execution_count": 5,
   "metadata": {},
   "outputs": [
    {
     "data": {
      "text/plain": [
       "4"
      ]
     },
     "execution_count": 5,
     "metadata": {},
     "output_type": "execute_result"
    }
   ],
   "source": [
    "from typing import List\n",
    "\n",
    "class Solution:\n",
    "    def numIdenticalPairs(self, nums: List[int]) -> int:\n",
    "        result = 0\n",
    "        dic = {}\n",
    "        for i, num in enumerate(nums):\n",
    "            if num in dic:\n",
    "                dic[num].append(i)\n",
    "                for j, num in enumerate(dic[num]):\n",
    "                    if num < i:\n",
    "                        result+=1\n",
    "            else:\n",
    "                dic[num] = [i]\n",
    "        return result\n",
    "t1 = [1,2,3,1,1,3]\n",
    "s = Solution()\n",
    "s.numIdenticalPairs(t1)"
   ]
  },
  {
   "cell_type": "code",
   "execution_count": 6,
   "metadata": {},
   "outputs": [],
   "source": [
    "class Solution_94:\n",
    "    def inorderTraversal(self, root: Node) -> List[int]:\n",
    "        result = []\n",
    "        \n",
    "        visited = {}\n",
    "        stack = []\n",
    "        parent = [root]\n",
    "        \n",
    "        curr = root\n",
    "        stack.append(curr)\n",
    "        \n",
    "        while stack:\n",
    "                \n",
    "            if curr.left and (curr.left in visited) == False:\n",
    "                curr = curr.left\n",
    "                stack.append(curr)\n",
    "                \n",
    "                if curr.left or curr.right:\n",
    "                    parent.append(curr)\n",
    "                else:\n",
    "                    result.append(curr.val)\n",
    "                    visited[curr] = curr.val\n",
    "                    \n",
    "                    \n",
    "            elif curr.right and (curr.right in visited) == False:\n",
    "                curr = curr.right\n",
    "                stack.append(curr)\n",
    "                \n",
    "                if curr.left or curr.right:\n",
    "                    parent.append(curr)\n",
    "                \n",
    "                \n",
    "        return result"
   ]
  },
  {
   "cell_type": "code",
   "execution_count": 2,
   "metadata": {},
   "outputs": [
    {
     "data": {
      "text/plain": [
       "2"
      ]
     },
     "execution_count": 2,
     "metadata": {},
     "output_type": "execute_result"
    }
   ],
   "source": [
    "# Definition for a binary tree node.\n",
    "# class TreeNode:\n",
    "#     def __init__(self, val=0, left=None, right=None):\n",
    "#         self.val = val\n",
    "#         self.left = left\n",
    "#         self.right = right\n",
    "\n",
    "# 17:15 # 17:40 (O(v*e))\n",
    "class Solution_111:\n",
    "    def minDepth(self, root: Node) -> int:\n",
    "        visited = {}\n",
    "        stack = []\n",
    "        minDepth = 1000000\n",
    "        currDepth = 1\n",
    "        \n",
    "        curr = root\n",
    "        stack.append(curr)\n",
    "        \n",
    "        while stack:\n",
    "            if curr.left and (curr.left in visited) == False:\n",
    "                curr = curr.left\n",
    "                stack.append(curr)\n",
    "                visited[curr] = curr.val\n",
    "                currDepth += 1\n",
    "            elif curr.right and (curr.right in visited) == False:\n",
    "                curr = curr.right\n",
    "                stack.append(curr)\n",
    "                visited[curr] = curr.val\n",
    "                currDepth += 1\n",
    "            else:\n",
    "                stack.pop()\n",
    "                if stack: \n",
    "                    curr = stack[-1]\n",
    "                    currDepth -= 1\n",
    "            if curr.left is None and curr.right is None and currDepth != 0 and currDepth < minDepth:\n",
    "                minDepth = currDepth\n",
    "        return minDepth\n",
    "\n",
    "class Solution_111_recursion:\n",
    "    def minDepth(self, root: Node) -> int:\n",
    "        if root is None: \n",
    "            return 0\n",
    "        if None in [root.left, root.right]:\n",
    "            return max(self.minDepth(root.left), self.minDepth(root.right)) + 1\n",
    "        else:\n",
    "            return min(self.minDepth(root.left), self.minDepth(root.right)) + 1\n",
    "        \n",
    "#     3\n",
    "#    / \\\n",
    "#   9  20\n",
    "#     /  \\\n",
    "#    15   7\n",
    "\n",
    "t= BinaryTree(3)\n",
    "t.root.left = Node(9)\n",
    "t.root.right = Node(20)\n",
    "t.root.right.left = Node(15)\n",
    "t.root.right.right = Node(7)\n",
    "s = Solution_111_recursion()\n",
    "s.minDepth(t.root)"
   ]
  },
  {
   "cell_type": "code",
   "execution_count": 3,
   "metadata": {},
   "outputs": [
    {
     "ename": "IndentationError",
     "evalue": "expected an indented block (<ipython-input-3-2418e946e9d6>, line 11)",
     "output_type": "error",
     "traceback": [
      "\u001b[1;36m  File \u001b[1;32m\"<ipython-input-3-2418e946e9d6>\"\u001b[1;36m, line \u001b[1;32m11\u001b[0m\n\u001b[1;33m    tree = BinaryTree(3)\u001b[0m\n\u001b[1;37m                        ^\u001b[0m\n\u001b[1;31mIndentationError\u001b[0m\u001b[1;31m:\u001b[0m expected an indented block\n"
     ]
    }
   ],
   "source": [
    "# Definition for a binary tree node.\n",
    "# class TreeNode:\n",
    "#     def __init__(self, val=0, left=None, right=None):\n",
    "#         self.val = val\n",
    "#         self.left = left\n",
    "#         self.right = right\n",
    "class Solution:\n",
    "    def findMode(self, root: TreeNode) -> List[int]:\n",
    "        dict = {}\n",
    "        \n",
    "        for i in r\n",
    "        \n",
    "tree = BinaryTree(3)\n",
    "tree.root.left = Node(2)\n",
    "tree.root.left.left = Node(3)\n",
    "tree.root.left.right = Node(4)\n",
    "tree.root.right = Node(2)\n",
    "tree.root.right.left = Node(4)\n",
    "tree.root.right.right = Node(3)"
   ]
  },
  {
   "cell_type": "code",
   "execution_count": 1,
   "metadata": {},
   "outputs": [
    {
     "ename": "IndentationError",
     "evalue": "expected an indented block (<ipython-input-1-6790919bd07d>, line 10)",
     "output_type": "error",
     "traceback": [
      "\u001b[1;36m  File \u001b[1;32m\"<ipython-input-1-6790919bd07d>\"\u001b[1;36m, line \u001b[1;32m10\u001b[0m\n\u001b[1;33m    tree = BinaryTree(3)\u001b[0m\n\u001b[1;37m                        ^\u001b[0m\n\u001b[1;31mIndentationError\u001b[0m\u001b[1;31m:\u001b[0m expected an indented block\n"
     ]
    }
   ],
   "source": [
    "\n",
    "class Solution:\n",
    "    def isSymmetric(self, root: Node) -> bool:\n",
    "\n",
    "        \n",
    "#     1\n",
    "#    / \\\n",
    "#   2   2\n",
    "#  / \\ / \\\n",
    "# 3  4 4  3\n",
    "tree = BinaryTree(3)\n",
    "tree.root.left = Node(2)\n",
    "tree.root.left.left = Node(3)\n",
    "tree.root.left.right = Node(4)\n",
    "tree.root.right = Node(2)\n",
    "tree.root.right.left = Node(4)\n",
    "tree.root.right.right = Node(3)"
   ]
  },
  {
   "cell_type": "code",
   "execution_count": 101,
   "metadata": {},
   "outputs": [],
   "source": [
    "# Definition for a binary tree node.\n",
    "from typing import List\n",
    "class TreeNode:\n",
    "    def __init__(self, val=0, left=None, right=None):\n",
    "        self.val = val\n",
    "        self.left = left\n",
    "        self.right = right\n",
    "        \n",
    "class Solution:\n",
    "    def constructMaximumBinaryTree(self, nums: List[int]) -> TreeNode:\n",
    "        start = max(nums)\n",
    "        startIndex = nums.index(start)\n",
    "        \n",
    "        currLeft = nums[0:startIndex]\n",
    "        currRight = nums[startIndex+1:len(nums)]\n",
    "        \n",
    "        root = TreeNode(start)\n",
    "        \n",
    "t1= [3,2,1,6,0,5]\n",
    "# Output: return the tree root node representing the following tree:\n",
    "\n",
    "#       6\n",
    "#     /   \\\n",
    "#    3     5\n",
    "#     \\    / \n",
    "#      2  0   \n",
    "#        \\\n",
    "#         1\n",
    "s = Solution()\n",
    "s.constructMaximumBinaryTree(t1)"
   ]
  },
  {
   "cell_type": "markdown",
   "metadata": {},
   "source": [
    "### 94. Binary Tree Inorder Traversal"
   ]
  },
  {
   "cell_type": "code",
   "execution_count": 100,
   "metadata": {},
   "outputs": [
    {
     "data": {
      "text/plain": [
       "[4, 2, 5, 1, 6, 3, 7]"
      ]
     },
     "execution_count": 100,
     "metadata": {},
     "output_type": "execute_result"
    }
   ],
   "source": [
    "class Solution:\n",
    "    def inorderTraversal(self, root: BinaryTreeNode) -> List[int]:\n",
    "        res = []\n",
    "        self.recurse(root, res)\n",
    "        return res\n",
    "    \n",
    "    def recurse(self, root: BinaryTreeNode, result: List[int]) -> List[int]:\n",
    "        if root:\n",
    "            self.recurse(root.left, result)\n",
    "            result.append(root.val)\n",
    "            self.recurse(root.right, result)\n",
    "            if root.left == None and root.right == None:\n",
    "                return result\n",
    "        else:\n",
    "            return result\n",
    "        \n",
    "s = Solution()\n",
    "s.inorderTraversal(b.root)"
   ]
  },
  {
   "cell_type": "markdown",
   "metadata": {},
   "source": [
    "### 144. Binary Tree Preorder Traversal"
   ]
  },
  {
   "cell_type": "code",
   "execution_count": null,
   "metadata": {},
   "outputs": [],
   "source": [
    "class Solution:\n",
    "    def preorderTraversal(self, root: TreeNode) -> List[int]:\n",
    "        res = []\n",
    "        self.recursive(root, res)\n",
    "        return res\n",
    "    \n",
    "    def recursive(self, root: TreeNode, result: List[int]) -> List[int]:\n",
    "        if root:\n",
    "            result.append(root.val)\n",
    "            self.recursive(root.left, result)\n",
    "            self.recursive(root.right, result)\n",
    "            if root.left is None and root.right is None:\n",
    "                return result\n",
    "        else:\n",
    "            return"
   ]
  }
 ],
 "metadata": {
  "kernelspec": {
   "display_name": "Python 3.8.2 64-bit",
   "language": "python",
   "name": "python38264bitd343ca77bf834830942a906cabbbade6"
  },
  "language_info": {
   "codemirror_mode": {
    "name": "ipython",
    "version": 3
   },
   "file_extension": ".py",
   "mimetype": "text/x-python",
   "name": "python",
   "nbconvert_exporter": "python",
   "pygments_lexer": "ipython3",
   "version": "3.8.2"
  }
 },
 "nbformat": 4,
 "nbformat_minor": 4
}
