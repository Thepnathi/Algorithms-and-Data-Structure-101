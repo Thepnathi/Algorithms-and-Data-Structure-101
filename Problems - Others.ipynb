{
 "cells": [
  {
   "cell_type": "markdown",
   "metadata": {},
   "source": [
    "# Other Problems\n",
    "\n",
    "These problems falls below other category, some examples:\n",
    "    * Design class to do x, y, z"
   ]
  },
  {
   "cell_type": "markdown",
   "metadata": {},
   "source": [
    "## Leetcode Problems"
   ]
  },
  {
   "cell_type": "markdown",
   "metadata": {},
   "source": [
    "### 933. Number of Recent Calls\n",
    "https://stackoverflow.com/questions/32543608/deque-popleft-and-list-pop0-is-there-performance-difference"
   ]
  },
  {
   "cell_type": "code",
   "execution_count": 6,
   "metadata": {},
   "outputs": [],
   "source": [
    "class RecentCounter_Original:\n",
    "    def __init__(self):\n",
    "        self.queue = []\n",
    "    \n",
    "    def ping(self, t: int) -> int:\n",
    "        total = 0\n",
    "        self.queue.append(t)\n",
    "        for i in range(len(self.queue)-1, -1, -1):\n",
    "            if t - self.queue[i] <= 3000 or t == self.queue[i]:\n",
    "                total+=1\n",
    "            else: \n",
    "                break\n",
    "        return total\n",
    "\n",
    "class RecentCounter:\n",
    "    def __init__(self):\n",
    "        self.p = collections.deque()        \n",
    "\n",
    "    def ping(self, t):\n",
    "        self.p.append(t)\n",
    "        while self.p[0] < t - 3000:\n",
    "            self.p.popleft()\n",
    "        return len(self.p)"
   ]
  }
 ],
 "metadata": {
  "kernelspec": {
   "display_name": "Python 3.8.2 64-bit",
   "language": "python",
   "name": "python38264bitd343ca77bf834830942a906cabbbade6"
  },
  "language_info": {
   "codemirror_mode": {
    "name": "ipython",
    "version": 3
   },
   "file_extension": ".py",
   "mimetype": "text/x-python",
   "name": "python",
   "nbconvert_exporter": "python",
   "pygments_lexer": "ipython3",
   "version": "3.8.2"
  }
 },
 "nbformat": 4,
 "nbformat_minor": 4
}
