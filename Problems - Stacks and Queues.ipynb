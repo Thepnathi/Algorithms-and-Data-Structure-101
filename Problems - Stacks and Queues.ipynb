{
 "cells": [
  {
   "cell_type": "markdown",
   "metadata": {},
   "source": [
    "# Stacks and Queues Problems"
   ]
  },
  {
   "cell_type": "markdown",
   "metadata": {},
   "source": [
    "Stack info:\n",
    "* Supports two operation, push and pop\n",
    "* When stack implemented as Linked List, those operations has O(1) time\n",
    "* when implemented as dynamic array, amortized time again is O(1)\n",
    "* Stack can implement additional operation sucgh as peek (returns top of stack without pop)\n",
    "\n",
    "Queue facts and figures:\n",
    "* Ideal when order needs to be preservered\n",
    "* Linked list implementation has O(1) time complexity\n",
    "* List/Array implementation \n",
    "* Can get head and tail without deleteing"
   ]
  },
  {
   "cell_type": "code",
   "execution_count": 55,
   "metadata": {},
   "outputs": [
    {
     "name": "stdout",
     "output_type": "stream",
     "text": [
      "2\n",
      "7\n"
     ]
    }
   ],
   "source": [
    "# Common Library \n",
    "from typing import List, Dict\n",
    "from collections import Counter, namedtuple, deque\n",
    "from threading import Timer\n",
    "from random import randint\n",
    "import heapq\n",
    "\n",
    "# Personal Library\n",
    "from Library.binary_tree import TreeNode, BinaryTree\n",
    "from Library.linked_list import ListNode, LinkedList\n",
    "    \n",
    "l = LinkedList([1,2,3])\n",
    "b = BinaryTree(1)\n",
    "b.insertNodes([2,3,4,5,6,7])\n",
    "# ```\n",
    "#        1\n",
    "#      /   \\\n",
    "#     2     3\n",
    "#    / \\   / \\\n",
    "#   4   5 6   7\n",
    "# ```\n",
    "print(l.head.next.data)\n",
    "print(b.root.right.right.val)"
   ]
  },
  {
   "cell_type": "code",
   "execution_count": 5,
   "metadata": {},
   "outputs": [],
   "source": [
    "class Stack: \n",
    "    ElementWithCachedMax = namedtuple('ElementWithCachedMax', ('element', 'max'))\n",
    "    \n",
    "    def __init__(self) -> None:\n",
    "        self.stack: List[Stack.ElementWithCachedMax] = []\n",
    "            \n",
    "    def empty(self) -> bool:\n",
    "        return len(self.stack) == 0\n",
    "    \n",
    "    def max(self) -> int:\n",
    "        return self.stack[-1].max\n",
    "    \n",
    "    def peek(self) -> int:\n",
    "        return self.stack[-1].element\n",
    "    \n",
    "    def pop(self) -> int: \n",
    "        return self.stack.pop().element\n",
    "    \n",
    "    def push(self, x: int) -> None:\n",
    "        self.stack.append(self.ElementWithCachedMax(x, x if self.empty() else max(x, self.max())))\n",
    "        \n",
    "s = Stack()\n",
    "for i in range(1, 6): s.push(i)"
   ]
  },
  {
   "cell_type": "code",
   "execution_count": 4,
   "metadata": {},
   "outputs": [],
   "source": [
    "class Queue: \n",
    "    def __init__(self) -> None:\n",
    "        self.queue: Deque[int] = collections.deque()\n",
    "            \n",
    "    def enqueue(self, x: int) -> None:\n",
    "        self.queue.append(x)\n",
    "        \n",
    "    def dequeue(self) -> int:\n",
    "        return self.queue.popleft()\n",
    "    \n",
    "    def max(self) -> int: \n",
    "        return max(self.queue)"
   ]
  },
  {
   "cell_type": "markdown",
   "metadata": {},
   "source": [
    "## EPI Problems"
   ]
  },
  {
   "cell_type": "code",
   "execution_count": null,
   "metadata": {},
   "outputs": [],
   "source": []
  },
  {
   "cell_type": "markdown",
   "metadata": {},
   "source": [
    "Reverse Polish Notation (RPN) string follows the following rules:\n",
    "\n",
    "* Single digits or sequence of digits, prefixed with an option - e.g. \"6\", \"123\", \"-42\"\n",
    "* In the form of \"A, B, o\" where A and B are RPN expressions and o is one of +,-,x,/\n",
    "\n",
    "Some examples that satifsfy above rules: \"1729\", \"3,4,+,2,X,1+\", \"-2,1,+,3\"\n",
    "\n",
    "Write program to evaluate the answer \n",
    "suppose A evaluates to 2 and B to 3 then \"A,B,x\" is 6\n",
    "suppose A B is ... \"7,2,/\" will evaluate to 3\n",
    "\n",
    "***Variant: Do it with o,A,B\"***"
   ]
  },
  {
   "cell_type": "code",
   "execution_count": 6,
   "metadata": {},
   "outputs": [
    {
     "data": {
      "text/plain": [
       "7"
      ]
     },
     "execution_count": 6,
     "metadata": {},
     "output_type": "execute_result"
    }
   ],
   "source": [
    "def rpn_variant(s: str) -> int:\n",
    "    result = []\n",
    "    total = 0\n",
    "    delimiter = \",\"\n",
    "    operators = {\n",
    "        \"+\": lambda x, y: x + y, \n",
    "        \"X\": lambda x, y: x * y,\n",
    "        \"-\": lambda x, y: x - y, \n",
    "        \"/\": lambda x, y: x / y,\n",
    "    }\n",
    "    \n",
    "    bananaSplit = s.split(delimiter)\n",
    "    for i in range(len(bananaSplit)-1, -1, -1):\n",
    "        if bananaSplit[i] in operators:\n",
    "            result.append(operators[bananaSplit[i]](result.pop(), result.pop()))\n",
    "        else:\n",
    "            result.append(int(bananaSplit[i]))\n",
    "    return result[-1]\n",
    "                          \n",
    "rpn_variant(\"+,3,4\")"
   ]
  },
  {
   "cell_type": "markdown",
   "metadata": {},
   "source": [
    "Write method to check if string is well-formed. These contains character \"{}()[]\". The bracket must be closed.\n",
    "\n",
    "([]){()} is True\n",
    "{)} is False"
   ]
  },
  {
   "cell_type": "code",
   "execution_count": 12,
   "metadata": {},
   "outputs": [
    {
     "data": {
      "text/plain": [
       "False"
      ]
     },
     "execution_count": 12,
     "metadata": {},
     "output_type": "execute_result"
    }
   ],
   "source": [
    "def brackets(s: str) -> bool:\n",
    "    stack = []\n",
    "    brackets = {\"}\":\"{\", \")\":\"(\", \"]\":\"[\"}\n",
    "    \n",
    "    for char in s:\n",
    "        if char in brackets:\n",
    "            if stack[-1] == brackets[char]:\n",
    "                stack.pop()\n",
    "            else:\n",
    "                return False\n",
    "        else:\n",
    "            stack.append(char)\n",
    "            \n",
    "    if stack:\n",
    "        return False\n",
    "    return True\n",
    "\n",
    "brackets(\"([]){(}\")"
   ]
  },
  {
   "cell_type": "markdown",
   "metadata": {},
   "source": [
    "You are given series of bulding heading west. Building in straight line, and any building which is to the east of a building of equal or greater height cannot view the sunset. Design an algo that processes buldins in east to west order. Return the buildings which view the sunset. Each building specied by height."
   ]
  },
  {
   "cell_type": "code",
   "execution_count": 6,
   "metadata": {},
   "outputs": [],
   "source": [
    "def sunsetBuilding(buildings: List[int]):\n",
    "    stack = []\n",
    "    result = []\n",
    "    \n",
    "    for num in buildings:\n",
    "        if not stack:\n",
    "            result.append(num)\n",
    "            stack.append(num)\n",
    "        elif num > stack[-1]:\n",
    "            result.append(num)\n",
    "            stack.append(num)\n",
    "    return result\n",
    "\n",
    "t = [5,1,2,6,3,9,7]"
   ]
  },
  {
   "cell_type": "markdown",
   "metadata": {},
   "source": [
    "Write a method to return the value from the same level in a binary tree"
   ]
  },
  {
   "cell_type": "code",
   "execution_count": 27,
   "metadata": {
    "scrolled": true
   },
   "outputs": [
    {
     "data": {
      "text/plain": [
       "[[1, 2, 4, 5, 3, 6, 7],\n",
       " [1, 2, 4, 5, 3, 6, 7],\n",
       " [1, 2, 4, 5, 3, 6, 7],\n",
       " [1, 2, 4, 5, 3, 6, 7],\n",
       " [1, 2, 4, 5, 3, 6, 7]]"
      ]
     },
     "execution_count": 27,
     "metadata": {},
     "output_type": "execute_result"
    }
   ],
   "source": [
    "def sameLevelBinaryTree(root: TreeNode) -> List[List[int]]:\n",
    "    result = [[]] * 5\n",
    "    bfs(root, result, 0)\n",
    "    return result\n",
    "    \n",
    "def bfs(root: TreeNode, result,  level: int) -> int:\n",
    "    if root:\n",
    "        result[level].append(root.val)\n",
    "        bfs(root.left, result, level+1)\n",
    "        bfs(root.right, result, level+1)\n",
    "    else:\n",
    "        return result\n",
    "    \n",
    "sameLevelBinaryTree(b.root)"
   ]
  },
  {
   "cell_type": "markdown",
   "metadata": {},
   "source": [
    "Implement a circular queue with array. An array with two additional fields, the beginning and the end indices.\n",
    "Using LinkedList dequeu with be O(1) instead of O(n) with array!"
   ]
  },
  {
   "cell_type": "code",
   "execution_count": 49,
   "metadata": {},
   "outputs": [
    {
     "name": "stdout",
     "output_type": "stream",
     "text": [
      "[1, 0]\n",
      "[1, 2]\n",
      "[1, 2]\n",
      "[1, 2, 0, 0]\n",
      "[1, 2, 3, 0]\n"
     ]
    },
    {
     "data": {
      "text/plain": [
       "(None, None, None)"
      ]
     },
     "execution_count": 49,
     "metadata": {},
     "output_type": "execute_result"
    }
   ],
   "source": [
    "class CircularQueue :\n",
    "    SCALE_FACTOR = 2\n",
    "    \n",
    "    def __init__(self, capacity: int = 2) -> None:\n",
    "        self.queue = [0] * capacity\n",
    "        self.head = self.tail = self.queue_size = 0\n",
    "        \n",
    "    def enqueue(self, x: int):\n",
    "        if self.queue_size == len(self.queue): # Resize\n",
    "            self.queue = (self.queue[self.head:] + self.queue[:self.head])\n",
    "            print(self.queue)\n",
    "            # reset head and tail\n",
    "            self.head, self.tail = 0, self.queue_size\n",
    "            self.queue += [0] * (len(self.queue) * CircularQueue.SCALE_FACTOR - len(self.queue))\n",
    "            print(self.queue)\n",
    "        \n",
    "        self.queue[self.tail] = x\n",
    "        self.tail = (self.tail+1) % len(self.queue)\n",
    "        self.queue_size += 1\n",
    "        print(self.queue)\n",
    "            \n",
    "    def dequeue(self) -> int:\n",
    "        self.queue_size -= 1\n",
    "        result = self.queue[self.head]\n",
    "        self.head = (self.head + 1) % len(self.queue)\n",
    "        return result\n",
    "    \n",
    "    def length(self) -> int:\n",
    "        return self.queue_size\n",
    "    \n",
    "c = CircularQueue(capacity=2)\n",
    "c.enqueue(1), c.enqueue(2), c.enqueue(3)"
   ]
  },
  {
   "cell_type": "markdown",
   "metadata": {},
   "source": [
    "## Leetcode Problems"
   ]
  },
  {
   "cell_type": "markdown",
   "metadata": {},
   "source": [
    "### 1381. Design a Stack With Increment Operation"
   ]
  },
  {
   "cell_type": "code",
   "execution_count": 43,
   "metadata": {},
   "outputs": [],
   "source": [
    "class CustomStack: # < 30\n",
    "    def __init__(self, maxSize: int):\n",
    "        self.maxSize = maxSize\n",
    "        self.stack = []\n",
    "\n",
    "    def push(self, x: int) -> None:\n",
    "        if len(self.stack) < self.maxSize:\n",
    "            self.stack.append(x)\n",
    "\n",
    "    def pop(self) -> int:\n",
    "        if not self.stack:\n",
    "            return -1\n",
    "        else:\n",
    "            return self.stack.pop()\n",
    "\n",
    "    def increment(self, k: int, val: int) -> None:\n",
    "        if len(self.stack) < k:\n",
    "            for i in range(len(self.stack)):\n",
    "                self.stack[i] += val     \n",
    "        else:\n",
    "            for i in range(0, k):\n",
    "                self.stack[i] += val"
   ]
  },
  {
   "cell_type": "markdown",
   "metadata": {},
   "source": [
    "### 739. Daily Temperatures"
   ]
  },
  {
   "cell_type": "code",
   "execution_count": null,
   "metadata": {},
   "outputs": [],
   "source": [
    "class Solution: # < 30\n",
    "    def dailyTemperatures(self, T: List[int]) -> List[int]:\n",
    "        stack = []\n",
    "        result = [0] * (len(T))\n",
    "        \n",
    "        for i in range(len(T)):\n",
    "            if stack:\n",
    "                while stack and T[i] > stack[-1][0]:\n",
    "                    value = stack.pop()\n",
    "                    result[value[1]] = i - value[1]\n",
    "                stack.append((T[i], i))\n",
    "            else:\n",
    "                stack.append((T[i], i))\n",
    "        return result\n",
    "        \n",
    "# For example, given the list of temperatures T = [73, 74, 75, 71, 69, 72, 76, 73]\n",
    "# your output should be [1, 1, 4, 2, 1, 1, 0, 0].\n",
    "T = [73, 74, 75, 71, 69, 72, 76, 73]\n",
    "s = Solution()\n",
    "s.dailyTemperatures(T)"
   ]
  },
  {
   "cell_type": "markdown",
   "metadata": {},
   "source": [
    "### 503. Next Greater Element II"
   ]
  },
  {
   "cell_type": "code",
   "execution_count": 74,
   "metadata": {},
   "outputs": [
    {
     "data": {
      "text/plain": [
       "[3, -1, 2, 3, 3]"
      ]
     },
     "execution_count": 74,
     "metadata": {},
     "output_type": "execute_result"
    }
   ],
   "source": [
    "class Solution: # < 30 92% Runtime 8% memory\n",
    "    def nextGreaterElements(self, nums: List[int]) -> List[int]:\n",
    "        stack = []\n",
    "        result = [-1] * len(nums)\n",
    "        for i, num in enumerate(nums):\n",
    "            if stack:\n",
    "                while stack and num > stack[-1][0]: \n",
    "                    new = stack.pop()\n",
    "                    result[new[1]] = num\n",
    "                stack.append((num, i))\n",
    "            else:\n",
    "                stack.append((num, i))\n",
    "                \n",
    "        for i, num in enumerate(nums):\n",
    "            if stack:\n",
    "                while stack and num > stack[-1][0]:\n",
    "                    new = stack.pop()\n",
    "                    result[new[1]] = num\n",
    "        return result\n",
    "\n",
    "t2 = [1, 3, 1, 2, 2]\n",
    "s = Solution()\n",
    "s.nextGreaterElements(t2)"
   ]
  },
  {
   "cell_type": "code",
   "execution_count": 50,
   "metadata": {},
   "outputs": [
    {
     "data": {
      "text/plain": [
       "2"
      ]
     },
     "execution_count": 50,
     "metadata": {},
     "output_type": "execute_result"
    }
   ],
   "source": [
    "class Solution:\n",
    "    def decodeString(self, s: str) -> str:\n",
    "        stack = []\n",
    "        result = \"\"\n",
    "        currString, currDigit = \"\", \"\"\n",
    "        addingStr = False\n",
    "        # possible to split within [] = regex?\n",
    "        \n",
    "        for char in s:\n",
    "            if char == \"]\":\n",
    "                currDigit = int(currDigit)\n",
    "                result += (currString * currDigit)\n",
    "                currString, currDigit, addingStr = \"\", \"\", False\n",
    "            elif char == \"[\":\n",
    "                addingStr = True\n",
    "            elif addingStr:\n",
    "                currString += char\n",
    "            else:\n",
    "                currDigit += char\n",
    "        return result\n",
    "        \n",
    "        \n",
    "t1 = \"3[a]2[bc]\" # \"aaabcbc\"       \n",
    "s = Solution()\n",
    "s.decodeString(t1)\n",
    "a= 2\n",
    "a"
   ]
  },
  {
   "cell_type": "markdown",
   "metadata": {},
   "source": [
    "### 232. Implement Queue using Stacks"
   ]
  },
  {
   "cell_type": "code",
   "execution_count": 52,
   "metadata": {},
   "outputs": [],
   "source": [
    "class MyQueue: # < 30 - 98% runtime and 5% memory\n",
    "    def __init__(self):\n",
    "        self.stack = []\n",
    "        self.stack2 = []\n",
    "\n",
    "    def push(self, x: int) -> None:\n",
    "        while self.stack2:\n",
    "            popValue = self.stack2.pop()\n",
    "            self.stack.append(popValue)\n",
    "        self.stack.append(x)\n",
    "        while self.stack:\n",
    "            popValue = self.stack.pop()\n",
    "            self.stack2.append(popValue)\n",
    "\n",
    "    def pop(self) -> int:\n",
    "        if self.stack2:\n",
    "            return self.stack2.pop()\n",
    "\n",
    "    def peek(self) -> int:\n",
    "        return self.stack2[-1]\n",
    "\n",
    "    def empty(self) -> bool:\n",
    "        return len(self.stack2) == 0"
   ]
  },
  {
   "cell_type": "markdown",
   "metadata": {},
   "source": [
    "### 641. Design Circular Deque\n",
    "\n",
    "Linked list approach - takes too long to code. To get much faster have a index to track node before tail."
   ]
  },
  {
   "cell_type": "code",
   "execution_count": 54,
   "metadata": {},
   "outputs": [],
   "source": [
    "class ListNode:\n",
    "    def __init__(self, val=0):\n",
    "        self.val = val\n",
    "        self.next = None\n",
    "\n",
    "class MyCircularDeque: # < 30 \n",
    "    def __init__(self, k: int):\n",
    "        self.root = None\n",
    "        self.list_size = 0\n",
    "        self.limit_size = k\n",
    "        self.tail = None\n",
    "        \n",
    "\n",
    "    def insertFront(self, value: int) -> bool:\n",
    "        if self.list_size < self.limit_size:\n",
    "            if self.root == None:\n",
    "                self.root = ListNode(value)\n",
    "                self.tail = self.root\n",
    "            else:\n",
    "                temp = self.root\n",
    "                self.root = ListNode(value)\n",
    "                self.root.next = temp\n",
    "            self.list_size += 1\n",
    "            return True\n",
    "        return False\n",
    "        \n",
    "\n",
    "    def insertLast(self, value: int) -> bool:\n",
    "        if self.list_size < self.limit_size:\n",
    "            if self.tail == None and self.root == None:\n",
    "                self.root = ListNode(value)\n",
    "                self.tail = self.root\n",
    "            elif self.root == self.tail:\n",
    "                self.root.next = ListNode(value)\n",
    "                self.tail = self.root.next\n",
    "            else:\n",
    "                temp = self.tail\n",
    "                self.tail = ListNode(value)\n",
    "                temp.next = self.tail\n",
    "            self.list_size += 1\n",
    "            return True\n",
    "        return False\n",
    "                \n",
    "\n",
    "    def deleteFront(self) -> bool:\n",
    "        if self.root == None and self.tail == None:\n",
    "            return False\n",
    "        elif self.root and self.tail and self.root == self.tail:\n",
    "            self.root = None\n",
    "            self.tail = None\n",
    "            self.list_size -= 1\n",
    "            return True\n",
    "        else:\n",
    "            self.root = self.root.next\n",
    "            self.list_size -= 1\n",
    "            return True\n",
    "        \n",
    "\n",
    "    def deleteLast(self) -> bool:\n",
    "        if self.root == None and self.tail == None:\n",
    "            return False\n",
    "        elif self.root and self.tail and self.root == self.tail:\n",
    "            self.root = None\n",
    "            self.tail = None\n",
    "            self.list_size -= 1\n",
    "            return True\n",
    "        else:\n",
    "            temp = self.root\n",
    "            while temp.next:\n",
    "                if temp.next == self.tail:\n",
    "                    self.tail = temp\n",
    "                    self.list_size -= 1\n",
    "                    return True\n",
    "                temp = temp.next\n",
    "\n",
    "    def getFront(self) -> int:\n",
    "        if self.root:\n",
    "            return self.root.val\n",
    "        return -1\n",
    "\n",
    "    def getRear(self) -> int:\n",
    "        if self.tail:\n",
    "            return self.tail.val\n",
    "        return -1\n",
    "\n",
    "\n",
    "    def isEmpty(self) -> bool:\n",
    "        if self.list_size == 0:\n",
    "            return True\n",
    "        return False\n",
    "\n",
    "    def isFull(self) -> bool:\n",
    "        if self.list_size == self.limit_size:\n",
    "            return True\n",
    "        return False"
   ]
  }
 ],
 "metadata": {
  "kernelspec": {
   "display_name": "Python 3.8.2 64-bit",
   "language": "python",
   "name": "python38264bitd343ca77bf834830942a906cabbbade6"
  },
  "language_info": {
   "codemirror_mode": {
    "name": "ipython",
    "version": 3
   },
   "file_extension": ".py",
   "mimetype": "text/x-python",
   "name": "python",
   "nbconvert_exporter": "python",
   "pygments_lexer": "ipython3",
   "version": "3.8.2"
  }
 },
 "nbformat": 4,
 "nbformat_minor": 4
}
