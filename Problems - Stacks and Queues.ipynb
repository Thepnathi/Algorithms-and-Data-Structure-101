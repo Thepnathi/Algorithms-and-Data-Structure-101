{
 "cells": [
  {
   "cell_type": "markdown",
   "metadata": {},
   "source": [
    "# Stacks and Queues Problems"
   ]
  },
  {
   "cell_type": "markdown",
   "metadata": {},
   "source": [
    "Stack info:\n",
    "* Supports two operation, push and pop\n",
    "* When stack implemented as Linked List, those operations has O(1) time\n",
    "* when implemented as dynamic array, amortized time again is O(1)\n",
    "* Stack can implement additional operation sucgh as peek (returns top of stack without pop)"
   ]
  },
  {
   "cell_type": "code",
   "execution_count": 67,
   "metadata": {},
   "outputs": [
    {
     "data": {
      "text/plain": [
       "1"
      ]
     },
     "execution_count": 67,
     "metadata": {},
     "output_type": "execute_result"
    }
   ],
   "source": [
    "# Common Library \n",
    "from typing import List, Dict\n",
    "from collections import Counter, namedtuple\n",
    "from threading import Timer\n",
    "from random import randint\n",
    "import heapq\n",
    "\n",
    "class ListNode: \n",
    "    def __init__(self, data=0, next=None):\n",
    "        self.data = data\n",
    "        self.next = next\n",
    "\n",
    "class LinkedList:\n",
    "    def __init__(self, nums: List[int]) -> None:\n",
    "        self.head = self.initList(nums)\n",
    "    \n",
    "    def initList(self, nums: List[int]) -> ListNode:\n",
    "        head, dummy = None, None\n",
    "        for num in nums:\n",
    "            if not dummy:\n",
    "                dummy = ListNode(num)\n",
    "                head = dummy\n",
    "            else:\n",
    "                dummy.next = ListNode(num)\n",
    "                dummy = dummy.next\n",
    "        return head\n",
    "                \n",
    "    def head(self) -> ListNode:\n",
    "        return self.head\n",
    "    \n",
    "l = LinkedList([1,2,3])\n",
    "l.head.data"
   ]
  },
  {
   "cell_type": "markdown",
   "metadata": {},
   "source": [
    "Queue facts and figures:\n",
    "\n",
    "* FIFO"
   ]
  },
  {
   "cell_type": "markdown",
   "metadata": {},
   "source": [
    "## EPI Problems"
   ]
  },
  {
   "cell_type": "markdown",
   "metadata": {},
   "source": [
    "Implement stack with max operation O(1) time for max operation!"
   ]
  },
  {
   "cell_type": "code",
   "execution_count": 3,
   "metadata": {},
   "outputs": [],
   "source": [
    "class Stack: \n",
    "    ElementWithCachedMax = namedtuple('ElementWithCachedMax', ('element', 'max'))\n",
    "    \n",
    "    def __init__(self) -> None:\n",
    "        self.stack: List[Stack.ElementWithCachedMax] = []\n",
    "            \n",
    "    def empty(self) -> bool:\n",
    "        return len(self.stack) == 0\n",
    "    \n",
    "    def max(self) -> int:\n",
    "        return self.stack[-1].max\n",
    "    \n",
    "    def peek(self) -> int:\n",
    "        return self.stack[-1].element\n",
    "    \n",
    "    def pop(self) -> int: \n",
    "        return self.stack.pop().element\n",
    "    \n",
    "    def push(self, x: int) -> None:\n",
    "        self.stack.append(self.ElementWithCachedMax(x, x if self.empty() else max(x, self.max())))\n",
    "        \n",
    "s = Stack()\n",
    "for i in range(1, 6): s.push(i)"
   ]
  },
  {
   "cell_type": "markdown",
   "metadata": {},
   "source": [
    "Reverse Polish Notation (RPN) string follows the following rules:\n",
    "\n",
    "* Single digits or sequence of digits, prefixed with an option - e.g. \"6\", \"123\", \"-42\"\n",
    "* In the form of \"A, B, o\" where A and B are RPN expressions and o is one of +,-,x,/\n",
    "\n",
    "Some examples that satifsfy above rules: \"1729\", \"3,4,+,2,X,1+\", \"-2,1,+,3\"\n",
    "\n",
    "Write program to evaluate the answer \n",
    "suppose A evaluates to 2 and B to 3 then \"A,B,x\" is 6\n",
    "suppose A B is ... \"7,2,/\" will evaluate to 3\n",
    "\n",
    "***Variant: Do it with o,A,B\"***"
   ]
  },
  {
   "cell_type": "code",
   "execution_count": 6,
   "metadata": {},
   "outputs": [
    {
     "data": {
      "text/plain": [
       "7"
      ]
     },
     "execution_count": 6,
     "metadata": {},
     "output_type": "execute_result"
    }
   ],
   "source": [
    "def rpn_variant(s: str) -> int:\n",
    "    result = []\n",
    "    total = 0\n",
    "    delimiter = \",\"\n",
    "    operators = {\n",
    "        \"+\": lambda x, y: x + y, \n",
    "        \"X\": lambda x, y: x * y,\n",
    "        \"-\": lambda x, y: x - y, \n",
    "        \"/\": lambda x, y: x / y,\n",
    "    }\n",
    "    \n",
    "    bananaSplit = s.split(delimiter)\n",
    "    for i in range(len(bananaSplit)-1, -1, -1):\n",
    "        if bananaSplit[i] in operators:\n",
    "            result.append(operators[bananaSplit[i]](result.pop(), result.pop()))\n",
    "        else:\n",
    "            result.append(int(bananaSplit[i]))\n",
    "    return result[-1]\n",
    "                          \n",
    "rpn_variant(\"+,3,4\")"
   ]
  },
  {
   "cell_type": "markdown",
   "metadata": {},
   "source": [
    "Write method to check if string is well-formed. These contains character \"{}()[]\". The bracket must be closed.\n",
    "\n",
    "([]){()} is True\n",
    "{)} is False"
   ]
  },
  {
   "cell_type": "code",
   "execution_count": 12,
   "metadata": {},
   "outputs": [
    {
     "data": {
      "text/plain": [
       "False"
      ]
     },
     "execution_count": 12,
     "metadata": {},
     "output_type": "execute_result"
    }
   ],
   "source": [
    "def brackets(s: str) -> bool:\n",
    "    stack = []\n",
    "    brackets = {\"}\":\"{\", \")\":\"(\", \"]\":\"[\"}\n",
    "    \n",
    "    for char in s:\n",
    "        if char in brackets:\n",
    "            if stack[-1] == brackets[char]:\n",
    "                stack.pop()\n",
    "            else:\n",
    "                return False\n",
    "        else:\n",
    "            stack.append(char)\n",
    "            \n",
    "    if stack:\n",
    "        return False\n",
    "    return True\n",
    "\n",
    "brackets(\"([]){(}\")"
   ]
  },
  {
   "cell_type": "markdown",
   "metadata": {},
   "source": [
    "You are given series of bulding heading west. Building in straight line, and any building which is to the east of a building of equal or greater height cannot view the sunset. Design an algo that processes buldins in east to west order. Return the buildings which view the sunset. Each building specied by height."
   ]
  },
  {
   "cell_type": "code",
   "execution_count": 20,
   "metadata": {},
   "outputs": [],
   "source": [
    "def sunsetBuilding(buildings: List[int]):\n",
    "    stack = []\n",
    "    result = []\n",
    "    \n",
    "    for num in buildings:\n",
    "        if not stack:\n",
    "            result.append(num)\n",
    "            stack.append(num)\n",
    "        elif num > stack[-1]:\n",
    "            result.append(num)\n",
    "            stack.append(num)\n",
    "    return result\n",
    "\n",
    "t = [5,1,2,6,3,9,7]"
   ]
  },
  {
   "cell_type": "markdown",
   "metadata": {},
   "source": [
    "## Leetcode Problems"
   ]
  },
  {
   "cell_type": "markdown",
   "metadata": {},
   "source": [
    "### 1381. Design a Stack With Increment Operation"
   ]
  },
  {
   "cell_type": "code",
   "execution_count": 43,
   "metadata": {},
   "outputs": [],
   "source": [
    "class CustomStack: # < 30\n",
    "    def __init__(self, maxSize: int):\n",
    "        self.maxSize = maxSize\n",
    "        self.stack = []\n",
    "\n",
    "    def push(self, x: int) -> None:\n",
    "        if len(self.stack) < self.maxSize:\n",
    "            self.stack.append(x)\n",
    "\n",
    "    def pop(self) -> int:\n",
    "        if not self.stack:\n",
    "            return -1\n",
    "        else:\n",
    "            return self.stack.pop()\n",
    "\n",
    "    def increment(self, k: int, val: int) -> None:\n",
    "        if len(self.stack) < k:\n",
    "            for i in range(len(self.stack)):\n",
    "                self.stack[i] += val     \n",
    "        else:\n",
    "            for i in range(0, k):\n",
    "                self.stack[i] += val"
   ]
  },
  {
   "cell_type": "markdown",
   "metadata": {},
   "source": [
    "### 739. Daily Temperatures"
   ]
  },
  {
   "cell_type": "code",
   "execution_count": null,
   "metadata": {},
   "outputs": [],
   "source": [
    "class Solution: # < 30\n",
    "    def dailyTemperatures(self, T: List[int]) -> List[int]:\n",
    "        stack = []\n",
    "        result = [0] * (len(T))\n",
    "        \n",
    "        for i in range(len(T)):\n",
    "            if stack:\n",
    "                while stack and T[i] > stack[-1][0]:\n",
    "                    value = stack.pop()\n",
    "                    result[value[1]] = i - value[1]\n",
    "                stack.append((T[i], i))\n",
    "            else:\n",
    "                stack.append((T[i], i))\n",
    "        return result\n",
    "        \n",
    "# For example, given the list of temperatures T = [73, 74, 75, 71, 69, 72, 76, 73]\n",
    "# your output should be [1, 1, 4, 2, 1, 1, 0, 0].\n",
    "T = [73, 74, 75, 71, 69, 72, 76, 73]\n",
    "s = Solution()\n",
    "s.dailyTemperatures(T)"
   ]
  },
  {
   "cell_type": "markdown",
   "metadata": {},
   "source": [
    "### 503. Next Greater Element II"
   ]
  },
  {
   "cell_type": "code",
   "execution_count": 74,
   "metadata": {},
   "outputs": [
    {
     "data": {
      "text/plain": [
       "[3, -1, 2, 3, 3]"
      ]
     },
     "execution_count": 74,
     "metadata": {},
     "output_type": "execute_result"
    }
   ],
   "source": [
    "class Solution: # < 30 92% Runtime 8% memory\n",
    "    def nextGreaterElements(self, nums: List[int]) -> List[int]:\n",
    "        stack = []\n",
    "        result = [-1] * len(nums)\n",
    "        for i, num in enumerate(nums):\n",
    "            if stack:\n",
    "                while stack and num > stack[-1][0]: \n",
    "                    new = stack.pop()\n",
    "                    result[new[1]] = num\n",
    "                stack.append((num, i))\n",
    "            else:\n",
    "                stack.append((num, i))\n",
    "                \n",
    "        for i, num in enumerate(nums):\n",
    "            if stack:\n",
    "                while stack and num > stack[-1][0]:\n",
    "                    new = stack.pop()\n",
    "                    result[new[1]] = num\n",
    "        return result\n",
    "\n",
    "t2 = [1, 3, 1, 2, 2]\n",
    "s = Solution()\n",
    "s.nextGreaterElements(t2)"
   ]
  },
  {
   "cell_type": "code",
   "execution_count": null,
   "metadata": {},
   "outputs": [],
   "source": [
    "class Solution:\n",
    "    def decodeString(self, s: str) -> str:\n",
    "        stack = []\n",
    "        result = \"\"\n",
    "        currString, currDigit = \"\", \"\"\n",
    "        addingStr = False\n",
    "        # possible to split within [] = regex?\n",
    "        \n",
    "        for char in s:\n",
    "            if char == \"]\":\n",
    "                currDigit = int(currDigit)\n",
    "                result += (currString * currDigit)\n",
    "                currString, currDigit, addingStr = \"\", \"\", False\n",
    "            elif char == \"[\":\n",
    "                addingStr = True\n",
    "            elif addingStr:\n",
    "                currString += char\n",
    "            else:\n",
    "                currDigit += char\n",
    "        return result\n",
    "        \n",
    "        \n",
    "t1 = \"3[a]2[bc]\" # \"aaabcbc\"       \n",
    "s = Solution()\n",
    "s.decodeString(t1)\n",
    "a= 2\n",
    "a"
   ]
  }
 ],
 "metadata": {
  "kernelspec": {
   "display_name": "Python 3.8.2 64-bit",
   "language": "python",
   "name": "python38264bitd343ca77bf834830942a906cabbbade6"
  },
  "language_info": {
   "codemirror_mode": {
    "name": "ipython",
    "version": 3
   },
   "file_extension": ".py",
   "mimetype": "text/x-python",
   "name": "python",
   "nbconvert_exporter": "python",
   "pygments_lexer": "ipython3",
   "version": "3.8.2"
  }
 },
 "nbformat": 4,
 "nbformat_minor": 4
}
