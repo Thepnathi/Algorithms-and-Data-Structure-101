{
 "cells": [
  {
   "cell_type": "markdown",
   "metadata": {},
   "source": [
    "# Binary Search - Basics"
   ]
  },
  {
   "cell_type": "code",
   "execution_count": 11,
   "metadata": {},
   "outputs": [],
   "source": [
    "from typing import List, Dict"
   ]
  },
  {
   "cell_type": "code",
   "execution_count": 1,
   "metadata": {},
   "outputs": [
    {
     "name": "stdout",
     "output_type": "stream",
     "text": [
      "1\n",
      "0\n"
     ]
    },
    {
     "data": {
      "text/plain": [
       "0"
      ]
     },
     "execution_count": 1,
     "metadata": {},
     "output_type": "execute_result"
    }
   ],
   "source": [
    "def binarySearch(nums, target):\n",
    "    low = 0 \n",
    "    high = len(nums) - 1\n",
    "    \n",
    "    while high >= low:\n",
    "        mid = low + int((high-low) / 2)\n",
    "        print(mid)\n",
    "        if nums[mid] == target:\n",
    "            return mid\n",
    "        elif nums[mid] < target:\n",
    "            high = mid+1\n",
    "        else:\n",
    "            high = mid-1\n",
    "    return -1 \n",
    "                \n",
    "letters = [\"c\", \"f\", \"j\"]\n",
    "binarySearch(letters, \"c\")"
   ]
  },
  {
   "cell_type": "markdown",
   "metadata": {},
   "source": [
    "Method that takes sorted array and return key index of the first occurence target."
   ]
  },
  {
   "cell_type": "code",
   "execution_count": 6,
   "metadata": {},
   "outputs": [
    {
     "data": {
      "text/plain": [
       "3"
      ]
     },
     "execution_count": 6,
     "metadata": {},
     "output_type": "execute_result"
    }
   ],
   "source": [
    "def search_first_of_k(nums: List[int], target: int) -> int:\n",
    "    low, high, result = 0, len(nums) - 1, -1\n",
    "    \n",
    "    while high >= low:\n",
    "        mid = low + int((high-low) / 2)\n",
    "        if target > nums[mid]:\n",
    "            low = mid + 1\n",
    "        elif target == nums[mid]:\n",
    "            result = mid \n",
    "            high = mid - 1\n",
    "        else:\n",
    "            high = mid - 1\n",
    "    return result\n",
    "a = [1, 2, 3, 4, 4, 6, 8]\n",
    "search_first_of_k(a, 4)"
   ]
  },
  {
   "cell_type": "code",
   "execution_count": 20,
   "metadata": {},
   "outputs": [
    {
     "data": {
      "text/plain": [
       "'j'"
      ]
     },
     "execution_count": 20,
     "metadata": {},
     "output_type": "execute_result"
    }
   ],
   "source": [
    "from typing import List\n",
    "class Solution:\n",
    "    def nextGreatestLetter(self, letters: List[str], target: str) -> str:\n",
    "        low = 0\n",
    "        high = len(letters) - 1\n",
    "        \n",
    "        while high >= low:\n",
    "            mid = low + int(round(high-low) / 2)\n",
    "            if letters[mid] > target and letters[mid-1] < target:\n",
    "                return letters[mid]\n",
    "            if letters[mid] > target:\n",
    "                high = mid - 1\n",
    "            elif letters[mid] < target:\n",
    "                low = mid + 1\n",
    "            \n",
    "                \n",
    "letters = [\"c\", \"f\", \"j\"]\n",
    "s = Solution()\n",
    "s.nextGreatestLetter(letters, \"g\")"
   ]
  },
  {
   "cell_type": "code",
   "execution_count": 115,
   "metadata": {},
   "outputs": [
    {
     "data": {
      "text/plain": [
       "4"
      ]
     },
     "execution_count": 115,
     "metadata": {},
     "output_type": "execute_result"
    }
   ],
   "source": [
    "class Solution:\n",
    "    def search(self, nums: List[int], target: int) -> int:\n",
    "        if not nums:\n",
    "            return 1\n",
    "        \n",
    "        low = 0\n",
    "        high = len(nums)-1\n",
    "        \n",
    "        while high >= low:\n",
    "            mid = low + int((high-low)/2)\n",
    "            if target == nums[mid]:\n",
    "                return mid\n",
    "            \n",
    "            if nums[low] <= nums[mid]:\n",
    "                if nums[low] <= target <= nums[mid]: # if target is between left and mid\n",
    "                    high = mid - 1\n",
    "                else:\n",
    "                    low = mid + 1\n",
    "            else:\n",
    "                if nums[mid] <= target <= nums[high]:\n",
    "                    low = mid + 1\n",
    "                else:\n",
    "                    high = mid - 1\n",
    "        return - 1\n",
    "        \n",
    "    # wrong answer 3 times, gave up after over 1 hour\n",
    "    def search_thep(self, nums: List[int], target: int) -> int:\n",
    "        low = 0 \n",
    "        high = len(nums) - 1\n",
    "        \n",
    "        while high >= low:\n",
    "            mid = low + int((high-low) / 2)\n",
    "            if nums[mid] == target:\n",
    "                return mid \n",
    "            elif nums[low] < nums[high]:\n",
    "                if target > nums[mid]:\n",
    "                    low = mid + 1\n",
    "                else:\n",
    "                    high = mid - 1\n",
    "            elif target <= nums[high]:\n",
    "                low = mid+1 # go right\n",
    "            else:\n",
    "                if target > nums[mid]:\n",
    "                    low = mid + 1\n",
    "                else:\n",
    "                    high = mid-1 # go left\n",
    "        return -1\n",
    "    \n",
    "nums = [4,5,6,7,0,1,2]\n",
    "nums2 = [1, 3]\n",
    "t3 = [4,5,6,7,8,1,2,3]\n",
    "t3p = 8\n",
    "s = Solution()\n",
    "s.search(t3, 8)"
   ]
  },
  {
   "cell_type": "code",
   "execution_count": 1,
   "metadata": {},
   "outputs": [
    {
     "data": {
      "text/plain": [
       "2"
      ]
     },
     "execution_count": 1,
     "metadata": {},
     "output_type": "execute_result"
    }
   ],
   "source": [
    "from typing import List\n",
    "class Solution:\n",
    "    def minSubArrayLen(self, s: int, nums: List[int]) -> int:\n",
    "        answer = len(nums) if sum(nums) >= s else 0\n",
    "        if answer == 0:\n",
    "            return 0\n",
    "        \n",
    "        low = 0\n",
    "        high = len(nums) - 1\n",
    "        \n",
    "        while high >= low:\n",
    "            mid = low + int((high-low) / 2)\n",
    "            \n",
    "            \n",
    "            right = nums[mid:]\n",
    "            left = nums[:mid+1]\n",
    "            if sum(right) >= s and len(right) < len(left):\n",
    "                low = mid +1\n",
    "                answer = self.updateAnswer(len(right), answer)\n",
    "            elif sum(left) >= s and len(left) < len(right):\n",
    "                high = mid - 1\n",
    "                answer = self.updateAnswer(len(left), answer)\n",
    "            elif sum(left) > sum(right):\n",
    "                high = mid - 1\n",
    "                answer = self.updateAnswer(len(left), answer)\n",
    "            else:\n",
    "                low = mid + 1\n",
    "                answer = self.updateAnswer(len(right), answer)\n",
    "            return answer\n",
    "                \n",
    "    def updateAnswer(self, new, answer):\n",
    "        if new < answer:\n",
    "            answer = new\n",
    "        return answer\n",
    "    \n",
    "s = Solution()\n",
    "s.minSubArrayLen(4, [2,3,2,4])"
   ]
  },
  {
   "cell_type": "code",
   "execution_count": 13,
   "metadata": {},
   "outputs": [
    {
     "data": {
      "text/plain": [
       "8"
      ]
     },
     "execution_count": 13,
     "metadata": {},
     "output_type": "execute_result"
    }
   ],
   "source": [
    "# 20 mins\n",
    "def maxPeakMountain(nums: List[int]) -> int:\n",
    "    low, high = 0, len(nums) - 1\n",
    "    currMax = 0\n",
    "#     this doesnt count duplicates\n",
    "    while high >= low:\n",
    "        mid = low + int((high-low) / 2)\n",
    "        if nums[mid] > currMax:\n",
    "            currMax = nums[mid]\n",
    "        if nums[mid+1] > nums[mid]:\n",
    "            low = mid + 1\n",
    "        elif nums[mid-1] > nums[mid]:\n",
    "            high = mid - 1\n",
    "        else:\n",
    "            return currMax\n",
    "maxMountain([2,3,4,6,9,10,11,12,11,8,6,4,1])\n",
    "maxMountain([0,1,2,3,4,5,6,7,8,2,1])"
   ]
  },
  {
   "cell_type": "code",
   "execution_count": null,
   "metadata": {},
   "outputs": [],
   "source": []
  }
 ],
 "metadata": {
  "kernelspec": {
   "display_name": "Python 3.8.2 64-bit",
   "language": "python",
   "name": "python38264bitd343ca77bf834830942a906cabbbade6"
  },
  "language_info": {
   "codemirror_mode": {
    "name": "ipython",
    "version": 3
   },
   "file_extension": ".py",
   "mimetype": "text/x-python",
   "name": "python",
   "nbconvert_exporter": "python",
   "pygments_lexer": "ipython3",
   "version": "3.8.2"
  }
 },
 "nbformat": 4,
 "nbformat_minor": 4
}
