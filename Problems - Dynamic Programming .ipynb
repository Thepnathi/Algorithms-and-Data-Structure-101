{
 "cells": [
  {
   "cell_type": "markdown",
   "metadata": {},
   "source": [
    "## Dynamic Programming  Problems"
   ]
  },
  {
   "cell_type": "code",
   "execution_count": 2,
   "metadata": {},
   "outputs": [],
   "source": [
    "from typing import List, Dict\n",
    "from threading import Timer\n",
    "from collections import Counter "
   ]
  },
  {
   "cell_type": "code",
   "execution_count": 3,
   "metadata": {},
   "outputs": [
    {
     "name": "stdout",
     "output_type": "stream",
     "text": [
      "[0, 1, 2, 3]\n",
      "[4, 5, 6, 7]\n",
      "[8, 9, 10, 11]\n"
     ]
    }
   ],
   "source": [
    "from typing import List\n",
    "def generate_grid(row: int, col: int) -> List[List[int]]:\n",
    "    grid = [[0 for i in range(col)] for j in range(row)]\n",
    "    count = 0\n",
    "    for i in range(row):\n",
    "        for j in range(col):\n",
    "            grid[i][j] = count\n",
    "            count+=1\n",
    "    return grid\n",
    "\n",
    "def print_grid(grid):\n",
    "    for i in range(len(grid)):\n",
    "        print(grid[i])\n",
    "    \n",
    "grid1 = generate_grid(3, 4)\n",
    "print_grid(grid1)"
   ]
  },
  {
   "cell_type": "code",
   "execution_count": 4,
   "metadata": {},
   "outputs": [
    {
     "data": {
      "text/plain": [
       "[[0, 1, 2, 3], [4, 5, 6, 7], [8, 9, 10, 11]]"
      ]
     },
     "execution_count": 4,
     "metadata": {},
     "output_type": "execute_result"
    }
   ],
   "source": [
    "from typing import List\n",
    "\n",
    "grid = [[1, 2, 3],\n",
    "         [5, 6, 7]]\n",
    "        \n",
    "def countPath(grid, row, col):\n",
    "    if col + 1 > (len(grid[0])) or row + 1 > len(grid):\n",
    "        return 0\n",
    "        \n",
    "    print(\"Current pos [\" + str(row) + \"][\" + str(col) + \"] with value of \" + str(grid[row][col]))\n",
    "    if grid[row][col] == grid[-1][-1]:\n",
    "        return 1\n",
    "    return countPath(grid, row, col+1) + countPath(grid, row+1, col)\n",
    "\n",
    "generate_grid(3, 4)"
   ]
  },
  {
   "cell_type": "markdown",
   "metadata": {},
   "source": [
    "Robot in a grid: Imagine a robot starts from the ipper left corner of a grid with r rows and c columns. The robot can move in two directions, right and down. But certain cells are off limits such that the robot cannot step on. "
   ]
  },
  {
   "cell_type": "code",
   "execution_count": 5,
   "metadata": {},
   "outputs": [
    {
     "data": {
      "text/plain": [
       "6"
      ]
     },
     "execution_count": 5,
     "metadata": {},
     "output_type": "execute_result"
    }
   ],
   "source": [
    "# Mix of DP and Greedy\n",
    "\n",
    "class Solution_746:\n",
    "    def minCostClimbingStairs(self, cost: List[int]) -> int:\n",
    "        dp = (len(cost)) * [0]\n",
    "        dp[0], dp[1] = cost[0], cost[1]\n",
    "        \n",
    "        for i in range(2, len(cost), 1):\n",
    "            dp[i] = cost[i] + min(dp[i-1], dp[i-2])\n",
    "        return min(dp[-1], dp[-2])\n",
    "    \n",
    "t1 = [1, 100, 1, 1, 1, 100, 1, 1, 100, 1]\n",
    "dp = [1, 100, 2, 3, 3, 103, 4, 5, 104, 6]\n",
    "s1 =  6\n",
    "\n",
    "# t2 = [10, 15, 20][x]\n",
    "# d2 = [10, 15, 30][15]\n",
    "\n",
    "t2 = [10, 15, 20]\n",
    "s2 = 15\n",
    "\n",
    "t3 = [13, 11]\n",
    "t4 = [1]\n",
    "\n",
    "s = Solution_746()\n",
    "s.minCostClimbingStairs(t1)"
   ]
  },
  {
   "cell_type": "code",
   "execution_count": 6,
   "metadata": {},
   "outputs": [
    {
     "name": "stdout",
     "output_type": "stream",
     "text": [
      "[1, 1, 2, 3]\n"
     ]
    },
    {
     "data": {
      "text/plain": [
       "1"
      ]
     },
     "execution_count": 6,
     "metadata": {},
     "output_type": "execute_result"
    }
   ],
   "source": [
    "from typing import List\n",
    "\n",
    "def countSums(nums: List[int], target: int) -> int:\n",
    "    dp = [0] * target\n",
    "    dp[0] = 1\n",
    "    \n",
    "    for i in range(1, len(dp)):\n",
    "        for j, num in enumerate(nums):\n",
    "            dp[i] += dp[i-j]\n",
    "    print(dp)\n",
    "    return 1\n",
    "\n",
    "t1 = [1,2,3]\n",
    "s1 = 7\n",
    "\n",
    "countSums(t1, 4)"
   ]
  },
  {
   "cell_type": "code",
   "execution_count": 7,
   "metadata": {},
   "outputs": [
    {
     "name": "stdout",
     "output_type": "stream",
     "text": [
      "[0]\n"
     ]
    },
    {
     "data": {
      "text/plain": [
       "0"
      ]
     },
     "execution_count": 7,
     "metadata": {},
     "output_type": "execute_result"
    }
   ],
   "source": [
    "from typing import List\n",
    "# 14:15 incomplete at 14:42\n",
    "class Solution_Time_Limit_Exceed:\n",
    "    def coinChange(self, coins: List[int], amount: int) -> int:\n",
    "        if amount == 0: return 0\n",
    "        dp = [0] * (amount+1)\n",
    "        dict_coins = {}\n",
    "        \n",
    "        for coin in coins: dict_coins[coin] = 1\n",
    "        \n",
    "        start = min(coins)\n",
    "        if start <= amount:\n",
    "            dp[start] = 1\n",
    "        else:\n",
    "            return -1\n",
    "        \n",
    "        for num in range(start+1, amount+1):\n",
    "            if num in dict_coins:\n",
    "                dp[num] = 1\n",
    "            else:\n",
    "                currMin = 9999\n",
    "                for j in range(num-1, start-1, -1):\n",
    "                    if (j + (num - j) == num) and num-j >= 0:\n",
    "                        if dp[j] + dp[num-j] < currMin and dp[j] != 0 and dp[num-j] != 0:\n",
    "                            dp[num] = dp[j] + dp[num-j]\n",
    "                            currMin = dp[j] + dp[num-j]\n",
    "        print(dp)\n",
    "        if dp[-1] > 0:\n",
    "            return dp[-1]\n",
    "        else:\n",
    "            return -1\n",
    "        \n",
    "class Solution:\n",
    "    def coinChange(self, coins: List[int], amount: int) -> int:\n",
    "        dp = [999999] * (amount + 1)\n",
    "        dp[0] = 0\n",
    "        print(dp)\n",
    "        for i in range(1, len(dp)):\n",
    "            for coin in coins:\n",
    "                if i - coin >= 0:\n",
    "                    dp[i] = min(dp[i], dp[i-coin]+1)\n",
    "        return dp[-1]\n",
    "    \n",
    "                \n",
    "coin1, target1, a1 = [1, 2, 5], 11, 3\n",
    "coin2, target2, a2 = [2], 3, -1\n",
    "coin3, target3, a3 = [2], 1, -1\n",
    "coin4, t4, a4 = [1], 1, 0\n",
    "s = Solution()\n",
    "s.coinChange([1], 0)"
   ]
  },
  {
   "cell_type": "code",
   "execution_count": 8,
   "metadata": {},
   "outputs": [
    {
     "data": {
      "text/plain": [
       "28"
      ]
     },
     "execution_count": 8,
     "metadata": {},
     "output_type": "execute_result"
    }
   ],
   "source": [
    "class Solution:\n",
    "    def uniquePaths(self, m: int, n: int) -> int:\n",
    "        dp = [[0 for i in range(n)] for j in range(m)]\n",
    "        for i in range(len(dp)):\n",
    "            for j in range(len(dp[i])):\n",
    "                if i == 0 and j == 0:\n",
    "                    dp[0][0] = 1\n",
    "                else:\n",
    "                    dp[i][j] = dp[i][j-1] + dp[i-1][j]\n",
    "        return dp[-1][-1]\n",
    "s = Solution()\n",
    "s.uniquePaths(3, 7)"
   ]
  },
  {
   "cell_type": "code",
   "execution_count": 9,
   "metadata": {},
   "outputs": [
    {
     "name": "stdout",
     "output_type": "stream",
     "text": [
      "[0.03125, 0.0009765625]\n"
     ]
    },
    {
     "data": {
      "text/plain": [
       "0.0009765625"
      ]
     },
     "execution_count": 9,
     "metadata": {},
     "output_type": "execute_result"
    }
   ],
   "source": [
    "class Solution:\n",
    "    def knightProbability(self, N: int, K: int, r: int, c: int) -> float:\n",
    "        matrix = [[0 for j in range(N)] for i in range(N)]\n",
    "        k: List[float] = [1] * K\n",
    "        knight_pos = [[r, c]]\n",
    "        temp = knight_pos\n",
    "        new_pos = 0\n",
    "        probability = 1\n",
    "        \n",
    "        for i in range(len(k)):\n",
    "            temp = []\n",
    "            probability = 1\n",
    "            for j, pos in enumerate(knight_pos):\n",
    "                row, col = pos[0], pos[1]\n",
    "            # Top\n",
    "                if row-1 >= 0 and col-2 >= 0:\n",
    "                    new_pos += 1\n",
    "                    temp = self.add_knight(temp, row-1, col-2)\n",
    "                if row-2 >= 0 and col-1 >= 0:\n",
    "                    new_pos += 1\n",
    "                    temp = self.add_knight(temp, row-2, col-1)\n",
    "                if row-2 >= 0 and col+1:\n",
    "                    new_pos += 1\n",
    "                    temp = self.add_knight(temp, row-2, col+1)\n",
    "                if row-1 >= 0 and col+2 <= N-1:\n",
    "                    new_pos += 1\n",
    "                    temp = self.add_knight(temp, row-1, col+2)\n",
    "\n",
    "                # Bottom\n",
    "                if row+1 <= N-1 and col-2 >= 0:\n",
    "                    new_pos += 1\n",
    "                    temp = self.add_knight(temp, row+1, col-2)\n",
    "                if row+2 <= N-1 and col-1 >= 0:\n",
    "                    new_pos += 1\n",
    "                    temp = self.add_knight(temp, row+2, col-1)\n",
    "                    \n",
    "                if row+1 <= N-1 and col+2 <= N-1:\n",
    "                    new_pos += 1\n",
    "                    temp = self.add_knight(temp, row+1, col+2)\n",
    "                if row+2 <= N-1 and col+1 < N-1:\n",
    "                    new_pos += 1\n",
    "                    temp = self.add_knight(temp, row+2, col+1)\n",
    "                    \n",
    "                for b in range(1, new_pos+1):\n",
    "                    probability = probability * (b/8)    \n",
    "                new_pos = 0\n",
    "            if i == 0:\n",
    "                k[i] = probability\n",
    "            else:\n",
    "                k[i] = probability\n",
    "            knight_pos = temp\n",
    "        print(k)\n",
    "        return k[-1]\n",
    "                    \n",
    "                \n",
    "    def add_knight(self, knight_pos: List[List[int]], row: int, col: int) -> List[List[int]]:\n",
    "            knight_pos.append([row, col])\n",
    "            return knight_pos\n",
    "        \n",
    "    def print_grid(self, grid):\n",
    "        for i in range(len(grid)):\n",
    "            print(grid[i])\n",
    "        \n",
    "s = Solution()\n",
    "s.knightProbability(3, 2, 0, 0)"
   ]
  },
  {
   "cell_type": "code",
   "execution_count": 10,
   "metadata": {},
   "outputs": [
    {
     "name": "stdout",
     "output_type": "stream",
     "text": [
      "[0, 999999, 999999]\n"
     ]
    },
    {
     "data": {
      "text/plain": [
       "999999"
      ]
     },
     "execution_count": 10,
     "metadata": {},
     "output_type": "execute_result"
    }
   ],
   "source": [
    "class Solution:\n",
    "    def coinChange(self, coins: List[int], amount: int) -> int:\n",
    "        dp = [999999] * (amount + 1)\n",
    "        dp[0] = 0\n",
    "        print(dp)\n",
    "        for i in range(1, len(dp)):\n",
    "            for coin in coins:\n",
    "                if i - coin >= 0:\n",
    "                    dp[i] = min(dp[i], dp[i-coin]+1)\n",
    "        return dp[-1]\n",
    "    \n",
    "s = Solution()\n",
    "s.coinChange([2147483647], 2)"
   ]
  },
  {
   "cell_type": "code",
   "execution_count": 11,
   "metadata": {},
   "outputs": [
    {
     "data": {
      "text/plain": [
       "7"
      ]
     },
     "execution_count": 11,
     "metadata": {},
     "output_type": "execute_result"
    }
   ],
   "source": [
    "class Solution:\n",
    "    def minPathSum(self, grid: List[List[int]]) -> int:\n",
    "        \n",
    "        for i in range(len(grid)):\n",
    "            for j in range(len(grid[i])):\n",
    "                if j == 0 and i != 0:\n",
    "                    grid[i][j] = grid[i][j] + grid[i-1][j]\n",
    "                if i == 0 and j != 0:\n",
    "                    grid[i][j] = grid[i][j] + grid[i][j-1]\n",
    "                elif i != 0 and j != 0:\n",
    "                     grid[i][j] = grid[i][j] + min(grid[i][j-1], grid[i-1][j])\n",
    "        return grid[-1][-1]\n",
    "        \n",
    "t1 =[\n",
    "  [1,3,1],\n",
    "  [1,5,1],\n",
    "  [4,2,1]\n",
    "]\n",
    "s = Solution()\n",
    "s.minPathSum(t1)"
   ]
  },
  {
   "cell_type": "code",
   "execution_count": 12,
   "metadata": {},
   "outputs": [
    {
     "data": {
      "text/plain": [
       "2"
      ]
     },
     "execution_count": 12,
     "metadata": {},
     "output_type": "execute_result"
    }
   ],
   "source": [
    "class Solution:\n",
    "    def uniquePathsWithObstacles(self, obstacleGrid: List[List[int]]) -> int:\n",
    "        if obstacleGrid[0][0] == 1:\n",
    "            return 0\n",
    "        grid = obstacleGrid\n",
    "        grid[0][0] = -1\n",
    "        \n",
    "        for i in range(len(obstacleGrid)):\n",
    "            for j in range(len(obstacleGrid[i])):\n",
    "                if grid[i][j] != 1:\n",
    "                    if i == 0 and j != 0:\n",
    "                        if grid[i][j-1] != 1:\n",
    "                            grid[i][j] = grid[i][j-1]\n",
    "                    elif j == 0 and i != 0:\n",
    "                        if grid[i-1][j] != 1:\n",
    "                            grid[i][j] = grid[i-1][j]\n",
    "                    elif i != 0 and j != 0:\n",
    "                        if grid[i-1][j] == 1:\n",
    "                            grid[i][j] = grid[i][j-1]\n",
    "                        elif grid[i][j-1] == 1:\n",
    "                            grid[i][j] = grid[i-1][j]\n",
    "                        else:\n",
    "                            grid[i][j] = grid[i-1][j] + grid[i][j-1]\n",
    "        if grid[-1][-1] == 1:\n",
    "            return 0\n",
    "        return abs(grid[-1][-1])\n",
    "s = Solution()\n",
    "t1 = [\n",
    "  [0,0,0],\n",
    "  [0,1,0],\n",
    "  [0,0,0]\n",
    "]\n",
    "s.uniquePathsWithObstacles(t1)"
   ]
  },
  {
   "cell_type": "code",
   "execution_count": 13,
   "metadata": {},
   "outputs": [
    {
     "data": {
      "text/plain": [
       "10"
      ]
     },
     "execution_count": 13,
     "metadata": {},
     "output_type": "execute_result"
    }
   ],
   "source": [
    "from collections import Counter\n",
    "class Solution:\n",
    "    def combinationSum(self, nums: List[int], target: int) -> List[List[int]]:\n",
    "        dp = [0] * (target+1)\n",
    "        dict = {key:key for key in nums}\n",
    "        \n",
    "        for i in range(len(dp)):\n",
    "            curr_list = []\n",
    "            for num in nums:\n",
    "                if i == num:\n",
    "                    curr_list.append([num])\n",
    "                elif i-num > 0:\n",
    "                    for s in dp[i-num]:\n",
    "                        copy = s.copy()\n",
    "                        if (sum(copy) + dict[num]) == i:\n",
    "                            copy.append(dict[num])\n",
    "                            curr_list.append(copy)\n",
    "            dp[i] = curr_list\n",
    "        result = dp[target]\n",
    "        return len(result)\n",
    "                \n",
    "\n",
    "# >>> x = [(1,2), (2,1), (3,4), (5,6), (6,5)]\n",
    "# >>> list(set([ tuple(set(i)) for i in x ]))\n",
    "# [(1, 2), (5, 6), (3, 4)]\n",
    "            \n",
    "        \n",
    "nums = [2,3,6,7]\n",
    "target = 7\n",
    "t2 = [0]\n",
    "t3 = 0\n",
    "s = Solution()\n",
    "s.combinationSum([4,2,1], 5)"
   ]
  },
  {
   "cell_type": "code",
   "execution_count": 14,
   "metadata": {},
   "outputs": [
    {
     "data": {
      "text/plain": [
       "7"
      ]
     },
     "execution_count": 14,
     "metadata": {},
     "output_type": "execute_result"
    }
   ],
   "source": [
    "from sys import maxsize\n",
    "class Solution:\n",
    "    def minFallingPathSum(self, A: List[List[int]]) -> int:\n",
    "        maxInt = 9999999\n",
    "        dp = [[maxInt for j in range(len(A[i]))] for i in range(len(A))]\n",
    "        \n",
    "        for i in range(len(A)):\n",
    "            for j in range(len(A[i])):\n",
    "                if i == 0:\n",
    "                    dp[i][j] = min(A[i][j], dp[i][j])\n",
    "                else:\n",
    "                    if j == 0:\n",
    "                        dp[i][j] = min(A[i][j]+dp[i-1][j], A[i][j]+dp[i-1][j+1], dp[i][j])\n",
    "                    elif j == (len(A[i])-1):\n",
    "                        dp[i][j] = min(A[i][j]+dp[i-1][j], A[i][j]+dp[i-1][j-1], dp[i][j])\n",
    "                    else:\n",
    "                        dp[i][j] = min(A[i][j]+dp[i-1][j], A[i][j]+dp[i-1][j-1], A[i][j]+dp[i-1][j+1], dp[i][j])\n",
    "        return min(dp[-1])\n",
    "    \n",
    "    def minFallingPathSum_Shorter(self, A):\n",
    "        dp = A[0]\n",
    "        for row in A[1:]:\n",
    "            dp = [value + min([dp[c], dp[max(c - 1, 0)], dp[min(len(A) - 1, c + 1)]]) for c, value in enumerate(row)]\n",
    "        return min(dp)\n",
    "    \n",
    "# It can be conciser with Python's list indice:\n",
    "# Simply rewrite min([dp[c], dp[max(c - 1, 0)], dp[min(len(A) - 1, c + 1)]]) into min(dp[max(0, c - 1) : c + 2])\n",
    "# We can do this because Python will handle index out of range in a graceful way rather than raising errors.\n",
    "\n",
    "t1 = [[1,2,3],\n",
    "      [4,5,6],\n",
    "      [7,8,1]]\n",
    "\n",
    "t2 = [[-80,-13,22],\n",
    "      [83,94,-5],\n",
    "      [73,-48,61]]\n",
    "s=Solution()\n",
    "s.minFallingPathSum(t1)"
   ]
  },
  {
   "cell_type": "code",
   "execution_count": 15,
   "metadata": {},
   "outputs": [
    {
     "data": {
      "text/plain": [
       "1"
      ]
     },
     "execution_count": 15,
     "metadata": {},
     "output_type": "execute_result"
    }
   ],
   "source": [
    "class Solution:\n",
    "    def numSquares(self, n: int) -> int:\n",
    "        square = []\n",
    "        dp = [99999999] * (n+1)\n",
    "        dp[0] = 0\n",
    "        \n",
    "        for i in range(0, n+1):\n",
    "            square.append(i*i)\n",
    "            if i*i > n:\n",
    "                break\n",
    "                \n",
    "        for i in range(1, len(dp)):\n",
    "            for j in range(len(square)):\n",
    "                if i - square[j] >= 0:\n",
    "                    dp[i] = min(dp[i], dp[i-square[j]]+1)\n",
    "        return dp[-1]\n",
    "    \n",
    "    \n",
    "s = Solution()\n",
    "s.numSquares(1)"
   ]
  },
  {
   "cell_type": "code",
   "execution_count": 16,
   "metadata": {},
   "outputs": [
    {
     "data": {
      "text/plain": [
       "0"
      ]
     },
     "execution_count": 16,
     "metadata": {},
     "output_type": "execute_result"
    }
   ],
   "source": [
    "from fractions import gcd\n",
    "class Solution:\n",
    "    def minSteps_almostAllTestCase(self, n: int) -> int:\n",
    "        steps =0\n",
    "        while n != 0:\n",
    "            if n % 2 == 0 and n != 2:\n",
    "                steps += 2\n",
    "                n = n // 2 \n",
    "            elif n % 3 == 0 and n != 3:\n",
    "                steps += 3\n",
    "                n = n // 3\n",
    "            else:\n",
    "                steps += n\n",
    "                n = 0\n",
    "        return steps   \n",
    "    \n",
    "    def minSteps(self, n: int) -> int:\n",
    "        dp = [0] * (n+1)\n",
    "        \n",
    "        for i in range(2, n):\n",
    "            dp[i] = i\n",
    "            for j in range(i-1, 1, -1):\n",
    "                if i % j == 0:\n",
    "                    dp[i] = dp[j] + (i/j)\n",
    "                    break\n",
    "                    \n",
    "        return dp[n]\n",
    "s = Solution()\n",
    "s.minSteps(25) # 25\n",
    "# s.minSteps(741) # 35"
   ]
  },
  {
   "cell_type": "code",
   "execution_count": 17,
   "metadata": {},
   "outputs": [
    {
     "name": "stdout",
     "output_type": "stream",
     "text": [
      "\n"
     ]
    },
    {
     "data": {
      "text/plain": [
       "0"
      ]
     },
     "execution_count": 17,
     "metadata": {},
     "output_type": "execute_result"
    }
   ],
   "source": [
    "import heapq\n",
    "from typing import List\n",
    "class Solution:\n",
    "    def lastStoneWeight(self, stones: List[int]) -> int:\n",
    "        \n",
    "        while len(stones) > 1:\n",
    "            two = heapq.nlargest(2, stones)\n",
    "            i, j = stones.index(two[0]), stones.index(two[1])\n",
    "            if two[0] == two[1]:\n",
    "                i = stones.index(two[0])\n",
    "                j = stones.index(two[1], i+1)\n",
    "            print()\n",
    "            if two[0] == two[1]:\n",
    "                stones[i], stones[j] = 0, 0 \n",
    "                stones.remove(0)\n",
    "            elif two[0] != two[1]:\n",
    "                remain = two[0] - two[1]\n",
    "                stones[i], stones[j] = remain, 0\n",
    "                stones.remove(0)\n",
    "        if stones:\n",
    "            return max(stones)\n",
    "        else:\n",
    "            return 0\n",
    "    \n",
    "t1 = [2,7,4,1,8,1]\n",
    "s = Solution()\n",
    "s.lastStoneWeight([2,2])"
   ]
  },
  {
   "cell_type": "code",
   "execution_count": 18,
   "metadata": {},
   "outputs": [
    {
     "data": {
      "text/plain": [
       "105"
      ]
     },
     "execution_count": 18,
     "metadata": {},
     "output_type": "execute_result"
    }
   ],
   "source": [
    "class Solution:\n",
    "    def rob(self, nums: List[int]) -> int:\n",
    "        return self.robRe(nums, len(nums)-1)\n",
    "    \n",
    "    def robRe(self, nums, i):\n",
    "        if i < 0:\n",
    "            return 0\n",
    "        return max(self.robRe(nums, i-2) + nums[i], self.robRe(nums, i-1))\n",
    "        \n",
    "        \n",
    "    def rob_dp(self, nums: List[int]) -> int:\n",
    "        if i < 0:\n",
    "            return 0\n",
    "        dp = [0] * (len(nums) + 1)\n",
    "        dp[1] = nums[0]\n",
    "        \n",
    "        for i in range(1, len(nums)):\n",
    "            dp[i+1] = max(dp[i], dp[i-1] + nums[i])\n",
    "        return dp[len(nums)]\n",
    "    \n",
    "s = Solution()\n",
    "t1 = [1, 2, 3, 1] #4\n",
    "t3 = [2, 1, 4, 9, 1, 7] # 18\n",
    "t4 = [2, 1, 4, 9, 99, 7]\n",
    "s.rob(t4)"
   ]
  },
  {
   "cell_type": "code",
   "execution_count": 19,
   "metadata": {},
   "outputs": [],
   "source": [
    "# House Robber 2 - 53/74 test < 30mins\n",
    "class Solution:\n",
    "    def rob_first_attempt(self, nums: List[int]) -> int:\n",
    "        # 53/74 tests < 30 mins\n",
    "        if not nums:\n",
    "            return 0\n",
    "        elif len(nums) < 4:\n",
    "            return max(nums)\n",
    "\n",
    "        dp = [0] * (len(nums) + 1)\n",
    "        dp[1] = nums[0]\n",
    "\n",
    "        for i in range(1, len(nums)):\n",
    "            if i+1 == len(nums) and len(nums) > 4:\n",
    "                dp[i+1] = max(dp[i], dp[i-2] + nums[i])\n",
    "            elif i+1 == len(nums) and len(nums) <= 4:\n",
    "                dp[i+1] = max(dp[i], nums[i-2] + dp[i-4] + nums[i])\n",
    "            else:\n",
    "                dp[i+1] = max(dp[i], dp[i-1] + nums[i])\n",
    "        return dp[len(nums)]"
   ]
  },
  {
   "cell_type": "code",
   "execution_count": 20,
   "metadata": {},
   "outputs": [
    {
     "data": {
      "text/plain": [
       "11"
      ]
     },
     "execution_count": 20,
     "metadata": {},
     "output_type": "execute_result"
    }
   ],
   "source": [
    "# House robber 2 \n",
    "class Solution:\n",
    "    def rob(self, nums: List[int]) -> int:\n",
    "        if not nums:\n",
    "            return 0\n",
    "        elif len(nums) < 4:\n",
    "            return max(nums)\n",
    "        return max(self.robByPosition(nums, 1, len(nums)-1), self.robByPosition(nums, 2, len(nums)))\n",
    "        \n",
    "    def robByPosition(self, nums: List[int], startIndex: int, endIndex: int) -> int:\n",
    "        dp = [0] * (len(nums) + 1)\n",
    "        if endIndex == len(nums)-1:\n",
    "            dp[1] = nums[0] \n",
    "        else: \n",
    "            dp[2] = nums[1]\n",
    "            \n",
    "        for i in range(startIndex, endIndex):\n",
    "            dp[i+1] = max(dp[i], nums[i] + dp[i-1])\n",
    "        return dp[endIndex]\n",
    "        \n",
    "s = Solution()\n",
    "t1 = [2, 3, 2]\n",
    "t2 = [5, 1, 2, 5]\n",
    "t3 = [5, 2, 1, 99] #104\n",
    "t4 = [1, 3, 1, 3, 100] # 103\n",
    "t5 = [6,6,4,8,4,3,3,10] # 27'\n",
    "t6 = [2,7,9,3,1] # 11\n",
    "s.rob(t6) "
   ]
  },
  {
   "cell_type": "code",
   "execution_count": 21,
   "metadata": {},
   "outputs": [
    {
     "data": {
      "text/plain": [
       "11"
      ]
     },
     "execution_count": 21,
     "metadata": {},
     "output_type": "execute_result"
    }
   ],
   "source": [
    "# original solution 24 mins - O(n) time and space \n",
    "class Solution:\n",
    "    def minimumTotal(self, triangle: List[List[int]]) -> int:\n",
    "        if not triangle: \n",
    "            return 0\n",
    "        for i in range(1, len(triangle)):\n",
    "            for j in range(len(triangle[i])):\n",
    "                if j == 0:\n",
    "                    triangle[i][j] += triangle[i-1][j]\n",
    "                elif j == len(triangle[i]) - 1:\n",
    "                    triangle[i][j] += triangle[i-1][j-1]\n",
    "                else:\n",
    "                    triangle[i][j] += min(triangle[i-1][j], triangle[i-1][j-1])\n",
    "        return min(triangle[len(triangle)-1])\n",
    "\n",
    "    def minimumTotal_original(self, triangle: List[List[int]]) -> int:  \n",
    "        if not triangle:\n",
    "            return 0\n",
    "        elif len(triangle) == 1:\n",
    "            return min(triangle[0])\n",
    "        \n",
    "        dp = []\n",
    "        for i in range(len(triangle)):\n",
    "            insert = [0] * len(triangle[i])\n",
    "            dp.append(insert)  \n",
    "        dp[0] = triangle[0]\n",
    "        dp[1] = [triangle[1][0] + dp[0][0], triangle[1][1] + dp[0][0]]\n",
    "        \n",
    "        for i in range(2, len(triangle)):\n",
    "            for j in range(len(triangle[i])):\n",
    "                if j == 0:\n",
    "                    dp[i][j] = triangle[i][j] + dp[i-1][j]\n",
    "                elif j == len(triangle[i])-1:\n",
    "                    dp[i][j] = triangle[i][j] + dp[i-1][j-1]\n",
    "                else:\n",
    "                    dp[i][j] = triangle[i][j] + min(dp[i-1][j], dp[i-1][j-1])\n",
    "        return min(dp[len(triangle)-1])\n",
    "    \n",
    "t1 = [\n",
    "     [2],\n",
    "    [3,4],\n",
    "   [6,5,7],\n",
    "  [4,1,8,3]\n",
    "] # 11\n",
    "s = Solution()\n",
    "s.minimumTotal(t1)"
   ]
  },
  {
   "cell_type": "code",
   "execution_count": 46,
   "metadata": {},
   "outputs": [
    {
     "data": {
      "text/plain": [
       "3"
      ]
     },
     "execution_count": 46,
     "metadata": {},
     "output_type": "execute_result"
    }
   ],
   "source": [
    "import string\n",
    "\n",
    "class Solution:\n",
    "    def numDecodings(self, s: str) -> int:\n",
    "        abc = string.ascii_lowercase[:26]\n",
    "        alphab = {i+1: abc[i] for i in range(len(abc))}\n",
    " \n",
    "        if len(s) == 1 and int(s[0]) != 0 and int(s[0]):\n",
    "            if int(s[0]) in alphab:\n",
    "                return 1  \n",
    "        \n",
    "        total = 1\n",
    "        for i in range(1, len(s)):\n",
    "            if int(s[i-1:i+1]) in alphab:\n",
    "                total += 1\n",
    "        return total\n",
    "s = Solution()\n",
    "s.numDecodings(\"226\")"
   ]
  },
  {
   "cell_type": "code",
   "execution_count": 49,
   "metadata": {},
   "outputs": [
    {
     "data": {
      "text/plain": [
       "6"
      ]
     },
     "execution_count": 49,
     "metadata": {},
     "output_type": "execute_result"
    }
   ],
   "source": [
    "import heapq\n",
    "class Solution:\n",
    "    def findKthLargest(self, nums: List[int], k: int) -> int:\n",
    "        kLargest = heapq.nlargest(k, nums)\n",
    "        return kLargest[-1]\n",
    "s = Solution()\n",
    "s.findKthLargest([2,3,4,5,6,7], 2)\n",
    "        \n"
   ]
  }
 ],
 "metadata": {
  "kernelspec": {
   "display_name": "Python 3.8.2 64-bit",
   "language": "python",
   "name": "python38264bitd343ca77bf834830942a906cabbbade6"
  },
  "language_info": {
   "codemirror_mode": {
    "name": "ipython",
    "version": 3
   },
   "file_extension": ".py",
   "mimetype": "text/x-python",
   "name": "python",
   "nbconvert_exporter": "python",
   "pygments_lexer": "ipython3",
   "version": "3.8.2"
  }
 },
 "nbformat": 4,
 "nbformat_minor": 4
}
