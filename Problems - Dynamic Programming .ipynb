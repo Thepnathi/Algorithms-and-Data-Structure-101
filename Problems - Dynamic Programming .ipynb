{
 "cells": [
  {
   "cell_type": "markdown",
   "metadata": {},
   "source": [
    "# Dynamic Programming \n",
    "\n",
    "General technique for solving optimization, search and counting problems that can be decomposed into subproblems.\n",
    "\n",
    "Tips for DP:\n",
    "* Consider DP when you make choices to arrive at the solution\n",
    "* Especially when it relates to subproblems\n",
    "* Unlike Divide and Conqueuer, a same subproblem can occur CACHE the result\n",
    "* Recursively, dynamic data structure can be used such as hash table or BST\n",
    "* Iteratively, the cache is array or multi-d array\n",
    "* Sometimes, cache space can be recycled, see EPI problems\n",
    "* Sometime, although rarely recursion can outperform bottom up\n",
    "\n",
    "Popular for hard interview questions."
   ]
  },
  {
   "cell_type": "code",
   "execution_count": 2,
   "metadata": {},
   "outputs": [],
   "source": [
    "from typing import List, Dict\n",
    "from threading import Timer\n",
    "from collections import Counter "
   ]
  },
  {
   "cell_type": "markdown",
   "metadata": {},
   "source": [
    "## EPI Problems"
   ]
  },
  {
   "cell_type": "code",
   "execution_count": 29,
   "metadata": {},
   "outputs": [],
   "source": [
    "def fib(n: int):\n",
    "    a, b = 0, 1\n",
    "    if n == 0: return a\n",
    "    for i in range(2, n+1):\n",
    "        a, b = b, a+b\n",
    "    return b"
   ]
  },
  {
   "cell_type": "markdown",
   "metadata": {},
   "source": [
    "Find the maximum sum over all subarray of a given array of integers (continous sub-array).\n",
    "<br />\n",
    "[904, 40, 523, 12, -335, -385, -124, 481, -31] sub is 1479"
   ]
  },
  {
   "cell_type": "code",
   "execution_count": 54,
   "metadata": {},
   "outputs": [
    {
     "data": {
      "text/plain": [
       "1479"
      ]
     },
     "execution_count": 54,
     "metadata": {},
     "output_type": "execute_result"
    }
   ],
   "source": [
    "def my_maxSumOverArray(nums: List[int]) -> int:\n",
    "    total = nums[0]\n",
    "    start = 0\n",
    "    for i in range(1, len(nums)):\n",
    "        sub_sum = sum(nums[start:i+1])\n",
    "        if sub_sum > total:\n",
    "            total = sub_sum\n",
    "        if nums[i] > sub_sum:\n",
    "            start = i\n",
    "    return total\n",
    "\n",
    "# Textbook answer\n",
    "def find_maximum_subarray(A: List[int]) -> int:\n",
    "    max_seen = max_end = 0 \n",
    "    for a in A:\n",
    "        max_end = max(a, a + max_end)\n",
    "        max_seen = max(max_seen, max_end)\n",
    "    return max_end\n",
    "\n",
    "a = [904, 40, 523, 12, -335, -385, -124, 481, -31]\n",
    "maxSumOverArray(a)"
   ]
  },
  {
   "cell_type": "markdown",
   "metadata": {},
   "source": [
    "## Leetcode Problems"
   ]
  },
  {
   "cell_type": "markdown",
   "metadata": {},
   "source": [
    "Robot in a grid: Imagine a robot starts from the ipper left corner of a grid with r rows and c columns. The robot can move in two directions, right and down. But certain cells are off limits such that the robot cannot step on. "
   ]
  },
  {
   "cell_type": "markdown",
   "metadata": {},
   "source": [
    "### 70. Climbing Stairs"
   ]
  },
  {
   "cell_type": "code",
   "execution_count": 85,
   "metadata": {},
   "outputs": [
    {
     "data": {
      "text/plain": [
       "6"
      ]
     },
     "execution_count": 85,
     "metadata": {},
     "output_type": "execute_result"
    }
   ],
   "source": [
    "class Solution_746:\n",
    "    def minCostClimbingStairs(self, cost: List[int]) -> int:\n",
    "        dp = (len(cost)) * [0]\n",
    "        dp[0], dp[1] = cost[0], cost[1]\n",
    "        \n",
    "        for i in range(2, len(cost), 1):\n",
    "            dp[i] = cost[i] + min(dp[i-1], dp[i-2])\n",
    "        return min(dp[-1], dp[-2])\n",
    "    \n",
    "t1 = [1, 100, 1, 1, 1, 100, 1, 1, 100, 1]\n",
    "dp = [1, 100, 2, 3, 3, 103, 4, 5, 104, 6]\n",
    "s1 =  6\n",
    "\n",
    "# t2 = [10, 15, 20][x]\n",
    "# d2 = [10, 15, 30][15]\n",
    "\n",
    "t2 = [10, 15, 20]\n",
    "s2 = 15\n",
    "\n",
    "t3 = [13, 11]\n",
    "t4 = [1]\n",
    "\n",
    "s = Solution_746()\n",
    "s.minCostClimbingStairs(t1)"
   ]
  },
  {
   "cell_type": "markdown",
   "metadata": {},
   "source": [
    "### 121. Best Time to Buy and Sell Stock"
   ]
  },
  {
   "cell_type": "code",
   "execution_count": 86,
   "metadata": {},
   "outputs": [],
   "source": [
    "class Solution:\n",
    "    def maxProfit(self, prices: List[int]) -> int:\n",
    "        if len(prices) < 2:\n",
    "            return 0\n",
    "        \n",
    "        minPrice = max(prices)\n",
    "        maxProfit = 0\n",
    "        \n",
    "        for i, price in enumerate(prices):\n",
    "            if price < minPrice:\n",
    "                minPrice = price\n",
    "            elif ((price - minPrice) > maxProfit):\n",
    "                maxProfit = price - minPrice\n",
    "        return maxProfit"
   ]
  },
  {
   "cell_type": "markdown",
   "metadata": {},
   "source": [
    "### 322. Coin Change\n",
    "\n",
    "You are given coins of different denominations and a total amount of money amount. Write a function to compute the fewest number of coins that you need to make up that amount. If that amount of money cannot be made up by any combination of the coins, return -1.\n",
    "You may assume that you have an infinite number of each kind of coin."
   ]
  },
  {
   "cell_type": "code",
   "execution_count": 70,
   "metadata": {},
   "outputs": [
    {
     "name": "stdout",
     "output_type": "stream",
     "text": [
      "[0]\n"
     ]
    },
    {
     "data": {
      "text/plain": [
       "0"
      ]
     },
     "execution_count": 70,
     "metadata": {},
     "output_type": "execute_result"
    }
   ],
   "source": [
    "# 14:15 incomplete at 14:42\n",
    "class Solution_Time_Limit_Exceed:\n",
    "    def coinChange(self, coins: List[int], amount: int) -> int:\n",
    "        if amount == 0: return 0\n",
    "        dp = [0] * (amount+1)\n",
    "        dict_coins = {}\n",
    "        \n",
    "        for coin in coins: dict_coins[coin] = 1\n",
    "        \n",
    "        start = min(coins)\n",
    "        if start <= amount:\n",
    "            dp[start] = 1\n",
    "        else:\n",
    "            return -1\n",
    "        \n",
    "        for num in range(start+1, amount+1):\n",
    "            if num in dict_coins:\n",
    "                dp[num] = 1\n",
    "            else:\n",
    "                currMin = 9999\n",
    "                for j in range(num-1, start-1, -1):\n",
    "                    if (j + (num - j) == num) and num-j >= 0:\n",
    "                        if dp[j] + dp[num-j] < currMin and dp[j] != 0 and dp[num-j] != 0:\n",
    "                            dp[num] = dp[j] + dp[num-j]\n",
    "                            currMin = dp[j] + dp[num-j]\n",
    "        if dp[-1] > 0:\n",
    "            return dp[-1]\n",
    "        else:\n",
    "            return -1\n",
    "        \n",
    "class Solution:\n",
    "    def coinChange(self, coins: List[int], amount: int) -> int:\n",
    "        dp = [999999] * (amount + 1)\n",
    "        dp[0] = 0\n",
    "        print(dp)\n",
    "        for i in range(1, len(dp)):\n",
    "            for coin in coins:\n",
    "                if i - coin >= 0:\n",
    "                    dp[i] = min(dp[i], dp[i-coin]+1)\n",
    "        return dp[-1]\n",
    "                \n",
    "coin1, target1, a1 = [1, 2, 5], 11, 3\n",
    "coin2, target2, a2 = [2], 3, -1\n",
    "coin3, target3, a3 = [2], 1, -1\n",
    "coin4, t4, a4 = [1], 1, 0\n",
    "s = Solution()\n",
    "s.coinChange([1], 0)"
   ]
  },
  {
   "cell_type": "markdown",
   "metadata": {},
   "source": [
    "### 62. Unique Paths"
   ]
  },
  {
   "cell_type": "code",
   "execution_count": 72,
   "metadata": {},
   "outputs": [
    {
     "data": {
      "text/plain": [
       "28"
      ]
     },
     "execution_count": 72,
     "metadata": {},
     "output_type": "execute_result"
    }
   ],
   "source": [
    "class Solution:\n",
    "    def uniquePaths(self, m: int, n: int) -> int:\n",
    "        dp = [[0 for i in range(n)] for j in range(m)]\n",
    "        for i in range(len(dp)):\n",
    "            for j in range(len(dp[i])):\n",
    "                if i == 0 and j == 0:\n",
    "                    dp[0][0] = 1\n",
    "                else:\n",
    "                    dp[i][j] = dp[i][j-1] + dp[i-1][j]\n",
    "        return dp[-1][-1]\n",
    "s = Solution()\n",
    "s.uniquePaths(3, 7)"
   ]
  },
  {
   "cell_type": "markdown",
   "metadata": {},
   "source": [
    "### 688. Knight Probability in Chessboard"
   ]
  },
  {
   "cell_type": "code",
   "execution_count": 73,
   "metadata": {},
   "outputs": [
    {
     "name": "stdout",
     "output_type": "stream",
     "text": [
      "[0.03125, 0.0009765625]\n"
     ]
    },
    {
     "data": {
      "text/plain": [
       "0.0009765625"
      ]
     },
     "execution_count": 73,
     "metadata": {},
     "output_type": "execute_result"
    }
   ],
   "source": [
    "class Solution:\n",
    "    def knightProbability(self, N: int, K: int, r: int, c: int) -> float:\n",
    "        matrix = [[0 for j in range(N)] for i in range(N)]\n",
    "        k: List[float] = [1] * K\n",
    "        knight_pos = [[r, c]]\n",
    "        temp = knight_pos\n",
    "        new_pos = 0\n",
    "        probability = 1\n",
    "        \n",
    "        for i in range(len(k)):\n",
    "            temp = []\n",
    "            probability = 1\n",
    "            for j, pos in enumerate(knight_pos):\n",
    "                row, col = pos[0], pos[1]\n",
    "            # Top\n",
    "                if row-1 >= 0 and col-2 >= 0:\n",
    "                    new_pos += 1\n",
    "                    temp = self.add_knight(temp, row-1, col-2)\n",
    "                if row-2 >= 0 and col-1 >= 0:\n",
    "                    new_pos += 1\n",
    "                    temp = self.add_knight(temp, row-2, col-1)\n",
    "                if row-2 >= 0 and col+1:\n",
    "                    new_pos += 1\n",
    "                    temp = self.add_knight(temp, row-2, col+1)\n",
    "                if row-1 >= 0 and col+2 <= N-1:\n",
    "                    new_pos += 1\n",
    "                    temp = self.add_knight(temp, row-1, col+2)\n",
    "\n",
    "                # Bottom\n",
    "                if row+1 <= N-1 and col-2 >= 0:\n",
    "                    new_pos += 1\n",
    "                    temp = self.add_knight(temp, row+1, col-2)\n",
    "                if row+2 <= N-1 and col-1 >= 0:\n",
    "                    new_pos += 1\n",
    "                    temp = self.add_knight(temp, row+2, col-1)\n",
    "                    \n",
    "                if row+1 <= N-1 and col+2 <= N-1:\n",
    "                    new_pos += 1\n",
    "                    temp = self.add_knight(temp, row+1, col+2)\n",
    "                if row+2 <= N-1 and col+1 < N-1:\n",
    "                    new_pos += 1\n",
    "                    temp = self.add_knight(temp, row+2, col+1)\n",
    "                    \n",
    "                for b in range(1, new_pos+1):\n",
    "                    probability = probability * (b/8)    \n",
    "                new_pos = 0\n",
    "            if i == 0:\n",
    "                k[i] = probability\n",
    "            else:\n",
    "                k[i] = probability\n",
    "            knight_pos = temp\n",
    "        print(k)\n",
    "        return k[-1]\n",
    "                    \n",
    "                \n",
    "    def add_knight(self, knight_pos: List[List[int]], row: int, col: int) -> List[List[int]]:\n",
    "            knight_pos.append([row, col])\n",
    "            return knight_pos\n",
    "        \n",
    "    def print_grid(self, grid):\n",
    "        for i in range(len(grid)):\n",
    "            print(grid[i])\n",
    "        \n",
    "s = Solution()\n",
    "s.knightProbability(3, 2, 0, 0)"
   ]
  },
  {
   "cell_type": "markdown",
   "metadata": {},
   "source": [
    "### 322. Coin Change\n",
    "\n",
    "You are given coins of different denominations and a total amount of money amount. Write a function to compute the fewest number of coins that you need to make up that amount. If that amount of money cannot be made up by any combination of the coins, return -1.\n",
    "You may assume that you have an infinite number of each kind of coin."
   ]
  },
  {
   "cell_type": "code",
   "execution_count": 74,
   "metadata": {},
   "outputs": [
    {
     "data": {
      "text/plain": [
       "999999"
      ]
     },
     "execution_count": 74,
     "metadata": {},
     "output_type": "execute_result"
    }
   ],
   "source": [
    "class Solution:\n",
    "    def coinChange(self, coins: List[int], amount: int) -> int:\n",
    "        dp = [999999] * (amount + 1)\n",
    "        dp[0] = 0\n",
    "        for i in range(1, len(dp)):\n",
    "            for coin in coins:\n",
    "                if i - coin >= 0:\n",
    "                    dp[i] = min(dp[i], dp[i-coin]+1)\n",
    "        return dp[-1]\n",
    "    \n",
    "s = Solution()\n",
    "s.coinChange([2147483647], 2)"
   ]
  },
  {
   "cell_type": "markdown",
   "metadata": {},
   "source": [
    "### 64. Minimum Path Sum"
   ]
  },
  {
   "cell_type": "code",
   "execution_count": 76,
   "metadata": {},
   "outputs": [
    {
     "data": {
      "text/plain": [
       "7"
      ]
     },
     "execution_count": 76,
     "metadata": {},
     "output_type": "execute_result"
    }
   ],
   "source": [
    "class Solution:\n",
    "    def minPathSum(self, grid: List[List[int]]) -> int:\n",
    "        \n",
    "        for i in range(len(grid)):\n",
    "            for j in range(len(grid[i])):\n",
    "                if j == 0 and i != 0:\n",
    "                    grid[i][j] = grid[i][j] + grid[i-1][j]\n",
    "                if i == 0 and j != 0:\n",
    "                    grid[i][j] = grid[i][j] + grid[i][j-1]\n",
    "                elif i != 0 and j != 0:\n",
    "                     grid[i][j] = grid[i][j] + min(grid[i][j-1], grid[i-1][j])\n",
    "        return grid[-1][-1]\n",
    "        \n",
    "t1 =[\n",
    "  [1,3,1],\n",
    "  [1,5,1],\n",
    "  [4,2,1]\n",
    "]\n",
    "s = Solution()\n",
    "s.minPathSum(t1)"
   ]
  },
  {
   "cell_type": "markdown",
   "metadata": {},
   "source": [
    "### 63. Unique Paths II"
   ]
  },
  {
   "cell_type": "code",
   "execution_count": 87,
   "metadata": {},
   "outputs": [
    {
     "data": {
      "text/plain": [
       "2"
      ]
     },
     "execution_count": 87,
     "metadata": {},
     "output_type": "execute_result"
    }
   ],
   "source": [
    "class Solution:\n",
    "    def uniquePathsWithObstacles(self, obstacleGrid: List[List[int]]) -> int:\n",
    "        if obstacleGrid[0][0] == 1:\n",
    "            return 0\n",
    "        grid = obstacleGrid\n",
    "        grid[0][0] = -1\n",
    "        \n",
    "        for i in range(len(obstacleGrid)):\n",
    "            for j in range(len(obstacleGrid[i])):\n",
    "                if grid[i][j] != 1:\n",
    "                    if i == 0 and j != 0:\n",
    "                        if grid[i][j-1] != 1:\n",
    "                            grid[i][j] = grid[i][j-1]\n",
    "                    elif j == 0 and i != 0:\n",
    "                        if grid[i-1][j] != 1:\n",
    "                            grid[i][j] = grid[i-1][j]\n",
    "                    elif i != 0 and j != 0:\n",
    "                        if grid[i-1][j] == 1:\n",
    "                            grid[i][j] = grid[i][j-1]\n",
    "                        elif grid[i][j-1] == 1:\n",
    "                            grid[i][j] = grid[i-1][j]\n",
    "                        else:\n",
    "                            grid[i][j] = grid[i-1][j] + grid[i][j-1]\n",
    "        if grid[-1][-1] == 1:\n",
    "            return 0\n",
    "        return abs(grid[-1][-1])\n",
    "s = Solution()\n",
    "t1 = [\n",
    "  [0,0,0],\n",
    "  [0,1,0],\n",
    "  [0,0,0]\n",
    "]\n",
    "s.uniquePathsWithObstacles(t1)"
   ]
  },
  {
   "cell_type": "markdown",
   "metadata": {},
   "source": [
    "### 39. Combination Sum\n",
    "## Incomeplete!"
   ]
  },
  {
   "cell_type": "code",
   "execution_count": 75,
   "metadata": {},
   "outputs": [
    {
     "data": {
      "text/plain": [
       "10"
      ]
     },
     "execution_count": 75,
     "metadata": {},
     "output_type": "execute_result"
    }
   ],
   "source": [
    "from collections import Counter\n",
    "class Solution:\n",
    "    def combinationSum(self, nums: List[int], target: int) -> List[List[int]]:\n",
    "        dp = [0] * (target+1)\n",
    "        dict = {key:key for key in nums}\n",
    "        \n",
    "        for i in range(len(dp)):\n",
    "            curr_list = []\n",
    "            for num in nums:\n",
    "                if i == num:\n",
    "                    curr_list.append([num])\n",
    "                elif i-num > 0:\n",
    "                    for s in dp[i-num]:\n",
    "                        copy = s.copy()\n",
    "                        if (sum(copy) + dict[num]) == i:\n",
    "                            copy.append(dict[num])\n",
    "                            curr_list.append(copy)\n",
    "            dp[i] = curr_list\n",
    "        result = dp[target]\n",
    "        return len(result)\n",
    "                \n",
    "\n",
    "# >>> x = [(1,2), (2,1), (3,4), (5,6), (6,5)]\n",
    "# >>> list(set([ tuple(set(i)) for i in x ]))\n",
    "# [(1, 2), (5, 6), (3, 4)]\n",
    "            \n",
    "        \n",
    "nums = [2,3,6,7]\n",
    "target = 7\n",
    "t2 = [0]\n",
    "t3 = 0\n",
    "s = Solution()\n",
    "s.combinationSum([4,2,1], 5)"
   ]
  },
  {
   "cell_type": "markdown",
   "metadata": {},
   "source": [
    "### 931. Minimum Falling Path Sum\n",
    "Given a square array of integers A, we want the minimum sum of a falling path through A.\n",
    "A falling path starts at any element in the first row, and chooses one element from each row.  The next row's choice must be in a column that is different from the previous row's column by at most one"
   ]
  },
  {
   "cell_type": "code",
   "execution_count": 77,
   "metadata": {},
   "outputs": [
    {
     "data": {
      "text/plain": [
       "7"
      ]
     },
     "execution_count": 77,
     "metadata": {},
     "output_type": "execute_result"
    }
   ],
   "source": [
    "from sys import maxsize\n",
    "class Solution:\n",
    "    def minFallingPathSum(self, A: List[List[int]]) -> int:\n",
    "        maxInt = 9999999\n",
    "        dp = [[maxInt for j in range(len(A[i]))] for i in range(len(A))]\n",
    "        \n",
    "        for i in range(len(A)):\n",
    "            for j in range(len(A[i])):\n",
    "                if i == 0:\n",
    "                    dp[i][j] = min(A[i][j], dp[i][j])\n",
    "                else:\n",
    "                    if j == 0:\n",
    "                        dp[i][j] = min(A[i][j]+dp[i-1][j], A[i][j]+dp[i-1][j+1], dp[i][j])\n",
    "                    elif j == (len(A[i])-1):\n",
    "                        dp[i][j] = min(A[i][j]+dp[i-1][j], A[i][j]+dp[i-1][j-1], dp[i][j])\n",
    "                    else:\n",
    "                        dp[i][j] = min(A[i][j]+dp[i-1][j], A[i][j]+dp[i-1][j-1], A[i][j]+dp[i-1][j+1], dp[i][j])\n",
    "        return min(dp[-1])\n",
    "    \n",
    "    def minFallingPathSum_Shorter(self, A):\n",
    "        dp = A[0]\n",
    "        for row in A[1:]:\n",
    "            dp = [value + min([dp[c], dp[max(c - 1, 0)], dp[min(len(A) - 1, c + 1)]]) for c, value in enumerate(row)]\n",
    "        return min(dp)\n",
    "    \n",
    "# It can be conciser with Python's list indice:\n",
    "# Simply rewrite min([dp[c], dp[max(c - 1, 0)], dp[min(len(A) - 1, c + 1)]]) into min(dp[max(0, c - 1) : c + 2])\n",
    "# We can do this because Python will handle index out of range in a graceful way rather than raising errors.\n",
    "\n",
    "t1 = [[1,2,3],\n",
    "      [4,5,6],\n",
    "      [7,8,1]]\n",
    "\n",
    "t2 = [[-80,-13,22],\n",
    "      [83,94,-5],\n",
    "      [73,-48,61]]\n",
    "s=Solution()\n",
    "s.minFallingPathSum(t1)"
   ]
  },
  {
   "cell_type": "markdown",
   "metadata": {},
   "source": [
    "### 279. Perfect Squares\n",
    "Given a positive integer n, find the least number of perfect square numbers (for example, 1, 4, 9, 16, ...) which sum to n."
   ]
  },
  {
   "cell_type": "code",
   "execution_count": 15,
   "metadata": {},
   "outputs": [
    {
     "data": {
      "text/plain": [
       "1"
      ]
     },
     "execution_count": 15,
     "metadata": {},
     "output_type": "execute_result"
    }
   ],
   "source": [
    "class Solution:\n",
    "    def numSquares(self, n: int) -> int:\n",
    "        square = []\n",
    "        dp = [99999999] * (n+1)\n",
    "        dp[0] = 0\n",
    "        \n",
    "        for i in range(0, n+1):\n",
    "            square.append(i*i)\n",
    "            if i*i > n:\n",
    "                break\n",
    "                \n",
    "        for i in range(1, len(dp)):\n",
    "            for j in range(len(square)):\n",
    "                if i - square[j] >= 0:\n",
    "                    dp[i] = min(dp[i], dp[i-square[j]]+1)\n",
    "        return dp[-1]\n",
    "    \n",
    "    \n",
    "s = Solution()\n",
    "s.numSquares(1)"
   ]
  },
  {
   "cell_type": "code",
   "execution_count": 16,
   "metadata": {},
   "outputs": [
    {
     "data": {
      "text/plain": [
       "0"
      ]
     },
     "execution_count": 16,
     "metadata": {},
     "output_type": "execute_result"
    }
   ],
   "source": [
    "from fractions import gcd\n",
    "class Solution:\n",
    "    def minSteps_almostAllTestCase(self, n: int) -> int:\n",
    "        steps =0\n",
    "        while n != 0:\n",
    "            if n % 2 == 0 and n != 2:\n",
    "                steps += 2\n",
    "                n = n // 2 \n",
    "            elif n % 3 == 0 and n != 3:\n",
    "                steps += 3\n",
    "                n = n // 3\n",
    "            else:\n",
    "                steps += n\n",
    "                n = 0\n",
    "        return steps   \n",
    "    \n",
    "    def minSteps(self, n: int) -> int:\n",
    "        dp = [0] * (n+1)\n",
    "        \n",
    "        for i in range(2, n):\n",
    "            dp[i] = i\n",
    "            for j in range(i-1, 1, -1):\n",
    "                if i % j == 0:\n",
    "                    dp[i] = dp[j] + (i/j)\n",
    "                    break\n",
    "                    \n",
    "        return dp[n]\n",
    "s = Solution()\n",
    "s.minSteps(25) # 25\n",
    "# s.minSteps(741) # 35"
   ]
  },
  {
   "cell_type": "code",
   "execution_count": 84,
   "metadata": {},
   "outputs": [
    {
     "name": "stdout",
     "output_type": "stream",
     "text": [
      "\n"
     ]
    },
    {
     "data": {
      "text/plain": [
       "0"
      ]
     },
     "execution_count": 84,
     "metadata": {},
     "output_type": "execute_result"
    }
   ],
   "source": [
    "import heapq\n",
    "from typing import List\n",
    "class Solution:\n",
    "    def lastStoneWeight(self, stones: List[int]) -> int:\n",
    "        \n",
    "        while len(stones) > 1:\n",
    "            two = heapq.nlargest(2, stones)\n",
    "            i, j = stones.index(two[0]), stones.index(two[1])\n",
    "            if two[0] == two[1]:\n",
    "                i = stones.index(two[0])\n",
    "                j = stones.index(two[1], i+1)\n",
    "            print()\n",
    "            if two[0] == two[1]:\n",
    "                stones[i], stones[j] = 0, 0 \n",
    "                stones.remove(0)\n",
    "            elif two[0] != two[1]:\n",
    "                remain = two[0] - two[1]\n",
    "                stones[i], stones[j] = remain, 0\n",
    "                stones.remove(0)\n",
    "        if stones:\n",
    "            return max(stones)\n",
    "        else:\n",
    "            return 0\n",
    "    \n",
    "t1 = [2,7,4,1,8,1]\n",
    "s = Solution()\n",
    "s.lastStoneWeight([2,2])"
   ]
  },
  {
   "cell_type": "markdown",
   "metadata": {},
   "source": [
    "### 198. House Robber"
   ]
  },
  {
   "cell_type": "code",
   "execution_count": 83,
   "metadata": {},
   "outputs": [
    {
     "data": {
      "text/plain": [
       "105"
      ]
     },
     "execution_count": 83,
     "metadata": {},
     "output_type": "execute_result"
    }
   ],
   "source": [
    "class Solution:\n",
    "    def rob(self, nums: List[int]) -> int:\n",
    "        return self.robRe(nums, len(nums)-1)\n",
    "    \n",
    "    def robRe(self, nums, i):\n",
    "        if i < 0:\n",
    "            return 0\n",
    "        return max(self.robRe(nums, i-2) + nums[i], self.robRe(nums, i-1)) \n",
    "        \n",
    "    def rob_dp(self, nums: List[int]) -> int:\n",
    "        if i < 0:\n",
    "            return 0\n",
    "        dp = [0] * (len(nums) + 1)\n",
    "        dp[1] = nums[0]\n",
    "        \n",
    "        for i in range(1, len(nums)):\n",
    "            dp[i+1] = max(dp[i], dp[i-1] + nums[i])\n",
    "        return dp[len(nums)]\n",
    "    \n",
    "s = Solution()\n",
    "t1 = [1, 2, 3, 1] #4\n",
    "t3 = [2, 1, 4, 9, 1, 7] # 18\n",
    "t4 = [2, 1, 4, 9, 99, 7]\n",
    "s.rob(t4)"
   ]
  },
  {
   "cell_type": "markdown",
   "metadata": {},
   "source": [
    "### 213. House Robber II\n",
    "You are a professional robber planning to rob houses along a street. Each house has a certain amount of money stashed. All houses at this place are arranged in a circle. That means the first house is the neighbor of the last one. Meanwhile, adjacent houses have a security system connected, and it will automatically contact the police if two adjacent houses were broken into on the same night.\n",
    "\n",
    "Given a list of non-negative integers nums representing the amount of money of each house, return the maximum amount of money you can rob tonight without alerting the police."
   ]
  },
  {
   "cell_type": "code",
   "execution_count": 19,
   "metadata": {},
   "outputs": [],
   "source": [
    "# House Robber 2 - 53/74 test < 30mins\n",
    "class Solution:\n",
    "    def rob_first_attempt(self, nums: List[int]) -> int:\n",
    "        # 53/74 tests < 30 mins\n",
    "        if not nums:\n",
    "            return 0\n",
    "        elif len(nums) < 4:\n",
    "            return max(nums)\n",
    "\n",
    "        dp = [0] * (len(nums) + 1)\n",
    "        dp[1] = nums[0]\n",
    "\n",
    "        for i in range(1, len(nums)):\n",
    "            if i+1 == len(nums) and len(nums) > 4:\n",
    "                dp[i+1] = max(dp[i], dp[i-2] + nums[i])\n",
    "            elif i+1 == len(nums) and len(nums) <= 4:\n",
    "                dp[i+1] = max(dp[i], nums[i-2] + dp[i-4] + nums[i])\n",
    "            else:\n",
    "                dp[i+1] = max(dp[i], dp[i-1] + nums[i])\n",
    "        return dp[len(nums)]"
   ]
  },
  {
   "cell_type": "code",
   "execution_count": 55,
   "metadata": {},
   "outputs": [
    {
     "data": {
      "text/plain": [
       "11"
      ]
     },
     "execution_count": 55,
     "metadata": {},
     "output_type": "execute_result"
    }
   ],
   "source": [
    "# House robber 2 \n",
    "class Solution:\n",
    "    def rob(self, nums: List[int]) -> int:\n",
    "        if not nums:\n",
    "            return 0\n",
    "        elif len(nums) < 4:\n",
    "            return max(nums)\n",
    "        return max(self.robByPosition(nums, 1, len(nums)-1), self.robByPosition(nums, 2, len(nums)))\n",
    "        \n",
    "    def robByPosition(self, nums: List[int], startIndex: int, endIndex: int) -> int:\n",
    "        dp = [0] * (len(nums) + 1)\n",
    "        if endIndex == len(nums)-1:\n",
    "            dp[1] = nums[0] \n",
    "        else: \n",
    "            dp[2] = nums[1]\n",
    "            \n",
    "        for i in range(startIndex, endIndex):\n",
    "            dp[i+1] = max(dp[i], nums[i] + dp[i-1])\n",
    "        return dp[endIndex]\n",
    "        \n",
    "s = Solution()\n",
    "t1 = [2, 3, 2]\n",
    "t2 = [5, 1, 2, 5]\n",
    "t3 = [5, 2, 1, 99] #104\n",
    "t4 = [1, 3, 1, 3, 100] # 103\n",
    "t5 = [6,6,4,8,4,3,3,10] # 27'\n",
    "t6 = [2,7,9,3,1] # 11\n",
    "s.rob(t6) "
   ]
  },
  {
   "cell_type": "markdown",
   "metadata": {},
   "source": [
    "### 120. Triangle\n",
    "\n",
    "Given a triangle, find the minimum path sum from top to bottom. Each step you may move to adjacent numbers on the row below."
   ]
  },
  {
   "cell_type": "code",
   "execution_count": 21,
   "metadata": {},
   "outputs": [
    {
     "data": {
      "text/plain": [
       "11"
      ]
     },
     "execution_count": 21,
     "metadata": {},
     "output_type": "execute_result"
    }
   ],
   "source": [
    "# original solution 24 mins - O(n) time and space \n",
    "class Solution:\n",
    "    def minimumTotal(self, triangle: List[List[int]]) -> int:\n",
    "        if not triangle: \n",
    "            return 0\n",
    "        for i in range(1, len(triangle)):\n",
    "            for j in range(len(triangle[i])):\n",
    "                if j == 0:\n",
    "                    triangle[i][j] += triangle[i-1][j]\n",
    "                elif j == len(triangle[i]) - 1:\n",
    "                    triangle[i][j] += triangle[i-1][j-1]\n",
    "                else:\n",
    "                    triangle[i][j] += min(triangle[i-1][j], triangle[i-1][j-1])\n",
    "        return min(triangle[len(triangle)-1])\n",
    "\n",
    "    def minimumTotal_original(self, triangle: List[List[int]]) -> int:  \n",
    "        if not triangle:\n",
    "            return 0\n",
    "        elif len(triangle) == 1:\n",
    "            return min(triangle[0])\n",
    "        \n",
    "        dp = []\n",
    "        for i in range(len(triangle)):\n",
    "            insert = [0] * len(triangle[i])\n",
    "            dp.append(insert)  \n",
    "        dp[0] = triangle[0]\n",
    "        dp[1] = [triangle[1][0] + dp[0][0], triangle[1][1] + dp[0][0]]\n",
    "        \n",
    "        for i in range(2, len(triangle)):\n",
    "            for j in range(len(triangle[i])):\n",
    "                if j == 0:\n",
    "                    dp[i][j] = triangle[i][j] + dp[i-1][j]\n",
    "                elif j == len(triangle[i])-1:\n",
    "                    dp[i][j] = triangle[i][j] + dp[i-1][j-1]\n",
    "                else:\n",
    "                    dp[i][j] = triangle[i][j] + min(dp[i-1][j], dp[i-1][j-1])\n",
    "        return min(dp[len(triangle)-1])\n",
    "    \n",
    "t1 = [\n",
    "     [2],\n",
    "    [3,4],\n",
    "   [6,5,7],\n",
    "  [4,1,8,3]\n",
    "] # 11\n",
    "s = Solution()\n",
    "s.minimumTotal(t1)"
   ]
  },
  {
   "cell_type": "code",
   "execution_count": 46,
   "metadata": {},
   "outputs": [
    {
     "data": {
      "text/plain": [
       "3"
      ]
     },
     "execution_count": 46,
     "metadata": {},
     "output_type": "execute_result"
    }
   ],
   "source": [
    "import string\n",
    "class Solution:\n",
    "    def numDecodings(self, s: str) -> int:\n",
    "        abc = string.ascii_lowercase[:26]\n",
    "        alphab = {i+1: abc[i] for i in range(len(abc))}\n",
    " \n",
    "        if len(s) == 1 and int(s[0]) != 0 and int(s[0]):\n",
    "            if int(s[0]) in alphab:\n",
    "                return 1  \n",
    "        \n",
    "        total = 1\n",
    "        for i in range(1, len(s)):\n",
    "            if int(s[i-1:i+1]) in alphab:\n",
    "                total += 1\n",
    "        return total\n",
    "s = Solution()\n",
    "s.numDecodings(\"226\")"
   ]
  },
  {
   "cell_type": "markdown",
   "metadata": {},
   "source": [
    "### 494. Target Sum\n",
    "\n",
    "## DO THIS AGAIN"
   ]
  },
  {
   "cell_type": "code",
   "execution_count": 80,
   "metadata": {},
   "outputs": [
    {
     "data": {
      "text/plain": [
       "5"
      ]
     },
     "execution_count": 80,
     "metadata": {},
     "output_type": "execute_result"
    }
   ],
   "source": [
    "class Solution:\n",
    "    def findTargetSumWays(self, nums: List[int], S: int) -> int:\n",
    "        self.memo = {}\n",
    "        res = self.re(nums, -1, S, 0)\n",
    "        return res\n",
    "    \n",
    "    def re(self, nums, i, target, total):\n",
    "        if (i, total) in self.memo:\n",
    "            return self.memo[(i, total)]\n",
    "        \n",
    "        if i == len(nums)-1:\n",
    "            if total == target:\n",
    "                return 1\n",
    "            else:\n",
    "                return 0  \n",
    "        \n",
    "        positive = self.re(nums, i+1, target, total + nums[i+1])\n",
    "        negative = self.re(nums, i+1, target, total - nums[i+1])\n",
    "        \n",
    "        self.memo[(i, total)] = positive + negative\n",
    "        return positive + negative\n",
    "    \n",
    "t1 = [1, 1, 1, 1, 1]\n",
    "s1 = 3\n",
    "s = Solution()\n",
    "s.findTargetSumWays(t1, s1)"
   ]
  },
  {
   "cell_type": "markdown",
   "metadata": {},
   "source": [
    "### 377. Combination Sum IV\n",
    "Given an integer array with all positive numbers and no duplicates, find the number of possible combinations that add up to a positive integer target."
   ]
  },
  {
   "cell_type": "code",
   "execution_count": null,
   "metadata": {},
   "outputs": [],
   "source": [
    "class Solution:\n",
    "    def combinationSum4(self, nums: List[int], target: int) -> int:\n",
    "        dp = [0] * (target+1)\n",
    "        dp[0] = 1\n",
    "        \n",
    "        for i in range(len(dp)):\n",
    "            for num in nums:\n",
    "                if i-num >= 0:\n",
    "                    dp[i] += dp[i-num]\n",
    "                \n",
    "        return dp[target]"
   ]
  },
  {
   "cell_type": "markdown",
   "metadata": {},
   "source": [
    "### 55. Jump Game\n",
    "Given an array of non-negative integers, you are initially positioned at the first index of the array.\n",
    "Each element in the array represents your maximum jump length at that position.\n",
    "Determine if you are able to reach the last index."
   ]
  },
  {
   "cell_type": "code",
   "execution_count": 3,
   "metadata": {},
   "outputs": [
    {
     "data": {
      "text/plain": [
       "False"
      ]
     },
     "execution_count": 3,
     "metadata": {},
     "output_type": "execute_result"
    }
   ],
   "source": [
    "# 22 mins\n",
    "class Solution:\n",
    "    def canJump(self, nums: List[int]) -> bool:\n",
    "        jumpLeft = 0\n",
    "        for i in range(0, len(nums)):\n",
    "            jumpLeft -= 1\n",
    "            jumpLeft = nums[i] if nums[i] >= jumpLeft else jumpLeft\n",
    "            if jumpLeft <= 0 and i != len(nums)-1:\n",
    "                return False\n",
    "        return True\n",
    "t1 = [2,3,1,1,4]\n",
    "t2 = [3,2,1,0,4]\n",
    "t3 = [0,2]\n",
    "s = Solution()\n",
    "s.canJump(t3)"
   ]
  },
  {
   "cell_type": "code",
   "execution_count": null,
   "metadata": {},
   "outputs": [],
   "source": [
    "class Solution:\n",
    "    def wordBreak(self, s: str, wordDict: List[str]) -> bool:\n",
    "        \n",
    "        matching = []\n",
    "        start = 0\n",
    "        while end != len(s)-1:\n",
    "            new_matching = []\n",
    "            for word in wordDict:\n",
    "                if len(word) <= (len(s)-1) - start:\n",
    "                    new_matching.append(start + )\n",
    "                    \n",
    "        \n",
    "t1 = \"applepenapple\"\n",
    "wordDict1 = [\"apple\", \"pen\"]\n",
    "t2 = \"greatnesscat\"\n",
    "wordD2 = [\"great\", \"greatness\", \"cat\"]\n",
    "Output: true"
   ]
  }
 ],
 "metadata": {
  "kernelspec": {
   "display_name": "Python 3.8.2 64-bit",
   "language": "python",
   "name": "python38264bitd343ca77bf834830942a906cabbbade6"
  },
  "language_info": {
   "codemirror_mode": {
    "name": "ipython",
    "version": 3
   },
   "file_extension": ".py",
   "mimetype": "text/x-python",
   "name": "python",
   "nbconvert_exporter": "python",
   "pygments_lexer": "ipython3",
   "version": "3.8.2"
  }
 },
 "nbformat": 4,
 "nbformat_minor": 4
}
