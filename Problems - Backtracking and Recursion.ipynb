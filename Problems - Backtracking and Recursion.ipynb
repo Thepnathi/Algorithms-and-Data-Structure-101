{
 "cells": [
  {
   "cell_type": "markdown",
   "metadata": {},
   "source": [
    "# Backtracking and Recursion Problems"
   ]
  },
  {
   "cell_type": "markdown",
   "metadata": {},
   "source": [
    "Backtracking based problems. \n",
    "\n",
    "1. Make change\n",
    "2. Recurse \n",
    "3. Goal"
   ]
  },
  {
   "cell_type": "code",
   "execution_count": 5,
   "metadata": {},
   "outputs": [],
   "source": [
    "from typing import List, Dict, Tuple"
   ]
  },
  {
   "cell_type": "markdown",
   "metadata": {},
   "source": [
    "## EPI Problems"
   ]
  },
  {
   "cell_type": "markdown",
   "metadata": {},
   "source": [
    "The Tower of Hanoi Problem :) \n",
    "Write function to move n rings from one peg to another. You cannot put larger ring on top of smaller.\n",
    "An example, if n = 2, then the following output is correct:\n",
    "[(0,2), (0,1) and (2,1)]"
   ]
  },
  {
   "cell_type": "code",
   "execution_count": null,
   "metadata": {},
   "outputs": [],
   "source": [
    "def gcd(x: int, y: int) -> int:\n",
    "    return x if y == 0 else gcd(y, x % y)"
   ]
  },
  {
   "cell_type": "code",
   "execution_count": 8,
   "metadata": {},
   "outputs": [],
   "source": [
    "def hanoi(numDisk: int, start: int, end: int) -> List[Tuple[int, int]]:\n",
    "    return None"
   ]
  },
  {
   "cell_type": "code",
   "execution_count": 1,
   "metadata": {},
   "outputs": [
    {
     "data": {
      "text/plain": [
       "[[1, 2, 3], [1, 3, 2], [2, 1, 3], [2, 3, 1], [3, 1, 2], [3, 2, 1]]"
      ]
     },
     "execution_count": 1,
     "metadata": {},
     "output_type": "execute_result"
    }
   ],
   "source": [
    "class Solution():\n",
    "    def permute(self, nums):\n",
    "        res = []\n",
    "        self.dfs(nums, [], res)\n",
    "        return res\n",
    "    \n",
    "    def dfs(self, nums, path, res):\n",
    "        if not nums:\n",
    "            res.append(path)\n",
    "            # return # backtracking\n",
    "        for i in range(len(nums)):\n",
    "            self.dfs(nums[:i]+nums[i+1:], path+[nums[i]], res)\n",
    "            \n",
    "s = Solution()\n",
    "s.permute([1,2,3])"
   ]
  },
  {
   "cell_type": "code",
   "execution_count": 67,
   "metadata": {},
   "outputs": [
    {
     "data": {
      "text/plain": [
       "[]"
      ]
     },
     "execution_count": 67,
     "metadata": {},
     "output_type": "execute_result"
    }
   ],
   "source": [
    "from typing import List, Dict\n",
    "from threading import Timer\n",
    "\n",
    "class Solution:\n",
    "    def permuteUnique(self, nums: List[int]) -> List[List[int]]:\n",
    "        visited = {}\n",
    "        result = []\n",
    "        \n",
    "        if not nums:\n",
    "            return [[]]\n",
    "        \n",
    "        for i, num in enumerate(nums):\n",
    "            if num not in visited:\n",
    "                visited[num] = num\n",
    "                self.dfs([nums[i]], nums[:i] + nums[i+1:], {}, result)\n",
    "        return [list(lis) for lis in set(map(tuple, result))]\n",
    "            \n",
    "    def dfs(self, curr: List[int], nums: List[int], seen: Dict[int,int], result: List[List[int]]):\n",
    "        if not nums:\n",
    "            result.append(curr)\n",
    "        for i, num in enumerate(nums):\n",
    "            self.dfs(curr + [nums[i]], nums[:i] + nums[i+1:], seen, result)\n",
    "            \n",
    "    def permutateUnique_iterative(self, nums):\n",
    "        result = [[]]\n",
    "        for n in nums:\n",
    "            new_result = []\n",
    "            for l in result:\n",
    "                for i in range(len(l)):\n",
    "                    new_result.append(l[:i]+[n] + l[i:])\n",
    "                    if i < len(l) and l[i] == n:\n",
    "                        break\n",
    "            result = new_result\n",
    "        return result\n",
    "s = Solution()\n",
    "s.permutateUnique_iterative([1, 1, 2])\n",
    "# i = 1\n",
    "# a = [0, 1, 2, 3, 99, 5, 6]\n",
    "# a[:i] + a[i+1:]\n"
   ]
  },
  {
   "cell_type": "code",
   "execution_count": 1,
   "metadata": {},
   "outputs": [
    {
     "name": "stdout",
     "output_type": "stream",
     "text": [
      "[[3, 4, 5], [1, 2], [1, 2, 3], ['a', 'c']]\n"
     ]
    }
   ],
   "source": [
    "from collections import OrderedDict\n",
    "mylist = [[1,2,3], ['a', 'c'], [3,4,5],[1,2], [3,4,5], ['a', 'c'], [3,4,5], [1,2]]\n",
    "result = map(list, OrderedDict.fromkeys(map(tuple, mylist)))\n",
    "\n",
    "m = [[1,2,3], ['a', 'c'], [3,4,5],[1,2], [3,4,5], ['a', 'c'], [3,4,5], [1,2]]\n",
    "print([list(i) for i in set(map(tuple, m))])"
   ]
  },
  {
   "cell_type": "code",
   "execution_count": 10,
   "metadata": {},
   "outputs": [
    {
     "data": {
      "text/plain": [
       "['a', 'b', 'c']"
      ]
     },
     "execution_count": 10,
     "metadata": {},
     "output_type": "execute_result"
    }
   ],
   "source": [
    "s = \"abc\"\n",
    "b = []\n",
    "b[:] = s\n",
    "b"
   ]
  }
 ],
 "metadata": {
  "kernelspec": {
   "display_name": "Python 3.8.2 64-bit",
   "language": "python",
   "name": "python38264bitd343ca77bf834830942a906cabbbade6"
  },
  "language_info": {
   "codemirror_mode": {
    "name": "ipython",
    "version": 3
   },
   "file_extension": ".py",
   "mimetype": "text/x-python",
   "name": "python",
   "nbconvert_exporter": "python",
   "pygments_lexer": "ipython3",
   "version": "3.8.2"
  }
 },
 "nbformat": 4,
 "nbformat_minor": 4
}
