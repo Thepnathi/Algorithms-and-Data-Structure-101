{
 "cells": [
  {
   "cell_type": "markdown",
   "metadata": {},
   "source": [
    "# CTCI - Arrays and Strings"
   ]
  },
  {
   "cell_type": "code",
   "execution_count": 3,
   "metadata": {},
   "outputs": [],
   "source": [
    "from typing import List, Dict\n",
    "from collections import Counter"
   ]
  },
  {
   "cell_type": "code",
   "execution_count": 6,
   "metadata": {},
   "outputs": [],
   "source": [
    "def print_dictionary(d):\n",
    "    for i in d:\n",
    "        print(i, d[i])"
   ]
  },
  {
   "cell_type": "markdown",
   "metadata": {},
   "source": [
    "### Determine if a string has all unique characters. What if we cannot use additional data structure?"
   ]
  },
  {
   "cell_type": "markdown",
   "metadata": {},
   "source": [
    " Ask if string is ASCII or Unicode \n"
   ]
  },
  {
   "cell_type": "code",
   "execution_count": 7,
   "metadata": {},
   "outputs": [
    {
     "data": {
      "text/plain": [
       "True"
      ]
     },
     "execution_count": 7,
     "metadata": {},
     "output_type": "execute_result"
    }
   ],
   "source": [
    "def is_unique(input: str) -> bool:\n",
    "    character_seen = {}\n",
    "    for i in input:\n",
    "        if ((i in character_seen) is False): character_seen[i] = 1\n",
    "        else: return False         \n",
    "    return True\n",
    "# time is O(n), space is O(n)\n",
    "is_unique(\"rachel\")"
   ]
  },
  {
   "cell_type": "markdown",
   "metadata": {},
   "source": [
    "### Given two strings, check if one is permutation of other. A word with 6 characters has 6! combinations - 6x5x4x3x2x1"
   ]
  },
  {
   "cell_type": "code",
   "execution_count": 8,
   "metadata": {},
   "outputs": [
    {
     "name": "stderr",
     "output_type": "stream",
     "text": [
      "<>:11: SyntaxWarning: \"is\" with a literal. Did you mean \"==\"?\n",
      "<>:18: SyntaxWarning: \"is not\" with a literal. Did you mean \"!=\"?\n",
      "<>:11: SyntaxWarning: \"is\" with a literal. Did you mean \"==\"?\n",
      "<>:18: SyntaxWarning: \"is not\" with a literal. Did you mean \"!=\"?\n",
      "<ipython-input-8-8f4e8fa6179b>:11: SyntaxWarning: \"is\" with a literal. Did you mean \"==\"?\n",
      "  if char_seen.get(j) is 0:\n",
      "<ipython-input-8-8f4e8fa6179b>:18: SyntaxWarning: \"is not\" with a literal. Did you mean \"!=\"?\n",
      "  if char_seen.get(i) is not 0:\n"
     ]
    },
    {
     "data": {
      "text/plain": [
       "False"
      ]
     },
     "execution_count": 8,
     "metadata": {},
     "output_type": "execute_result"
    }
   ],
   "source": [
    "def string_permutation_of_another(a: str, b: str) -> bool:\n",
    "    char_seen = {}\n",
    "    for i in a:\n",
    "        if ((i in char_seen) is False):\n",
    "            char_seen[i] = 1\n",
    "        else:\n",
    "            if char_seen.get(i):\n",
    "                char_seen[i] = char_seen.get(i) + 1\n",
    "    for j in b:\n",
    "        if j in char_seen:\n",
    "            if char_seen.get(j) is 0:\n",
    "                return False\n",
    "            else: \n",
    "                char_seen[j] = char_seen.get(j) - 1\n",
    "        else:\n",
    "            return False\n",
    "    for i in char_seen:\n",
    "        if char_seen.get(i) is not 0:\n",
    "            return False\n",
    "    return True\n",
    "# time is O(n), space is O(n)\n",
    "string_permutation_of_another(\"aabc\", \"aabcd\")"
   ]
  },
  {
   "cell_type": "markdown",
   "metadata": {},
   "source": [
    "Given a string, write function to check if its palindrom\n",
    "\n",
    "Questions:\n",
    "* Capital character matters?\n",
    "* Whitespace"
   ]
  },
  {
   "cell_type": "code",
   "execution_count": 9,
   "metadata": {},
   "outputs": [
    {
     "data": {
      "text/plain": [
       "False"
      ]
     },
     "execution_count": 9,
     "metadata": {},
     "output_type": "execute_result"
    }
   ],
   "source": [
    "def is_palindrome(s: str) -> bool:\n",
    "    length = len(s) - 1\n",
    "    for i, char in enumerate(s):\n",
    "        if (i is not length):\n",
    "            if (char is not s[length]):\n",
    "                return False\n",
    "        length -= 1\n",
    "    return True\n",
    "\n",
    "is_palindrome(\"tact coa\")"
   ]
  },
  {
   "cell_type": "markdown",
   "metadata": {},
   "source": [
    "Given two string write function to see if any of the three types of edit has been performed on it.\n",
    "There are three type:\n",
    "* Insert a char\n",
    "* Delete a char\n",
    "* Replace a char\n",
    "\n",
    "pale, ple -> true\n",
    "pales, pale -> true\n",
    "pale, bale -> true\n",
    "pale, bake -> false"
   ]
  },
  {
   "cell_type": "code",
   "execution_count": 10,
   "metadata": {},
   "outputs": [],
   "source": [
    "def three_edits_one_away(a: str, b: str) -> bool:\n",
    "    return false"
   ]
  },
  {
   "cell_type": "code",
   "execution_count": 11,
   "metadata": {},
   "outputs": [
    {
     "data": {
      "text/plain": [
       "101"
      ]
     },
     "execution_count": 11,
     "metadata": {},
     "output_type": "execute_result"
    }
   ],
   "source": [
    "MLB_team = {\n",
    "    'Colorado' : 'Rockies',\n",
    "    'Boston'   : 'Red Sox',\n",
    "    'Minnesota': 'Twins',\n",
    "    'Milwaukee': 'Brewers',\n",
    "    'Seattle'  : 'Mariners'\n",
    "}\n",
    "\n",
    "MLB_team['New York'] = 'New York Yankees'\n",
    "'Boston' in MLB_team\n",
    "MLB_team.get('New York')\n",
    "\n",
    "a = {'a': 1, 'b': 0}\n",
    "a['a'] = a.get('a') + 100\n",
    "a.get('a')"
   ]
  },
  {
   "cell_type": "code",
   "execution_count": 12,
   "metadata": {},
   "outputs": [
    {
     "name": "stderr",
     "output_type": "stream",
     "text": [
      "<>:2: SyntaxWarning: \"is not\" with a literal. Did you mean \"!=\"?\n",
      "<>:2: SyntaxWarning: \"is not\" with a literal. Did you mean \"!=\"?\n",
      "<ipython-input-12-cf7693142009>:2: SyntaxWarning: \"is not\" with a literal. Did you mean \"!=\"?\n",
      "  if a is not 123:\n"
     ]
    }
   ],
   "source": [
    "a = 123\n",
    "if a is not 123:\n",
    "    print(False)"
   ]
  },
  {
   "cell_type": "markdown",
   "metadata": {},
   "source": [
    "### String compression - method to do string compression using the counts of repeated characters. \n",
    "\n",
    "1. For example, aabcccccaaa would be a2b1c5a3\n",
    "2. If compressed string is not smaller than original, than return the original string\n",
    "3. Assume string has only uppercase and lowercase letters a-z"
   ]
  },
  {
   "cell_type": "markdown",
   "metadata": {},
   "source": [
    "Our assumptions:\n",
    "\n",
    "* We can assume that the string won't be in alphabetical order - a, b, c\n",
    "* Same alphabet won't be next to each other e.g. aaabba\n",
    "* The string contains multiple words. Therefore considering to split (but unlikely)"
   ]
  },
  {
   "cell_type": "code",
   "execution_count": 13,
   "metadata": {},
   "outputs": [
    {
     "data": {
      "text/plain": [
       "'aa'"
      ]
     },
     "execution_count": 13,
     "metadata": {},
     "output_type": "execute_result"
    }
   ],
   "source": [
    "# Runtime 0(n) and Space O(n)\n",
    "# String concat is inefficient, with Java they have StringBuilder\n",
    "\n",
    "def string_compression(s : str) -> str: \n",
    "    sorted(s)\n",
    "    s = s.lower()\n",
    "    final_string: str = \"\"\n",
    "    \n",
    "    current_char: str = s[0]\n",
    "    current_count: int = 1\n",
    "    i = 0\n",
    "    j = 1\n",
    "    while (j != len(s)):\n",
    "        if (s[j] == s[i]):\n",
    "            current_count += 1\n",
    "        else:\n",
    "            final_string += current_char + str(current_count)\n",
    "            current_char = s[j]\n",
    "            current_count = 1\n",
    "            \n",
    "        if (j == len(s) - 1):\n",
    "            final_string += current_char + str(current_count)\n",
    "        i+=1\n",
    "        j+=1\n",
    "        \n",
    "    if (len(final_string) is len(s)):\n",
    "        return s\n",
    "    else:\n",
    "        return final_string\n",
    "\n",
    "\n",
    "s1 = \"abbcccdddd\"\n",
    "s2 = \"aabcccccaaa\"\n",
    "s3 = \"aa\"\n",
    "\n",
    "string_compression(s3)"
   ]
  },
  {
   "cell_type": "markdown",
   "metadata": {},
   "source": [
    "### Rotate Matrix - An image represented by nxn matrix,  each pixel is represented by 4 bytes. Write method to rotate image by 90 degrees."
   ]
  },
  {
   "cell_type": "code",
   "execution_count": 14,
   "metadata": {},
   "outputs": [
    {
     "data": {
      "text/plain": [
       "<zip at 0x241fe125c80>"
      ]
     },
     "execution_count": 14,
     "metadata": {},
     "output_type": "execute_result"
    }
   ],
   "source": [
    "w, h = 5, 5;\n",
    "matrix = [[0 for x in range(w)] for y in range(h)] \n",
    "\n",
    "num = 10\n",
    "\n",
    "for i in range(0, 5):\n",
    "    for j in range(0, 5):\n",
    "        matrix[i][j] = num\n",
    "        num+=1\n",
    "    \n",
    "original = [[1, 2],\n",
    "            [3, 4]]\n",
    "\n",
    "s = zip(original[::-1])\n",
    "s"
   ]
  },
  {
   "cell_type": "code",
   "execution_count": 15,
   "metadata": {},
   "outputs": [
    {
     "data": {
      "text/plain": [
       "[22, 28, 8, 6, 17, 44]"
      ]
     },
     "execution_count": 15,
     "metadata": {},
     "output_type": "execute_result"
    }
   ],
   "source": [
    "from typing import List\n",
    "# 10:10\n",
    "class Solution:\n",
    "    def relativeSortArray(self, arr1: List[int], arr2: List[int]) -> List[int]:\n",
    "        dict = {}\n",
    "        order = []\n",
    "        result = []\n",
    "        \n",
    "        for num in arr2:\n",
    "            order.append(num)\n",
    "            dict[num] = 0\n",
    "            \n",
    "        for num in arr1:\n",
    "            if num in dict:\n",
    "                dict[num] += 1\n",
    "            else:\n",
    "                dict[num] = 1\n",
    "        \n",
    "        for num in order:\n",
    "            if num in dict:\n",
    "                result.append([num] * dict[num])\n",
    "                dict[num] = -1\n",
    "        remaining = []\n",
    "        for key in dict:\n",
    "            if dict[key] != -1:\n",
    "                remaining.append(key)\n",
    "        answer = []\n",
    "        \n",
    "        for i in range(len(result)):\n",
    "            for j in range(len(result[i])):\n",
    "                answer.append(result[i][j])\n",
    "                \n",
    "        a = sorted(remaining)\n",
    "        for num in a:\n",
    "            answer.append(num)\n",
    "        return answer\n",
    "        \n",
    "        \n",
    "arr1 = [2,3,1,3,2,4,6,7,9,2,19]\n",
    "arr2 = [2,1,4,3,9,6]\n",
    "answ1 = [2,2,2,1,4,3,3,9,6,7,19]\n",
    "\n",
    "\n",
    "a= [28,6,22,8,44,17]\n",
    "b= [22,28,8,6]\n",
    "s = Solution()\n",
    "s.relativeSortArray(a,b)"
   ]
  },
  {
   "cell_type": "code",
   "execution_count": 16,
   "metadata": {},
   "outputs": [
    {
     "data": {
      "text/plain": [
       "'leetcode'"
      ]
     },
     "execution_count": 16,
     "metadata": {},
     "output_type": "execute_result"
    }
   ],
   "source": [
    "from typing import List\n",
    "class Solution:\n",
    "    def restoreString(self, s: str, indices: List[int]) -> str:\n",
    "        original = list(s)\n",
    "        copy = list(s)\n",
    "        \n",
    "        for i, num in enumerate(indices):\n",
    "            copy[num] = original[i]\n",
    "        \n",
    "        answer = \"\"\n",
    "        for i in copy:\n",
    "            answer += i\n",
    "            \n",
    "        return answer\n",
    "    \n",
    "a = \"codeleet\"\n",
    "i = [4,5,6,7,0,2,1,3]\n",
    "s = Solution()\n",
    "s.restoreString(a, i)"
   ]
  },
  {
   "cell_type": "code",
   "execution_count": 17,
   "metadata": {},
   "outputs": [
    {
     "data": {
      "text/plain": [
       "2"
      ]
     },
     "execution_count": 17,
     "metadata": {},
     "output_type": "execute_result"
    }
   ],
   "source": [
    "from typing import List\n",
    "class Solution:\n",
    "    def findDuplicate(self, nums: List[int]) -> int:\n",
    "        for i, num in enumerate(nums):\n",
    "            if nums[abs(num)] < 0:\n",
    "                return abs(num)\n",
    "            else:\n",
    "                nums[abs(num)] *= -1\n",
    "\n",
    "n1 = [1,3,4,2,2]\n",
    "s1 = 2\n",
    "n2 = [3,1,3,4,2]\n",
    "s2 = 3\n",
    "f1 = [1,2,2]\n",
    "s1 = 2\n",
    "s = Solution()\n",
    "s.findDuplicate(f1)"
   ]
  },
  {
   "cell_type": "code",
   "execution_count": 18,
   "metadata": {},
   "outputs": [],
   "source": [
    "class Solution_238:\n",
    "    def productExceptSelf(self, nums: List[int]) -> List[int]:\n",
    "        dict = {}\n",
    "        all_multiplied = 1\n",
    "        result = []\n",
    "\n",
    "        # count 0\n",
    "        for i, num in enumerate(nums):\n",
    "            if num == 0 and num in dict:\n",
    "                dict[num].append(i)\n",
    "            elif num == 0:\n",
    "                dict[num] = [i]\n",
    "\n",
    "        if 0 in dict:\n",
    "            if len(dict[0]) > 1:\n",
    "                return [0] * len(nums)\n",
    "            else:\n",
    "                for i, num in enumerate(nums):\n",
    "                    if num != 0:\n",
    "                        all_multiplied *= num\n",
    "\n",
    "                for i, num in enumerate(nums):\n",
    "                    if num == 0:\n",
    "                        if dict[0][0] == i:\n",
    "                            result.append(int(all_multiplied))\n",
    "                    else:\n",
    "                        result.append(0)\n",
    "        else:\n",
    "            for i, num in enumerate(nums):\n",
    "                all_multiplied *= num\n",
    "            for i, num in enumerate(nums):\n",
    "                result.append(int(all_multiplied/num))\n",
    "        return result"
   ]
  },
  {
   "cell_type": "code",
   "execution_count": 19,
   "metadata": {},
   "outputs": [
    {
     "data": {
      "text/plain": [
       "[0, 0, 6, 0]"
      ]
     },
     "execution_count": 19,
     "metadata": {},
     "output_type": "execute_result"
    }
   ],
   "source": [
    "from typing import List\n",
    "class Solution_Better_Sol:\n",
    "    def productExceptSelf(self, nums: List[int]) -> List[int]:\n",
    "        accum = 1\n",
    "        n = len(nums)\n",
    "        result = []\n",
    "        \n",
    "        for i in range(0, n):\n",
    "            result.append(accum)\n",
    "            accum *= nums[i]\n",
    "\n",
    "        accum = 1\n",
    "        for i in range(n-1, -1, -1):\n",
    "            result[i] = result[i] * accum\n",
    "            accum *= nums[i]\n",
    "        return result\n",
    "            \n",
    "i= [1,2,3,4]\n",
    "o= [24,12,8,6] \n",
    "s = Solution_Better_Sol()\n",
    "s.productExceptSelf([1, 2, 0, 3])"
   ]
  },
  {
   "cell_type": "code",
   "execution_count": 20,
   "metadata": {},
   "outputs": [
    {
     "data": {
      "text/plain": [
       "[7, 10]"
      ]
     },
     "execution_count": 20,
     "metadata": {},
     "output_type": "execute_result"
    }
   ],
   "source": [
    "# 15:23\n",
    "# 15:53\n",
    "# submit 16:05 wrong\n",
    "# corrrect - 16:08 0(n)\n",
    "from typing import List\n",
    "class Solution:\n",
    "    def partitionLabels(self, S: str) -> List[int]:\n",
    "        result = []\n",
    "        dict = {}\n",
    "        \n",
    "        if len(S) == 1:\n",
    "            result.append(1)\n",
    "            return result\n",
    "        \n",
    "        for i, letter in enumerate(S):\n",
    "            if letter in dict:\n",
    "                dict[letter][1] = i\n",
    "            else:\n",
    "                dict[letter] = [i, i]\n",
    "        \n",
    "        first_key = dict[S[0]]\n",
    "        partition = [first_key]\n",
    "        curr = 0\n",
    "         \n",
    "        for key in dict:\n",
    "            if key != S[0]:\n",
    "                if dict[key][0] < partition[curr][1]:\n",
    "                    if dict[key][1] > partition[curr][1]:\n",
    "                        partition[curr][1] = dict[key][1]\n",
    "                else:\n",
    "                    result.append((partition[curr][1] - partition[curr][0]) + 1)\n",
    "                    curr += 1\n",
    "                    partition.append(dict[key])\n",
    "        \n",
    "        if len(partition) > 1:\n",
    "            result.append((partition[curr][1] - partition[curr][0]) + 1)\n",
    "        elif len(partition) == 1 and len(result) == 0:\n",
    "            result.append((partition[curr][1] - partition[curr][0]) + 1)\n",
    "        return result\n",
    "\n",
    "class Solution_Better:\n",
    "    def partitionLabels(self, S: str) -> List[int]:\n",
    "        rightmost = {c:i for i, c in enumerate(S)}\n",
    "        left, right = 0, 0\n",
    "        \n",
    "        result = []\n",
    "        for i, letter in enumerate(S):\n",
    "            right = max(right, rightmost[letter])\n",
    "            if i == right:\n",
    "                result+=[right-left+1]\n",
    "                left = i+1\n",
    "        return result\n",
    "# Figure out the rightmost index first and use it to denote the start of the next section.\n",
    "# Reset the left pointer at the start of each new section.\n",
    "# Store the difference of right and left pointers + 1 as in the result for each section.\n",
    "t1 = \"abbbbbacccccddddc\"\n",
    "t2 = \"abaabcdcd\"\n",
    "t3 = \"ababcbeee\"\n",
    "t4 = \"ababcbacadefegdehijhklij\"\n",
    "t5 = \"a\"\n",
    "t6 = \"eccbbbbdec\"\n",
    "s = Solution_Better()\n",
    "s.partitionLabels(t1)"
   ]
  },
  {
   "cell_type": "code",
   "execution_count": 21,
   "metadata": {},
   "outputs": [
    {
     "data": {
      "text/plain": [
       "[]"
      ]
     },
     "execution_count": 21,
     "metadata": {},
     "output_type": "execute_result"
    }
   ],
   "source": [
    "from typing import List\n",
    "#17:40\n",
    "class Solution:\n",
    "    def countBits(self, num: int) -> List[int]:\n",
    "        bits = [[0,0], [1, 1], [1, 1], [2, 3], [4, 7]]\n",
    "        dict = {1:1, 2:1, 4:1}\n",
    "        result = []\n",
    "        \n",
    "        for i in range(5, 6, 1):\n",
    "            double = bits[i-1][0]*2\n",
    "            bits.append([double, (double*2)-1])\n",
    "            dict[double] = 1\n",
    "        \n",
    "        \n",
    "        \n",
    "        return []\n",
    "        \n",
    "s = Solution()\n",
    "s.countBits(5)"
   ]
  },
  {
   "cell_type": "code",
   "execution_count": 23,
   "metadata": {},
   "outputs": [],
   "source": [
    "class Solution:\n",
    "    def findUnsortedSubarray(self, nums: List[int]) -> int:\n",
    "        original = nums\n",
    "        sorted_nums = sorted(nums)"
   ]
  },
  {
   "cell_type": "code",
   "execution_count": null,
   "metadata": {},
   "outputs": [],
   "source": [
    "from typing import List\n",
    "class Solution:\n",
    "    def findUnsortedSubarray(self, nums: List[int]) -> int:\n",
    "        original = nums\n",
    "        sorted_nums = sorted(nums)\n",
    "        \n",
    "        start = -1\n",
    "        finish = start\n",
    "        for i in range(len(sorted_nums)):\n",
    "            if start == -1 and sorted_nums[i] != original[i]:\n",
    "                start = i\n",
    "            elif sorted_nums[i] != original[i]:\n",
    "                finish = i\n",
    "                \n",
    "        result = finish-start \n",
    "        if result == 0:\n",
    "            return result\n",
    "        else:\n",
    "            return result + 1\n",
    "            \n",
    "        \n",
    "        \n",
    "t1 = [2, 6, 4, 8, 10, 9, 15]\n",
    "t2 = [2, 1]\n",
    "s = Solution()\n",
    "s.findUnsortedSubarray(t2)"
   ]
  },
  {
   "cell_type": "code",
   "execution_count": 25,
   "metadata": {},
   "outputs": [
    {
     "data": {
      "text/plain": [
       "1"
      ]
     },
     "execution_count": 25,
     "metadata": {},
     "output_type": "execute_result"
    }
   ],
   "source": [
    "from typing import List\n",
    "class Solution_OG:\n",
    "    def maxProfit(self, prices: List[int]) -> int:\n",
    "        n = len(prices)\n",
    "        max_price = [prices[-1], n-1]\n",
    "        min_price = [prices[0], 0]\n",
    "        \n",
    "        combination = []\n",
    "        \n",
    "        for i, price in enumerate(prices):\n",
    "            if price < min_price[0] and i < max_price[1]:\n",
    "                min_price = [price, i]\n",
    "            elif price < min_price[0] and i > max_price[1]:\n",
    "                combination.append(max_price[0] - min_price[0])\n",
    "                min_price = [price, i]\n",
    "                max_price = [price, i]\n",
    "            if price > max_price[0] and i > min_price[1]:\n",
    "                max_price = [price, i]\n",
    "                \n",
    "        combination.append(max_price[0] - min_price[0])\n",
    "        \n",
    "        result = max(combination)\n",
    "        if result > 0:\n",
    "            return result\n",
    "        return 0\n",
    "\n",
    "class Solution:\n",
    "    def maxProfit(self, prices: List[int]) -> int:\n",
    "        if len(prices) < 2:\n",
    "            return 0\n",
    "        \n",
    "        minPrice = max(prices)\n",
    "        maxProfit = 0\n",
    "        \n",
    "        for i, price in enumerate(prices):\n",
    "            if price < minPrice:\n",
    "                minPrice = price\n",
    "            elif ((price - minPrice) > maxProfit):\n",
    "                maxProfit = price - minPrice\n",
    "        return maxProfit\n",
    "        \n",
    "t1 = [7,1,5,3,6,4]\n",
    "s1 = 5\n",
    "t2 = [5, 4, 3, 2, 1]\n",
    "t3 = [2, 5, 6, 1, 9]\n",
    "t4 = [1, 2]\n",
    "s = Solution()\n",
    "s.maxProfit([1,2])"
   ]
  },
  {
   "cell_type": "code",
   "execution_count": 1,
   "metadata": {},
   "outputs": [
    {
     "data": {
      "text/plain": [
       "[[1, 2, 3], [2, 1, 3], [3, 1, 2]]"
      ]
     },
     "execution_count": 1,
     "metadata": {},
     "output_type": "execute_result"
    }
   ],
   "source": [
    "from typing import List\n",
    "class Solution:\n",
    "    def permute(self, nums: List[int]) -> List[List[int]]:\n",
    "        n = len(nums)\n",
    "        result = []\n",
    "        \n",
    "        for i in range(n):\n",
    "            curr = [nums[i]]\n",
    "            for j in range(n):\n",
    "                if i != j:\n",
    "                    curr.append(nums[j])\n",
    "                if j == (n-1):\n",
    "                    result.append(curr)\n",
    "        \n",
    "        return result\n",
    "\n",
    "t1 = [1,2,3]\n",
    "s = Solution()\n",
    "s.permute(nums=t1)"
   ]
  },
  {
   "cell_type": "code",
   "execution_count": 1,
   "metadata": {},
   "outputs": [
    {
     "data": {
      "text/plain": [
       "'the cat was rat by the bat'"
      ]
     },
     "execution_count": 1,
     "metadata": {},
     "output_type": "execute_result"
    }
   ],
   "source": [
    "from typing import List\n",
    "# 19:30 - 19:48\n",
    "class Solution:\n",
    "    def replaceWords(self, dictionary: List[str], sentence: str) -> str:\n",
    "        roots = {}\n",
    "        result = \"\"\n",
    "        \n",
    "        for i, root in enumerate(dictionary):\n",
    "            roots[root] = i\n",
    "\n",
    "        split_sent = sentence.split()\n",
    "        \n",
    "        for i, word in enumerate(split_sent):\n",
    "            for j in range(len(word)+1):\n",
    "                if word[:j] in roots:\n",
    "                    result += str(dictionary[roots[word[:j]]]) + \" \"\n",
    "                    break\n",
    "                if word[:j] == word:\n",
    "                    result += str(word) + \" \"\n",
    "        return result.rstrip()\n",
    "            \n",
    "        \n",
    "dictionary = [\"cat\",\"bat\",\"rat\"]\n",
    "sentence = \"the cattle was rattled by the battery\"\n",
    "output = \"the cat was rat by the bat\"\n",
    "s = Solution()\n",
    "s.replaceWords(dictionary, sentence)"
   ]
  },
  {
   "cell_type": "code",
   "execution_count": 83,
   "metadata": {
    "scrolled": true
   },
   "outputs": [
    {
     "name": "stdout",
     "output_type": "stream",
     "text": [
      "1\n",
      "2\n",
      "3\n",
      "defaultdict(<class 'list'>, {0: [0, 1, 2, 3]})\n",
      "[]\n"
     ]
    },
    {
     "data": {
      "text/plain": [
       "10"
      ]
     },
     "execution_count": 83,
     "metadata": {},
     "output_type": "execute_result"
    }
   ],
   "source": [
    "from typing import List\n",
    "from collections import defaultdict\n",
    "class Solution:\n",
    "    def subarraySum_OG(self, nums: List[int], k: int) -> int:\n",
    "        total = 0\n",
    "        cumulative_sum = [nums[0]] * len(nums)\n",
    "        \n",
    "        for i in range(1, len(cumulative_sum)):\n",
    "            cumulative_sum[i] = nums[i] + cumulative_sum[i-1]\n",
    "                \n",
    "        sum_dict = {cumulative_sum[i]: i for i in range(len(cumulative_sum))}\n",
    "                \n",
    "        for i, num in enumerate(cumulative_sum):\n",
    "            if num == k:\n",
    "                total += 1\n",
    "            if num >= k and (num - k) in sum_dict:\n",
    "                total += 1 \n",
    "        return total \n",
    "    \n",
    "    def subarraySum(self, nums: List[int], k: int) -> int:\n",
    "        d = defaultdict(list)\n",
    "        totalSum = 0\n",
    "        total = 0\n",
    "        \n",
    "        for i, num in enumerate(nums):\n",
    "            totalSum += num\n",
    "            if totalSum == k:\n",
    "                total += 1\n",
    "            if totalSum-k in d:\n",
    "                total += len(d[totalSum-k])\n",
    "            d[totalSum].append(i)\n",
    "        return total\n",
    "        \n",
    "nums = [1,1,1]\n",
    "t2 = [1, 2, 3, 4]\n",
    "t1 = [1,2,3,4,1,3]\n",
    "t3 = [0, 0, 0, 0] #10\n",
    "t4 = [0,0,0,0,0,0,0,0,0,0]\n",
    "s4 = 55\n",
    "k = 2\n",
    "s = Solution()\n",
    "s.subarraySum(t3, 0)\n",
    "# [28,54,7,-70,22,65,-6]\n",
    "# 100"
   ]
  },
  {
   "cell_type": "code",
   "execution_count": 88,
   "metadata": {},
   "outputs": [
    {
     "data": {
      "text/plain": [
       "0"
      ]
     },
     "execution_count": 88,
     "metadata": {},
     "output_type": "execute_result"
    }
   ],
   "source": [
    "class Solution:\n",
    "    def busyStudent(self, startTime: List[int], endTime: List[int], queryTime: int) -> int:\n",
    "        totalStudent = 0\n",
    "        for i, num in enumerate(startTime):\n",
    "            if queryTime >= startTime[i] and queryTime <= endTime[i]:\n",
    "                totalStudent += 1\n",
    "        return totalStudent\n",
    "        \n",
    "        \n",
    "t1 = [1,2,3]\n",
    "t1a = [3,2,7]\n",
    "q1 = 4\n",
    "s = Solution()\n",
    "s.busyStudent([4], [4], 5)"
   ]
  },
  {
   "cell_type": "code",
   "execution_count": 1,
   "metadata": {},
   "outputs": [
    {
     "data": {
      "text/plain": [
       "1"
      ]
     },
     "execution_count": 1,
     "metadata": {},
     "output_type": "execute_result"
    }
   ],
   "source": [
    "class Solution:\n",
    "    def lengthOfLongestSubstring(self, s: str) -> int:\n",
    "        if len(s) == 0:\n",
    "            return 0\n",
    "        \n",
    "        longest = 0\n",
    "        seen = {}\n",
    "        \n",
    "        amount = 0\n",
    "        for i in range(0, len(s)):\n",
    "            amount += 1\n",
    "            if s[i] in seen:\n",
    "                if (amount-1) > longest:\n",
    "                    longest = amount-1\n",
    "                amount = 1\n",
    "                seen = {}\n",
    "                seen[s[i]] = 1\n",
    "            else:\n",
    "                seen[s[i]] = 1\n",
    "            \n",
    "            if amount > longest:\n",
    "                longest = amount\n",
    "                   \n",
    "        return longest\n",
    "            \n",
    "               \n",
    "        \n",
    "b = \"pwwke\"\n",
    "t2 = \"bbbb\"\n",
    "t3 = \"abcabcbb\"\n",
    "t4 = \"abcdefg\"\n",
    "s = Solution()\n",
    "s.lengthOfLongestSubstring(\"aa\")"
   ]
  },
  {
   "cell_type": "code",
   "execution_count": 32,
   "metadata": {},
   "outputs": [
    {
     "data": {
      "text/plain": [
       "True"
      ]
     },
     "execution_count": 32,
     "metadata": {},
     "output_type": "execute_result"
    }
   ],
   "source": [
    "from typing import List\n",
    "\n",
    "class Solution:\n",
    "    def findMin(self, nums: List[int]) -> int:\n",
    "        low = 0\n",
    "        high = len(nums)-1\n",
    "        \n",
    "        \n",
    "        return min(nums)\n",
    "    \n",
    "    def binarySearch(self, nums, target):\n",
    "        low = 0\n",
    "        high = len(nums)-1\n",
    "        mid = 0\n",
    "        \n",
    "        while high >= low:\n",
    "            mid = low + int((high-low) / 2)\n",
    "            if nums[mid] == target:\n",
    "                return True\n",
    "            elif target > nums[mid]:\n",
    "                low = mid + 1\n",
    "            else:\n",
    "                high = mid - 1\n",
    "        return False\n",
    "    \n",
    "a = [0,1,2,4,5,6,7]\n",
    "b = [4,5,6,7,0,1,2]\n",
    "s = Solution()\n",
    "s.binarySearch(a, 6)"
   ]
  },
  {
   "cell_type": "code",
   "execution_count": 1,
   "metadata": {},
   "outputs": [
    {
     "data": {
      "text/plain": [
       "[[-1, 0, 1], [-1, -1, 2]]"
      ]
     },
     "execution_count": 1,
     "metadata": {},
     "output_type": "execute_result"
    }
   ],
   "source": [
    "from typing import List\n",
    "from collections import OrderedDict\n",
    "class Solution:\n",
    "    def threeSum(self, nums: List[int]) -> List[List[int]]:\n",
    "        result = []\n",
    "        seen = {}\n",
    "        \n",
    "        if len(nums) < 3: \n",
    "            return result\n",
    "        \n",
    "        for i, num in enumerate(nums):\n",
    "            a = nums[i]\n",
    "            for j in range(i+1, len(nums)):\n",
    "                b = nums[j]\n",
    "                check = 0\n",
    "                if a + b  == 0:\n",
    "                    check = 0\n",
    "                elif a + b < 0:\n",
    "                    check = abs(a+b)\n",
    "                else:\n",
    "                    check = (a+b) * -1\n",
    "                if check in seen:\n",
    "                    result.append([a, b, check])\n",
    "            seen[num] = num\n",
    "            \n",
    "        c = ([list(i) for i in {*[tuple(sorted(i)) for i in result]}])   \n",
    "        return c\n",
    "        \n",
    "nums = [-1,0,1,2,-1,-4]\n",
    "res = [[-1,-1,2],[-1,0,1]]\n",
    "s = Solution()\n",
    "s.threeSum(nums)"
   ]
  },
  {
   "cell_type": "code",
   "execution_count": 3,
   "metadata": {},
   "outputs": [],
   "source": [
    "class Solution:\n",
    "    def topKFrequent(self, nums: List[int], k: int) -> List[int]:\n",
    "        return None\n",
    "        \n",
    "    # 180 ms 18%\n",
    "    def topKFrequent_original(self, nums: List[int], k: int) -> List[int]:\n",
    "        freqDict = {}\n",
    "        result = [[0,0]] * k\n",
    "        for i, num in enumerate(nums):\n",
    "            if num in freqDict:\n",
    "                freqDict[num] += 1\n",
    "            else:\n",
    "                freqDict[num] = 1\n",
    "                \n",
    "        for key in freqDict:\n",
    "            result = self.bubbleSortOf(result, key, freqDict[key])\n",
    "        return [i[0] for i in result]\n",
    "         \n",
    "        \n",
    "    def bubbleSortOf(self, result: List[int], n: int, freq: int):\n",
    "        if freq > result[0][1] or freq >= result[-1][1]:\n",
    "            for i in range(len(result)-1, -1, -1):\n",
    "                if freq > result[i][1]:\n",
    "                    result[:i] = result[1:i+1]\n",
    "                    result[i] = [n, freq]\n",
    "                    break\n",
    "        return result\n",
    "                    \n",
    "\n",
    "\n",
    "a = [[1], [2], [3], [4]]\n",
    "t1 = [1,1,1,2,2,3]\n",
    "s = Solution()\n",
    "s.topKFrequent(t1, 1)"
   ]
  },
  {
   "cell_type": "markdown",
   "metadata": {},
   "source": [
    "### 3. Longest Substring Without Repeating Characters\n",
    "\n",
    "Input: s = \"pwwkew\"\n",
    "Output: 3\n",
    "Explanation: The answer is \"wke\", with the length of 3.\n",
    "Notice that the answer must be a substring, \"pwke\" is a subsequence and not a substring."
   ]
  },
  {
   "cell_type": "code",
   "execution_count": 11,
   "metadata": {},
   "outputs": [
    {
     "data": {
      "text/plain": [
       "6"
      ]
     },
     "execution_count": 11,
     "metadata": {},
     "output_type": "execute_result"
    }
   ],
   "source": [
    "class Solution: # < 30 - 8% runtime and 100% memmory\n",
    "    def lengthOfLongestSubstring_original(self, s: str) -> int:\n",
    "        if not s: return 0\n",
    "        result = 0\n",
    "        seen = {}\n",
    "        \n",
    "        start = 0\n",
    "        index = 0\n",
    "        currResult = 0\n",
    "        \n",
    "        while index <= len(s)-1:\n",
    "            if not seen:\n",
    "                start = index \n",
    "            \n",
    "            if s[index] not in seen:\n",
    "                currResult += 1\n",
    "                seen[s[index]] = index\n",
    "            else:\n",
    "                seen = {}\n",
    "                currResult = 0\n",
    "                \n",
    "            result = max(result, currResult)      \n",
    "            index += 1\n",
    "            \n",
    "            if not seen:\n",
    "                index = start+1\n",
    "        return result\n",
    "    \n",
    "    # Sliding window trick\n",
    "    def lengthOfLongestSubstring(self, s: str) -> int:\n",
    "        used = {}\n",
    "        maxLength = start = 0\n",
    "        \n",
    "        for i, char in enumerate(s):\n",
    "            if char in used and start <= used[char]:\n",
    "                start = used[char] + 1\n",
    "            else:\n",
    "                maxLength = max(maxLength, i-start+1)\n",
    "            used[char] = i\n",
    "        return maxLength\n",
    "\n",
    "t1 = \"pwwkewabc\"\n",
    "s1 = 3\n",
    "s = Solution()\n",
    "s.lengthOfLongestSubstring(t1)"
   ]
  },
  {
   "cell_type": "code",
   "execution_count": 2,
   "metadata": {},
   "outputs": [
    {
     "ename": "SyntaxError",
     "evalue": "invalid syntax (<ipython-input-2-a6cb406f1bcb>, line 15)",
     "output_type": "error",
     "traceback": [
      "\u001b[1;36m  File \u001b[1;32m\"<ipython-input-2-a6cb406f1bcb>\"\u001b[1;36m, line \u001b[1;32m15\u001b[0m\n\u001b[1;33m    if char == 8 and char is\u001b[0m\n\u001b[1;37m                             ^\u001b[0m\n\u001b[1;31mSyntaxError\u001b[0m\u001b[1;31m:\u001b[0m invalid syntax\n"
     ]
    }
   ],
   "source": [
    "# class Solution:\n",
    "#     def calculate(self, s: str) -> int:\n",
    "#         operators = {\"+\": lambda x, y: x + y,\n",
    "#                      \"-\": lambda x, y: x - y,\n",
    "#                      \"*\": lambda x, y: x * y,\n",
    "#                      \"/\": lambda x, y: x // y}\n",
    "#         tracker = []\n",
    "#         stack = []\n",
    "#         result = 0\n",
    "#         currNum = None\n",
    "\n",
    "#         for i, char in enumerate(s):\n",
    "#             if char in operators:\n",
    "#                 stack.append(char)\n",
    "#                 if char == 8 and char is \n",
    "#             else:\n",
    "#                 tracker.append(int(char)) \n",
    "                \n",
    "            \n",
    "#             if i == len(s)-1:\n",
    "#                 for j in range(len(tracker)-1, 0, -1):\n",
    "#                     symbol = stack.pop()\n",
    "#                     tracker[j-1] = operators[symbol](tracker[j-1],tracker[j])\n",
    "#                 result += tracker[0]\n",
    "#         return result\n",
    "        \n",
    "    \n",
    "# t1 = \"3+2*2\"\n",
    "# t2 = \"3+2*5/1\"\n",
    "# t3 = \"4*3\"\n",
    "# t4 = \"4*6/2+8-2\"\n",
    "# s = Solution()\n",
    "# s.calculate(t3)"
   ]
  },
  {
   "cell_type": "code",
   "execution_count": 29,
   "metadata": {},
   "outputs": [
    {
     "data": {
      "text/plain": [
       "4"
      ]
     },
     "execution_count": 29,
     "metadata": {},
     "output_type": "execute_result"
    }
   ],
   "source": [
    "class Solution:\n",
    "    def minSteps(self, s: str, t: str) -> int:\n",
    "        sFreq = Counter(s)\n",
    "        total = 0\n",
    "        \n",
    "        for char in t:\n",
    "            if char in sFreq and sFreq[char] > 0:\n",
    "                sFreq[char] -= 1\n",
    "                \n",
    "        for key in sFreq:\n",
    "            total += sFreq[key]\n",
    "        \n",
    "        return total\n",
    "                \n",
    "t1 = \"bab\"\n",
    "t2 = \"aba\" \n",
    "a = \"friend\"\n",
    "w = \"family\"\n",
    "s = Solution()\n",
    "s.minSteps(a, w)"
   ]
  },
  {
   "cell_type": "code",
   "execution_count": 42,
   "metadata": {},
   "outputs": [
    {
     "name": "stdout",
     "output_type": "stream",
     "text": [
      "['mobile', 'moneypot', 'monitor', 'mouse', 'mousepad']\n",
      "Checking m\n",
      "Checking mo\n",
      "Checking mou\n",
      "Checking mous\n",
      "Checking mouse\n"
     ]
    },
    {
     "data": {
      "text/plain": [
       "[['mobile', 'moneypot', 'monitor'],\n",
       " ['mobile', 'moneypot', 'monitor'],\n",
       " ['mouse', 'mousepad'],\n",
       " ['mouse', 'mousepad'],\n",
       " ['mouse', 'mousepad']]"
      ]
     },
     "execution_count": 42,
     "metadata": {},
     "output_type": "execute_result"
    }
   ],
   "source": [
    "class Solution:\n",
    "    def suggestedProducts(self, products: List[str], searchWord: str) -> List[List[str]]:\n",
    "        result = []\n",
    "        products.sort()\n",
    "        print(products)\n",
    "        \n",
    "        for i in range(len(searchWord)):\n",
    "            currentResult = []\n",
    "            for word in products:\n",
    "                if len(word) >= len(searchWord[:i+1]):\n",
    "                    if searchWord[:i+1] == word[:i+1]:\n",
    "                        currentResult.append(word)\n",
    "            result.append(currentResult[:3])\n",
    "        return result\n",
    "        \n",
    "products = [\"mobile\",\"mouse\",\"moneypot\",\"monitor\",\"mousepad\"]\n",
    "searchWord = \"mouse\"\n",
    "s = Solution()\n",
    "s.suggestedProducts(products, searchWord)"
   ]
  }
 ],
 "metadata": {
  "kernelspec": {
   "display_name": "Python 3.8.2 64-bit",
   "language": "python",
   "name": "python38264bitd343ca77bf834830942a906cabbbade6"
  },
  "language_info": {
   "codemirror_mode": {
    "name": "ipython",
    "version": 3
   },
   "file_extension": ".py",
   "mimetype": "text/x-python",
   "name": "python",
   "nbconvert_exporter": "python",
   "pygments_lexer": "ipython3",
   "version": "3.8.2"
  }
 },
 "nbformat": 4,
 "nbformat_minor": 2
}
