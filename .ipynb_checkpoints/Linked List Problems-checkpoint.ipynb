{
 "cells": [
  {
   "cell_type": "markdown",
   "metadata": {},
   "source": [
    "# Linked List Problems"
   ]
  },
  {
   "cell_type": "code",
   "execution_count": 10,
   "metadata": {},
   "outputs": [
    {
     "name": "stdout",
     "output_type": "stream",
     "text": [
      "1->2->3->4->5->\n"
     ]
    }
   ],
   "source": [
    "class ListNode:\n",
    "    def __init__(self, x):\n",
    "         self.val = x\n",
    "         self.next = None\n",
    "\n",
    "class LinkedList:\n",
    "    def __init__(self):\n",
    "         self.head = None\n",
    "\n",
    "    def printList(self):\n",
    "        linkList = \"\"\n",
    "        current = self.head\n",
    "        while current is not None:\n",
    "            linkList += f\"{current.val}->\"\n",
    "            current = current.next\n",
    "        print(linkList)\n",
    "    \n",
    "    def prependTo(self, data):\n",
    "        new_head = ListNode(data)\n",
    "        new_head.next = self.head\n",
    "        self.head = new_head\n",
    "\n",
    "    def appendTo(self, data):\n",
    "        if self.head is None:\n",
    "            self.head = ListNode(data)\n",
    "        else:\n",
    "            current = self.head\n",
    "            while (current.next != None):\n",
    "                current = current.next\n",
    "            current.next = ListNode(data)\n",
    "\n",
    "    def deleteNode(self, data):\n",
    "        if self.head is None: \n",
    "            return\n",
    "        current = self.head\n",
    "        front = current.next\n",
    "        while front != None:\n",
    "            if (current is self.head and current.val is data):\n",
    "                self.head = front        \n",
    "            while (front and front.val is data):\n",
    "                current.next = front.next\n",
    "                front = front.next\n",
    "            current = current.next\n",
    "            front = front.next\n",
    "     \n",
    "lis = LinkedList()\n",
    "lis.head = ListNode(1)\n",
    "ls = [2, 3, 4, 5]\n",
    "for i in ls:\n",
    "    lis.appendTo(i)\n",
    "lis.printList()"
   ]
  },
  {
   "cell_type": "code",
   "execution_count": 27,
   "metadata": {},
   "outputs": [
    {
     "data": {
      "text/plain": [
       "False"
      ]
     },
     "execution_count": 27,
     "metadata": {},
     "output_type": "execute_result"
    }
   ],
   "source": [
    "linked = LinkedList()\n",
    "linked.head, linked_body = ListNode(1), [8, 3, 2, 1]\n",
    "for i in linked_body: linked.appendTo(i)\n",
    "    \n",
    "class Solution:\n",
    "    def isPalindrome(self, head: ListNode) -> bool:\n",
    "        visited = []\n",
    "        \n",
    "        current = head\n",
    "        while current:\n",
    "            visited.append(current.val)\n",
    "            current = current.next if current.next else None\n",
    "        current = head\n",
    "        for i in range(len(visited) - 1, -1, -1):\n",
    "            if visited[i] != current.val:\n",
    "                return False\n",
    "            current = current.next\n",
    "        return True\n",
    "            \n",
    "s = Solution()\n",
    "s.isPalindrome(linked.head)"
   ]
  },
  {
   "cell_type": "code",
   "execution_count": 30,
   "metadata": {},
   "outputs": [
    {
     "name": "stdout",
     "output_type": "stream",
     "text": [
      "[1, 2, 3, 4, 0, 0, 7, 8]\n"
     ]
    },
    {
     "data": {
      "text/plain": [
       "[1, 2, 3, 4, 0, 0, 7, 8]"
      ]
     },
     "execution_count": 30,
     "metadata": {},
     "output_type": "execute_result"
    }
   ],
   "source": [
    "from typing import List\n",
    "\n",
    "class Solution:\n",
    "    def findDisappearedNumbers(self, nums: List[int]) -> List[int]:\n",
    "        result = len(nums) * [0]\n",
    "        ans = []\n",
    "        \n",
    "        for i, num in enumerate(nums):\n",
    "            result[num-1] = num\n",
    "            \n",
    "        for i, num in enumerate(result):\n",
    "            if num is 0:\n",
    "                ans.append(i+1)\n",
    "        \n",
    "        return result\n",
    "        \n",
    "t1 = [4,3,2,7,8,2,3,1]\n",
    "\n",
    "s = Solution()\n",
    "s.findDisappearedNumbers(t1)"
   ]
  }
 ],
 "metadata": {
  "kernelspec": {
   "display_name": "Python 3.8.2 64-bit",
   "language": "python",
   "name": "python38264bitd343ca77bf834830942a906cabbbade6"
  },
  "language_info": {
   "codemirror_mode": {
    "name": "ipython",
    "version": 3
   },
   "file_extension": ".py",
   "mimetype": "text/x-python",
   "name": "python",
   "nbconvert_exporter": "python",
   "pygments_lexer": "ipython3",
   "version": "3.8.2"
  }
 },
 "nbformat": 4,
 "nbformat_minor": 4
}
