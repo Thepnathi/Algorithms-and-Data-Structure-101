{
 "cells": [
  {
   "cell_type": "markdown",
   "metadata": {},
   "source": [
    "# Stacks and Queues Problems"
   ]
  },
  {
   "cell_type": "markdown",
   "metadata": {},
   "source": [
    "Stack info:\n",
    "* Supports two operation, push and pop\n",
    "* When stack implemented as Linked List, those operations has O(1) time\n",
    "* when implemented as dynamic array, amortized time again is O(1)\n",
    "* Stack can implement additional operation sucgh as peek (returns top of stack without pop)"
   ]
  },
  {
   "cell_type": "code",
   "execution_count": 32,
   "metadata": {},
   "outputs": [
    {
     "data": {
      "text/plain": [
       "1"
      ]
     },
     "execution_count": 32,
     "metadata": {},
     "output_type": "execute_result"
    }
   ],
   "source": [
    "# Common Library \n",
    "from typing import List, Dict\n",
    "from collections import Counter, namedtuple\n",
    "from threading import Timer\n",
    "from random import randint\n",
    "import heapq\n",
    "\n",
    "class ListNode: \n",
    "    def __init__(self, data=0, next=None):\n",
    "        self.data = data\n",
    "        self.next = next\n",
    "\n",
    "class LinkedList:\n",
    "    def __init__(self, nums: List[int]) -> None:\n",
    "        self.head = self.initList(nums)\n",
    "    \n",
    "    def initList(self, nums: List[int]) -> ListNode:\n",
    "        head, dummy = None, None\n",
    "        for num in nums:\n",
    "            if not dummy:\n",
    "                dummy = ListNode(num)\n",
    "                head = dummy\n",
    "            else:\n",
    "                dummy.next = ListNode(num)\n",
    "                dummy = dummy.next\n",
    "        return head\n",
    "                \n",
    "    def head(self) -> ListNode:\n",
    "        return self.head\n",
    "    \n",
    "l = LinkedList([1,2,3])\n",
    "l.head.data"
   ]
  },
  {
   "cell_type": "markdown",
   "metadata": {},
   "source": [
    "## EPI Problems"
   ]
  },
  {
   "cell_type": "markdown",
   "metadata": {},
   "source": [
    "Implement stack with max operation O(1) time for max operation!"
   ]
  },
  {
   "cell_type": "code",
   "execution_count": 42,
   "metadata": {},
   "outputs": [
    {
     "ename": "SyntaxError",
     "evalue": "EOL while scanning string literal (<ipython-input-42-800a7fcfda22>, line 11)",
     "output_type": "error",
     "traceback": [
      "\u001b[1;36m  File \u001b[1;32m\"<ipython-input-42-800a7fcfda22>\"\u001b[1;36m, line \u001b[1;32m11\u001b[0m\n\u001b[1;33m    return self.stack[-1].max'\u001b[0m\n\u001b[1;37m                              ^\u001b[0m\n\u001b[1;31mSyntaxError\u001b[0m\u001b[1;31m:\u001b[0m EOL while scanning string literal\n"
     ]
    }
   ],
   "source": [
    "class Stack: \n",
    "    ElementWithCachedMax = namedtuple('ElementWithCachedMax', ('element', 'max'))\n",
    "    \n",
    "    def __init__(self) -> None:\n",
    "        self.stack: List[Stack.ElementWithCachedMax] = []\n",
    "            \n",
    "    def empty(self) -> bool:\n",
    "        return len(self.stack) == 0\n",
    "    \n",
    "    def max(self) -> int:\n",
    "        return self.stack[-1].max\n",
    "    \n",
    "    def peek(self) -> int:\n",
    "        return self.stack[-1].element\n",
    "    \n",
    "    def pop(self) -> int: \n",
    "        return self.stack.pop().element\n",
    "    \n",
    "    def push(self, x: int) -> None:\n",
    "        self.stack.append(self.ElementWithCachedMax(x, x if self.empty() else max(x, self.max())))\n",
    "        \n",
    "s = Stack()\n",
    "for i in range(1, 6): s.push(i)"
   ]
  }
 ],
 "metadata": {
  "kernelspec": {
   "display_name": "Python 3.8.2 64-bit",
   "language": "python",
   "name": "python38264bitd343ca77bf834830942a906cabbbade6"
  },
  "language_info": {
   "codemirror_mode": {
    "name": "ipython",
    "version": 3
   },
   "file_extension": ".py",
   "mimetype": "text/x-python",
   "name": "python",
   "nbconvert_exporter": "python",
   "pygments_lexer": "ipython3",
   "version": "3.8.2"
  }
 },
 "nbformat": 4,
 "nbformat_minor": 4
}
