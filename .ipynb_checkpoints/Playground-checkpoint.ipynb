{
 "cells": [
  {
   "cell_type": "code",
   "execution_count": 8,
   "metadata": {},
   "outputs": [
    {
     "data": {
      "text/plain": [
       "[1, 2, 3, 3, 5, 10]"
      ]
     },
     "execution_count": 8,
     "metadata": {},
     "output_type": "execute_result"
    }
   ],
   "source": [
    "li = [1, 3, 2, 5, 10, 3]\n",
    "sorted(li)"
   ]
  },
  {
   "cell_type": "code",
   "execution_count": 14,
   "metadata": {},
   "outputs": [
    {
     "data": {
      "text/plain": [
       "['banana', 'shakes']"
      ]
     },
     "execution_count": 14,
     "metadata": {},
     "output_type": "execute_result"
    }
   ],
   "source": [
    "words = \"banana shakes\"\n",
    "words.split(' ')"
   ]
  },
  {
   "cell_type": "code",
   "execution_count": 22,
   "metadata": {},
   "outputs": [
    {
     "data": {
      "text/plain": [
       "'hello'"
      ]
     },
     "execution_count": 22,
     "metadata": {},
     "output_type": "execute_result"
    }
   ],
   "source": [
    "abc = \"acdbc\"\n",
    "sorted(abc)\n",
    "\n",
    "big = \"HELLO\"\n",
    "lower_big = big.lower()\n",
    "lower_big"
   ]
  },
  {
   "cell_type": "code",
   "execution_count": 1,
   "metadata": {},
   "outputs": [
    {
     "data": {
      "text/plain": [
       "2.5"
      ]
     },
     "execution_count": 1,
     "metadata": {},
     "output_type": "execute_result"
    }
   ],
   "source": [
    "a = [1, 2, 3, 4, 5]\n",
    "len(a) / 2"
   ]
  },
  {
   "cell_type": "code",
   "execution_count": 31,
   "metadata": {},
   "outputs": [],
   "source": [
    "from typing import List\n",
    "from itertools import accumulate\n",
    "\n",
    "class Solution_1480:\n",
    "    def runningSum(self, nums: List[int]) -> List[int]:\n",
    "        addition = 0\n",
    "        result = []\n",
    "        for i, num in enumerate(nums):\n",
    "            result.append(num + addition)\n",
    "            addition += num\n",
    "        return result\n",
    "\n",
    "class Solution_1480_Better:\n",
    "    def runningSum(self, nums: List[int]) -> List[int]:\n",
    "        return accumulate(nums)\n",
    "        \n",
    "\n",
    "n = [1,2,3,4]\n",
    "o = [1,3,6,10]"
   ]
  },
  {
   "cell_type": "code",
   "execution_count": 2,
   "metadata": {},
   "outputs": [
    {
     "data": {
      "text/plain": [
       "-1"
      ]
     },
     "execution_count": 2,
     "metadata": {},
     "output_type": "execute_result"
    }
   ],
   "source": [
    "# Input: sentence = \"i love eating burger\", searchWord = \"burg\"\n",
    "# Output: 4\n",
    "# Explanation: \"burg\" is prefix of \"burger\" which is the 4th word in the sentence.\n",
    "\n",
    "\n",
    "# Input: sentence = \"this problem is an easy problem\", searchWord = \"pro\"\n",
    "# Output: 2\n",
    "# Explanation: \"pro\" is prefix of \"problem\" which is the 2nd and the 6th word in the sentence,\n",
    "# but we return 2 as it's the minimal index.\n",
    "\n",
    "class Solution_1455:\n",
    "    def isPrefixOfWord(self, sentence: str, searchWord: str) -> int:\n",
    "        for i, word in enumerate(sentence.split()):\n",
    "            if len(word) >= len(searchWord):\n",
    "                if word[0:len(searchWord)] == searchWord:\n",
    "                    return i + 1\n",
    "        return -1\n",
    "        \n",
    "        \n",
    "sentence = \"i love eating burger\"\n",
    "sen2 = \"this problem is an easy problem\"\n",
    "sen3 = \"hello\"\n",
    "\n",
    "s = Solution_1455()\n",
    "s.isPrefixOfWord(sen3, 'ello')"
   ]
  },
  {
   "cell_type": "code",
   "execution_count": 21,
   "metadata": {},
   "outputs": [],
   "source": [
    "class Solution:\n",
    "    def uniquePaths(self, m: int, n: int) -> int:\n",
    "        return -1\n",
    "    \n",
    "def print_matrix(m):\n",
    "    for i in m:\n",
    "        print(i)"
   ]
  },
  {
   "cell_type": "code",
   "execution_count": 35,
   "metadata": {},
   "outputs": [
    {
     "name": "stdout",
     "output_type": "stream",
     "text": [
      "[0, 0, 0]\n",
      "[0, 0, 1]\n"
     ]
    },
    {
     "data": {
      "text/plain": [
       "1"
      ]
     },
     "execution_count": 35,
     "metadata": {},
     "output_type": "execute_result"
    }
   ],
   "source": [
    "from typing import List\n",
    "\n",
    "m: List[int] = [[0] * 3 for i in range(2)]\n",
    "\n",
    "def cm(m: int, n: int, matrix: List[int]) -> List[int]:\n",
    "    visited = {}\n",
    "    for i in range(0, n):\n",
    "        for j in range(1, m):\n",
    "            matrix[i][j] = 1\n",
    "    return matrix\n",
    "\n",
    "def countpaths(matrix: List[int], row, col):\n",
    "    matrix[-1][-1] = 1\n",
    "    if matrix[-1][-1] == matrix[row][col]:\n",
    "        return 1\n",
    "    return 1\n",
    "\n",
    "m[1][2] = 1\n",
    "print_matrix(m)\n",
    "\n",
    "m[-1][-1]"
   ]
  },
  {
   "cell_type": "code",
   "execution_count": null,
   "metadata": {},
   "outputs": [],
   "source": []
  }
 ],
 "metadata": {
  "kernelspec": {
   "display_name": "Python 3.8.2 64-bit",
   "language": "python",
   "name": "python38264bitd343ca77bf834830942a906cabbbade6"
  },
  "language_info": {
   "codemirror_mode": {
    "name": "ipython",
    "version": 3
   },
   "file_extension": ".py",
   "mimetype": "text/x-python",
   "name": "python",
   "nbconvert_exporter": "python",
   "pygments_lexer": "ipython3",
   "version": "3.8.2"
  }
 },
 "nbformat": 4,
 "nbformat_minor": 4
}
