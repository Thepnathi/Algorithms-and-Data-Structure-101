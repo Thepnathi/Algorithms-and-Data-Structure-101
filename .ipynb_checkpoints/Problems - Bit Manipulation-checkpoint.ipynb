{
 "cells": [
  {
   "cell_type": "markdown",
   "metadata": {},
   "source": [
    "# Bit Manipulation"
   ]
  },
  {
   "cell_type": "markdown",
   "metadata": {},
   "source": [
    "Write a program that takes an integer and tests whether the n-th bit in the binary representation of that integer\n",
    "is set or not.\n",
    "\n",
    "For instance, the binary representation of 6 is:\n",
    "    110\n",
    "\n",
    "The least significant bit is the bit on the far right\n",
    "of the binary representation and the most significant\n",
    "bit is the bit on the far left. We order the bits as\n",
    "\n",
    "b2, b1, b0\n",
    "1   1   0\n",
    "\n",
    "For our function, if we check the 0th bit, we should obtain\n",
    "\"False\" as the binary value at b0 is 0.\n",
    "\n",
    "Alternatively, if we check the 1st bit, we should obtain\n",
    "\"True\" as the binary value at b1 is 1."
   ]
  },
  {
   "cell_type": "markdown",
   "metadata": {},
   "source": [
    "### Problem"
   ]
  },
  {
   "cell_type": "code",
   "execution_count": 2,
   "metadata": {},
   "outputs": [],
   "source": [
    "# Example 1 1 0, which is 6, is the 3th bit set?\n",
    "# Right shift that by 3, so 1 << nth\n",
    "# 1 1 0\n",
    "# 1 0 0\n",
    "\n",
    "def is_integer_nth_bit_set(num: int, nth: int) -> bool:\n",
    "    if num & (1 << nth):\n",
    "        return True\n",
    "    return False"
   ]
  },
  {
   "cell_type": "markdown",
   "metadata": {},
   "source": [
    "### Arithmetic and Logical Shifting"
   ]
  },
  {
   "cell_type": "code",
   "execution_count": 5,
   "metadata": {},
   "outputs": [
    {
     "data": {
      "text/plain": [
       "0"
      ]
     },
     "execution_count": 5,
     "metadata": {},
     "output_type": "execute_result"
    }
   ],
   "source": [
    "def rshift(val, n): return (val % 0x100000000) >> n\n",
    "\n",
    "def repeat_arithmetic_shift(num, count) -> int:\n",
    "    # We keep the sign bit\n",
    "    for i in range(0, count, 1):\n",
    "        num >>= 1 # Arithmetic shift by 1\n",
    "    return num\n",
    "    \n",
    "def repeat_logical_shift(num: int, count: int):\n",
    "    for i in range(0, count, 1):\n",
    "        num = rshift(num, 1)\n",
    "    return num\n",
    "\n",
    "repeat_arithmetic_shift(-93242, 40)\n",
    "repeat_logical_shift(-93242, 40)"
   ]
  },
  {
   "cell_type": "code",
   "execution_count": 11,
   "metadata": {},
   "outputs": [
    {
     "name": "stdout",
     "output_type": "stream",
     "text": [
      "4294968307\n"
     ]
    },
    {
     "data": {
      "text/plain": [
       "0"
      ]
     },
     "execution_count": 11,
     "metadata": {},
     "output_type": "execute_result"
    }
   ],
   "source": [
    "class Solution:\n",
    "    def hammingWeight(self, n: int) -> int:\n",
    "        \n",
    "        for i in n:\n",
    "            print(i)\n",
    "        return total_bits\n",
    "    \n",
    "signed_int = -1\n",
    "unsigned_int = signed_int + 2**32\n",
    "s = Solution()\n",
    "s.hammingWeight(1011)"
   ]
  },
  {
   "cell_type": "code",
   "execution_count": 4,
   "metadata": {},
   "outputs": [
    {
     "data": {
      "text/plain": [
       "2"
      ]
     },
     "execution_count": 4,
     "metadata": {},
     "output_type": "execute_result"
    }
   ],
   "source": [
    "def count_bits(x: int) -> int:\n",
    "    total_bits = 0\n",
    "    while x:\n",
    "        total_bits += x & 1\n",
    "        x >>= 1\n",
    "    return total_bits\n",
    "\n",
    "count_bits(6)"
   ]
  }
 ],
 "metadata": {
  "kernelspec": {
   "display_name": "Python 3.8.2 64-bit",
   "language": "python",
   "name": "python38264bitd343ca77bf834830942a906cabbbade6"
  },
  "language_info": {
   "codemirror_mode": {
    "name": "ipython",
    "version": 3
   },
   "file_extension": ".py",
   "mimetype": "text/x-python",
   "name": "python",
   "nbconvert_exporter": "python",
   "pygments_lexer": "ipython3",
   "version": "3.8.2"
  }
 },
 "nbformat": 4,
 "nbformat_minor": 4
}
